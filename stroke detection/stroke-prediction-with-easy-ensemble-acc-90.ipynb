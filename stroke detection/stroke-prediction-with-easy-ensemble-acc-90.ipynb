{
 "cells": [
  {
   "cell_type": "markdown",
   "id": "encouraging-melissa",
   "metadata": {
    "papermill": {
     "duration": 0.093283,
     "end_time": "2021-04-15T16:42:37.799044",
     "exception": false,
     "start_time": "2021-04-15T16:42:37.705761",
     "status": "completed"
    },
    "tags": []
   },
   "source": [
    "# Stroke Prediction with ensemble\n",
    " - Random Forest Classifier : Accuracy - 0.90 \n",
    " - Gradient Boosting Classifier : Accuracy - 0.89\n",
    "\n",
    "**Context**\n",
    "\n",
    "According to the World Health Organization (WHO) stroke is the 2nd leading cause of death globally, responsible for approximately 11% of total deaths. \n",
    "This dataset is used to predict whether a patient is likely to get stroke based on the input parameters like gender, age, various diseases, and smoking status. Each row in the data provides relavant information about the patient.\n",
    "\n",
    "**Attribute Information**\n",
    "\n",
    "- 1) id: unique identifier\n",
    "- 2) gender: \"Male\", \"Female\" or \"Other\"\n",
    "- 3) age: age of the patient\n",
    "- 4) hypertension: 0 if the patient doesn't have hypertension, 1 if the patient has hypertension\n",
    "- 5) heart_disease: 0 if the patient doesn't have any heart diseases, 1 if the patient has a heart disease\n",
    "- 6) ever_married: \"No\" or \"Yes\"\n",
    "- 7) work_type: \"children\", \"Govt_jov\", \"Never_worked\", \"Private\" or \"Self-employed\"\n",
    "- 8) Residence_type: \"Rural\" or \"Urban\"\n",
    "- 9) avg_glucose_level: average glucose level in blood\n",
    "- 10) bmi: body mass index\n",
    "- 11) smoking_status: \"formerly smoked\", \"never smoked\", \"smokes\" or \"Unknown\"*\n",
    "- 12) stroke: 1 if the patient had a stroke or 0 if not\n",
    "\n",
    "*Note: \"Unknown\" in smoking_status means that the information is unavailable for this patient\n",
    "\n"
   ]
  },
  {
   "cell_type": "markdown",
   "id": "armed-turner",
   "metadata": {
    "papermill": {
     "duration": 0.092245,
     "end_time": "2021-04-15T16:42:37.982501",
     "exception": false,
     "start_time": "2021-04-15T16:42:37.890256",
     "status": "completed"
    },
    "tags": []
   },
   "source": [
    "---\n",
    "### Contents(index)\n",
    "```\n",
    "Step 1. Data Load & EDA\n",
    "Step 2. Feature Engineering\n",
    "     2-a. Binary Features\n",
    "     2-b. Continuous Features\n",
    "     2-c. Categorical Features\n",
    "Step 3. Train / Test set Split & Upsampling\n",
    "Step 4. Modeling & Prediction\n",
    "```"
   ]
  },
  {
   "cell_type": "markdown",
   "id": "chief-footwear",
   "metadata": {
    "papermill": {
     "duration": 0.091732,
     "end_time": "2021-04-15T16:42:38.166125",
     "exception": false,
     "start_time": "2021-04-15T16:42:38.074393",
     "status": "completed"
    },
    "tags": []
   },
   "source": [
    "### Step 1. Data Load & EDA"
   ]
  },
  {
   "cell_type": "code",
   "execution_count": 1,
   "id": "binary-asthma",
   "metadata": {
    "execution": {
     "iopub.execute_input": "2021-04-15T16:42:38.352658Z",
     "iopub.status.busy": "2021-04-15T16:42:38.351470Z",
     "iopub.status.idle": "2021-04-15T16:42:38.356839Z",
     "shell.execute_reply": "2021-04-15T16:42:38.356031Z"
    },
    "papermill": {
     "duration": 0.100415,
     "end_time": "2021-04-15T16:42:38.357008",
     "exception": false,
     "start_time": "2021-04-15T16:42:38.256593",
     "status": "completed"
    },
    "tags": []
   },
   "outputs": [],
   "source": [
    "import pandas as pd"
   ]
  },
  {
   "cell_type": "code",
   "execution_count": 2,
   "id": "logical-spiritual",
   "metadata": {
    "execution": {
     "iopub.execute_input": "2021-04-15T16:42:38.545058Z",
     "iopub.status.busy": "2021-04-15T16:42:38.544384Z",
     "iopub.status.idle": "2021-04-15T16:42:39.271803Z",
     "shell.execute_reply": "2021-04-15T16:42:39.272330Z"
    },
    "papermill": {
     "duration": 0.821754,
     "end_time": "2021-04-15T16:42:39.272529",
     "exception": false,
     "start_time": "2021-04-15T16:42:38.450775",
     "status": "completed"
    },
    "tags": []
   },
   "outputs": [
    {
     "name": "stdout",
     "output_type": "stream",
     "text": [
      "__notebook__.ipynb\r\n"
     ]
    }
   ],
   "source": [
    "ls"
   ]
  },
  {
   "cell_type": "code",
   "execution_count": 3,
   "id": "serious-portsmouth",
   "metadata": {
    "execution": {
     "iopub.execute_input": "2021-04-15T16:42:39.467784Z",
     "iopub.status.busy": "2021-04-15T16:42:39.466903Z",
     "iopub.status.idle": "2021-04-15T16:42:39.507177Z",
     "shell.execute_reply": "2021-04-15T16:42:39.506498Z"
    },
    "papermill": {
     "duration": 0.143573,
     "end_time": "2021-04-15T16:42:39.507353",
     "exception": false,
     "start_time": "2021-04-15T16:42:39.363780",
     "status": "completed"
    },
    "tags": []
   },
   "outputs": [],
   "source": [
    "df = pd.read_csv('../input/stroke-prediction-dataset/healthcare-dataset-stroke-data.csv')"
   ]
  },
  {
   "cell_type": "code",
   "execution_count": 4,
   "id": "streaming-transportation",
   "metadata": {
    "execution": {
     "iopub.execute_input": "2021-04-15T16:42:39.712906Z",
     "iopub.status.busy": "2021-04-15T16:42:39.712079Z",
     "iopub.status.idle": "2021-04-15T16:42:39.740682Z",
     "shell.execute_reply": "2021-04-15T16:42:39.740036Z"
    },
    "papermill": {
     "duration": 0.133912,
     "end_time": "2021-04-15T16:42:39.740830",
     "exception": false,
     "start_time": "2021-04-15T16:42:39.606918",
     "status": "completed"
    },
    "tags": []
   },
   "outputs": [
    {
     "data": {
      "text/html": [
       "<div>\n",
       "<style scoped>\n",
       "    .dataframe tbody tr th:only-of-type {\n",
       "        vertical-align: middle;\n",
       "    }\n",
       "\n",
       "    .dataframe tbody tr th {\n",
       "        vertical-align: top;\n",
       "    }\n",
       "\n",
       "    .dataframe thead th {\n",
       "        text-align: right;\n",
       "    }\n",
       "</style>\n",
       "<table border=\"1\" class=\"dataframe\">\n",
       "  <thead>\n",
       "    <tr style=\"text-align: right;\">\n",
       "      <th></th>\n",
       "      <th>id</th>\n",
       "      <th>gender</th>\n",
       "      <th>age</th>\n",
       "      <th>hypertension</th>\n",
       "      <th>heart_disease</th>\n",
       "      <th>ever_married</th>\n",
       "      <th>work_type</th>\n",
       "      <th>Residence_type</th>\n",
       "      <th>avg_glucose_level</th>\n",
       "      <th>bmi</th>\n",
       "      <th>smoking_status</th>\n",
       "      <th>stroke</th>\n",
       "    </tr>\n",
       "  </thead>\n",
       "  <tbody>\n",
       "    <tr>\n",
       "      <th>0</th>\n",
       "      <td>9046</td>\n",
       "      <td>Male</td>\n",
       "      <td>67.0</td>\n",
       "      <td>0</td>\n",
       "      <td>1</td>\n",
       "      <td>Yes</td>\n",
       "      <td>Private</td>\n",
       "      <td>Urban</td>\n",
       "      <td>228.69</td>\n",
       "      <td>36.6</td>\n",
       "      <td>formerly smoked</td>\n",
       "      <td>1</td>\n",
       "    </tr>\n",
       "    <tr>\n",
       "      <th>1</th>\n",
       "      <td>51676</td>\n",
       "      <td>Female</td>\n",
       "      <td>61.0</td>\n",
       "      <td>0</td>\n",
       "      <td>0</td>\n",
       "      <td>Yes</td>\n",
       "      <td>Self-employed</td>\n",
       "      <td>Rural</td>\n",
       "      <td>202.21</td>\n",
       "      <td>NaN</td>\n",
       "      <td>never smoked</td>\n",
       "      <td>1</td>\n",
       "    </tr>\n",
       "    <tr>\n",
       "      <th>2</th>\n",
       "      <td>31112</td>\n",
       "      <td>Male</td>\n",
       "      <td>80.0</td>\n",
       "      <td>0</td>\n",
       "      <td>1</td>\n",
       "      <td>Yes</td>\n",
       "      <td>Private</td>\n",
       "      <td>Rural</td>\n",
       "      <td>105.92</td>\n",
       "      <td>32.5</td>\n",
       "      <td>never smoked</td>\n",
       "      <td>1</td>\n",
       "    </tr>\n",
       "    <tr>\n",
       "      <th>3</th>\n",
       "      <td>60182</td>\n",
       "      <td>Female</td>\n",
       "      <td>49.0</td>\n",
       "      <td>0</td>\n",
       "      <td>0</td>\n",
       "      <td>Yes</td>\n",
       "      <td>Private</td>\n",
       "      <td>Urban</td>\n",
       "      <td>171.23</td>\n",
       "      <td>34.4</td>\n",
       "      <td>smokes</td>\n",
       "      <td>1</td>\n",
       "    </tr>\n",
       "    <tr>\n",
       "      <th>4</th>\n",
       "      <td>1665</td>\n",
       "      <td>Female</td>\n",
       "      <td>79.0</td>\n",
       "      <td>1</td>\n",
       "      <td>0</td>\n",
       "      <td>Yes</td>\n",
       "      <td>Self-employed</td>\n",
       "      <td>Rural</td>\n",
       "      <td>174.12</td>\n",
       "      <td>24.0</td>\n",
       "      <td>never smoked</td>\n",
       "      <td>1</td>\n",
       "    </tr>\n",
       "  </tbody>\n",
       "</table>\n",
       "</div>"
      ],
      "text/plain": [
       "      id  gender   age  hypertension  heart_disease ever_married  \\\n",
       "0   9046    Male  67.0             0              1          Yes   \n",
       "1  51676  Female  61.0             0              0          Yes   \n",
       "2  31112    Male  80.0             0              1          Yes   \n",
       "3  60182  Female  49.0             0              0          Yes   \n",
       "4   1665  Female  79.0             1              0          Yes   \n",
       "\n",
       "       work_type Residence_type  avg_glucose_level   bmi   smoking_status  \\\n",
       "0        Private          Urban             228.69  36.6  formerly smoked   \n",
       "1  Self-employed          Rural             202.21   NaN     never smoked   \n",
       "2        Private          Rural             105.92  32.5     never smoked   \n",
       "3        Private          Urban             171.23  34.4           smokes   \n",
       "4  Self-employed          Rural             174.12  24.0     never smoked   \n",
       "\n",
       "   stroke  \n",
       "0       1  \n",
       "1       1  \n",
       "2       1  \n",
       "3       1  \n",
       "4       1  "
      ]
     },
     "execution_count": 4,
     "metadata": {},
     "output_type": "execute_result"
    }
   ],
   "source": [
    "df.head()"
   ]
  },
  {
   "cell_type": "code",
   "execution_count": 5,
   "id": "wanted-variance",
   "metadata": {
    "execution": {
     "iopub.execute_input": "2021-04-15T16:42:39.928662Z",
     "iopub.status.busy": "2021-04-15T16:42:39.927998Z",
     "iopub.status.idle": "2021-04-15T16:42:39.953517Z",
     "shell.execute_reply": "2021-04-15T16:42:39.952762Z"
    },
    "papermill": {
     "duration": 0.120459,
     "end_time": "2021-04-15T16:42:39.953667",
     "exception": false,
     "start_time": "2021-04-15T16:42:39.833208",
     "status": "completed"
    },
    "tags": []
   },
   "outputs": [
    {
     "name": "stdout",
     "output_type": "stream",
     "text": [
      "<class 'pandas.core.frame.DataFrame'>\n",
      "RangeIndex: 5110 entries, 0 to 5109\n",
      "Data columns (total 12 columns):\n",
      " #   Column             Non-Null Count  Dtype  \n",
      "---  ------             --------------  -----  \n",
      " 0   id                 5110 non-null   int64  \n",
      " 1   gender             5110 non-null   object \n",
      " 2   age                5110 non-null   float64\n",
      " 3   hypertension       5110 non-null   int64  \n",
      " 4   heart_disease      5110 non-null   int64  \n",
      " 5   ever_married       5110 non-null   object \n",
      " 6   work_type          5110 non-null   object \n",
      " 7   Residence_type     5110 non-null   object \n",
      " 8   avg_glucose_level  5110 non-null   float64\n",
      " 9   bmi                4909 non-null   float64\n",
      " 10  smoking_status     5110 non-null   object \n",
      " 11  stroke             5110 non-null   int64  \n",
      "dtypes: float64(3), int64(4), object(5)\n",
      "memory usage: 479.2+ KB\n"
     ]
    }
   ],
   "source": [
    "df.info()"
   ]
  },
  {
   "cell_type": "code",
   "execution_count": 6,
   "id": "double-buddy",
   "metadata": {
    "execution": {
     "iopub.execute_input": "2021-04-15T16:42:40.149603Z",
     "iopub.status.busy": "2021-04-15T16:42:40.148851Z",
     "iopub.status.idle": "2021-04-15T16:42:40.186386Z",
     "shell.execute_reply": "2021-04-15T16:42:40.185832Z"
    },
    "papermill": {
     "duration": 0.140811,
     "end_time": "2021-04-15T16:42:40.186551",
     "exception": false,
     "start_time": "2021-04-15T16:42:40.045740",
     "status": "completed"
    },
    "tags": []
   },
   "outputs": [
    {
     "data": {
      "text/html": [
       "<div>\n",
       "<style scoped>\n",
       "    .dataframe tbody tr th:only-of-type {\n",
       "        vertical-align: middle;\n",
       "    }\n",
       "\n",
       "    .dataframe tbody tr th {\n",
       "        vertical-align: top;\n",
       "    }\n",
       "\n",
       "    .dataframe thead th {\n",
       "        text-align: right;\n",
       "    }\n",
       "</style>\n",
       "<table border=\"1\" class=\"dataframe\">\n",
       "  <thead>\n",
       "    <tr style=\"text-align: right;\">\n",
       "      <th></th>\n",
       "      <th>count</th>\n",
       "      <th>mean</th>\n",
       "      <th>std</th>\n",
       "      <th>min</th>\n",
       "      <th>25%</th>\n",
       "      <th>50%</th>\n",
       "      <th>75%</th>\n",
       "      <th>max</th>\n",
       "    </tr>\n",
       "  </thead>\n",
       "  <tbody>\n",
       "    <tr>\n",
       "      <th>id</th>\n",
       "      <td>5110.0</td>\n",
       "      <td>36517.829354</td>\n",
       "      <td>21161.721625</td>\n",
       "      <td>67.00</td>\n",
       "      <td>17741.250</td>\n",
       "      <td>36932.000</td>\n",
       "      <td>54682.00</td>\n",
       "      <td>72940.00</td>\n",
       "    </tr>\n",
       "    <tr>\n",
       "      <th>age</th>\n",
       "      <td>5110.0</td>\n",
       "      <td>43.226614</td>\n",
       "      <td>22.612647</td>\n",
       "      <td>0.08</td>\n",
       "      <td>25.000</td>\n",
       "      <td>45.000</td>\n",
       "      <td>61.00</td>\n",
       "      <td>82.00</td>\n",
       "    </tr>\n",
       "    <tr>\n",
       "      <th>hypertension</th>\n",
       "      <td>5110.0</td>\n",
       "      <td>0.097456</td>\n",
       "      <td>0.296607</td>\n",
       "      <td>0.00</td>\n",
       "      <td>0.000</td>\n",
       "      <td>0.000</td>\n",
       "      <td>0.00</td>\n",
       "      <td>1.00</td>\n",
       "    </tr>\n",
       "    <tr>\n",
       "      <th>heart_disease</th>\n",
       "      <td>5110.0</td>\n",
       "      <td>0.054012</td>\n",
       "      <td>0.226063</td>\n",
       "      <td>0.00</td>\n",
       "      <td>0.000</td>\n",
       "      <td>0.000</td>\n",
       "      <td>0.00</td>\n",
       "      <td>1.00</td>\n",
       "    </tr>\n",
       "    <tr>\n",
       "      <th>avg_glucose_level</th>\n",
       "      <td>5110.0</td>\n",
       "      <td>106.147677</td>\n",
       "      <td>45.283560</td>\n",
       "      <td>55.12</td>\n",
       "      <td>77.245</td>\n",
       "      <td>91.885</td>\n",
       "      <td>114.09</td>\n",
       "      <td>271.74</td>\n",
       "    </tr>\n",
       "    <tr>\n",
       "      <th>bmi</th>\n",
       "      <td>4909.0</td>\n",
       "      <td>28.893237</td>\n",
       "      <td>7.854067</td>\n",
       "      <td>10.30</td>\n",
       "      <td>23.500</td>\n",
       "      <td>28.100</td>\n",
       "      <td>33.10</td>\n",
       "      <td>97.60</td>\n",
       "    </tr>\n",
       "    <tr>\n",
       "      <th>stroke</th>\n",
       "      <td>5110.0</td>\n",
       "      <td>0.048728</td>\n",
       "      <td>0.215320</td>\n",
       "      <td>0.00</td>\n",
       "      <td>0.000</td>\n",
       "      <td>0.000</td>\n",
       "      <td>0.00</td>\n",
       "      <td>1.00</td>\n",
       "    </tr>\n",
       "  </tbody>\n",
       "</table>\n",
       "</div>"
      ],
      "text/plain": [
       "                    count          mean           std    min        25%  \\\n",
       "id                 5110.0  36517.829354  21161.721625  67.00  17741.250   \n",
       "age                5110.0     43.226614     22.612647   0.08     25.000   \n",
       "hypertension       5110.0      0.097456      0.296607   0.00      0.000   \n",
       "heart_disease      5110.0      0.054012      0.226063   0.00      0.000   \n",
       "avg_glucose_level  5110.0    106.147677     45.283560  55.12     77.245   \n",
       "bmi                4909.0     28.893237      7.854067  10.30     23.500   \n",
       "stroke             5110.0      0.048728      0.215320   0.00      0.000   \n",
       "\n",
       "                         50%       75%       max  \n",
       "id                 36932.000  54682.00  72940.00  \n",
       "age                   45.000     61.00     82.00  \n",
       "hypertension           0.000      0.00      1.00  \n",
       "heart_disease          0.000      0.00      1.00  \n",
       "avg_glucose_level     91.885    114.09    271.74  \n",
       "bmi                   28.100     33.10     97.60  \n",
       "stroke                 0.000      0.00      1.00  "
      ]
     },
     "execution_count": 6,
     "metadata": {},
     "output_type": "execute_result"
    }
   ],
   "source": [
    "df.describe().T"
   ]
  },
  {
   "cell_type": "code",
   "execution_count": 7,
   "id": "complete-myanmar",
   "metadata": {
    "execution": {
     "iopub.execute_input": "2021-04-15T16:42:40.380858Z",
     "iopub.status.busy": "2021-04-15T16:42:40.380182Z",
     "iopub.status.idle": "2021-04-15T16:42:40.399877Z",
     "shell.execute_reply": "2021-04-15T16:42:40.399336Z"
    },
    "papermill": {
     "duration": 0.120242,
     "end_time": "2021-04-15T16:42:40.400016",
     "exception": false,
     "start_time": "2021-04-15T16:42:40.279774",
     "status": "completed"
    },
    "tags": []
   },
   "outputs": [
    {
     "data": {
      "text/plain": [
       "id                   5110\n",
       "gender                  3\n",
       "age                   104\n",
       "hypertension            2\n",
       "heart_disease           2\n",
       "ever_married            2\n",
       "work_type               5\n",
       "Residence_type          2\n",
       "avg_glucose_level    3979\n",
       "bmi                   418\n",
       "smoking_status          4\n",
       "stroke                  2\n",
       "dtype: int64"
      ]
     },
     "execution_count": 7,
     "metadata": {},
     "output_type": "execute_result"
    }
   ],
   "source": [
    "df.nunique()"
   ]
  },
  {
   "cell_type": "code",
   "execution_count": 8,
   "id": "seven-gauge",
   "metadata": {
    "execution": {
     "iopub.execute_input": "2021-04-15T16:42:40.595036Z",
     "iopub.status.busy": "2021-04-15T16:42:40.594365Z",
     "iopub.status.idle": "2021-04-15T16:42:40.599220Z",
     "shell.execute_reply": "2021-04-15T16:42:40.598572Z"
    },
    "papermill": {
     "duration": 0.105632,
     "end_time": "2021-04-15T16:42:40.599386",
     "exception": false,
     "start_time": "2021-04-15T16:42:40.493754",
     "status": "completed"
    },
    "tags": []
   },
   "outputs": [
    {
     "data": {
      "text/plain": [
       "array(['Male', 'Female', 'Other'], dtype=object)"
      ]
     },
     "execution_count": 8,
     "metadata": {},
     "output_type": "execute_result"
    }
   ],
   "source": [
    "df.gender.unique()"
   ]
  },
  {
   "cell_type": "code",
   "execution_count": 9,
   "id": "tight-project",
   "metadata": {
    "execution": {
     "iopub.execute_input": "2021-04-15T16:42:40.795697Z",
     "iopub.status.busy": "2021-04-15T16:42:40.794886Z",
     "iopub.status.idle": "2021-04-15T16:42:40.799663Z",
     "shell.execute_reply": "2021-04-15T16:42:40.799038Z"
    },
    "papermill": {
     "duration": 0.105901,
     "end_time": "2021-04-15T16:42:40.799812",
     "exception": false,
     "start_time": "2021-04-15T16:42:40.693911",
     "status": "completed"
    },
    "tags": []
   },
   "outputs": [
    {
     "data": {
      "text/plain": [
       "array(['Private', 'Self-employed', 'Govt_job', 'children', 'Never_worked'],\n",
       "      dtype=object)"
      ]
     },
     "execution_count": 9,
     "metadata": {},
     "output_type": "execute_result"
    }
   ],
   "source": [
    "df.work_type.unique()"
   ]
  },
  {
   "cell_type": "code",
   "execution_count": 10,
   "id": "thirty-translation",
   "metadata": {
    "execution": {
     "iopub.execute_input": "2021-04-15T16:42:40.994484Z",
     "iopub.status.busy": "2021-04-15T16:42:40.993800Z",
     "iopub.status.idle": "2021-04-15T16:42:40.998208Z",
     "shell.execute_reply": "2021-04-15T16:42:40.998720Z"
    },
    "papermill": {
     "duration": 0.104125,
     "end_time": "2021-04-15T16:42:40.998891",
     "exception": false,
     "start_time": "2021-04-15T16:42:40.894766",
     "status": "completed"
    },
    "tags": []
   },
   "outputs": [
    {
     "data": {
      "text/plain": [
       "array(['formerly smoked', 'never smoked', 'smokes', 'Unknown'],\n",
       "      dtype=object)"
      ]
     },
     "execution_count": 10,
     "metadata": {},
     "output_type": "execute_result"
    }
   ],
   "source": [
    "df.smoking_status.unique()"
   ]
  },
  {
   "cell_type": "code",
   "execution_count": 11,
   "id": "common-windsor",
   "metadata": {
    "execution": {
     "iopub.execute_input": "2021-04-15T16:42:41.194974Z",
     "iopub.status.busy": "2021-04-15T16:42:41.194335Z",
     "iopub.status.idle": "2021-04-15T16:42:41.203359Z",
     "shell.execute_reply": "2021-04-15T16:42:41.202823Z"
    },
    "papermill": {
     "duration": 0.107581,
     "end_time": "2021-04-15T16:42:41.203496",
     "exception": false,
     "start_time": "2021-04-15T16:42:41.095915",
     "status": "completed"
    },
    "tags": []
   },
   "outputs": [
    {
     "data": {
      "text/plain": [
       "0       36.6\n",
       "1        NaN\n",
       "2       32.5\n",
       "3       34.4\n",
       "4       24.0\n",
       "        ... \n",
       "5105     NaN\n",
       "5106    40.0\n",
       "5107    30.6\n",
       "5108    25.6\n",
       "5109    26.2\n",
       "Name: bmi, Length: 5110, dtype: float64"
      ]
     },
     "execution_count": 11,
     "metadata": {},
     "output_type": "execute_result"
    }
   ],
   "source": [
    "df.bmi"
   ]
  },
  {
   "cell_type": "code",
   "execution_count": 12,
   "id": "worth-token",
   "metadata": {
    "execution": {
     "iopub.execute_input": "2021-04-15T16:42:41.404812Z",
     "iopub.status.busy": "2021-04-15T16:42:41.403728Z",
     "iopub.status.idle": "2021-04-15T16:42:41.407767Z",
     "shell.execute_reply": "2021-04-15T16:42:41.408212Z"
    },
    "papermill": {
     "duration": 0.109712,
     "end_time": "2021-04-15T16:42:41.408403",
     "exception": false,
     "start_time": "2021-04-15T16:42:41.298691",
     "status": "completed"
    },
    "tags": []
   },
   "outputs": [
    {
     "data": {
      "text/plain": [
       "0       228.69\n",
       "1       202.21\n",
       "2       105.92\n",
       "3       171.23\n",
       "4       174.12\n",
       "         ...  \n",
       "5105     83.75\n",
       "5106    125.20\n",
       "5107     82.99\n",
       "5108    166.29\n",
       "5109     85.28\n",
       "Name: avg_glucose_level, Length: 5110, dtype: float64"
      ]
     },
     "execution_count": 12,
     "metadata": {},
     "output_type": "execute_result"
    }
   ],
   "source": [
    "df.avg_glucose_level"
   ]
  },
  {
   "cell_type": "markdown",
   "id": "apart-nerve",
   "metadata": {
    "papermill": {
     "duration": 0.097207,
     "end_time": "2021-04-15T16:42:41.606032",
     "exception": false,
     "start_time": "2021-04-15T16:42:41.508825",
     "status": "completed"
    },
    "tags": []
   },
   "source": [
    "---\n",
    "- ID : delete\n",
    "- Age : transform to Category ( 20s, 30s, 40s ...)\n",
    "- Gender : transfrom by One-hot Encoding\n",
    "- work_type : transfrom by One-hot Encoding\n",
    "- smoking_status : transfrom by One-hot Encoding\n",
    "- bmi : transform to Category ( 20-29, 30-39 ...)\n",
    "- avg_glucose_level : transform to Category ( 0-50, 51-100 ...)\n",
    "- Others : binary"
   ]
  },
  {
   "cell_type": "markdown",
   "id": "subtle-stake",
   "metadata": {
    "papermill": {
     "duration": 0.095689,
     "end_time": "2021-04-15T16:42:41.797397",
     "exception": false,
     "start_time": "2021-04-15T16:42:41.701708",
     "status": "completed"
    },
    "tags": []
   },
   "source": [
    "---\n",
    "It's sparse table, so we use RandomForest and GradientBoosting Algorithm instead of KNN"
   ]
  },
  {
   "cell_type": "code",
   "execution_count": 13,
   "id": "through-warning",
   "metadata": {
    "execution": {
     "iopub.execute_input": "2021-04-15T16:42:42.021646Z",
     "iopub.status.busy": "2021-04-15T16:42:42.011503Z",
     "iopub.status.idle": "2021-04-15T16:42:42.026839Z",
     "shell.execute_reply": "2021-04-15T16:42:42.026228Z"
    },
    "papermill": {
     "duration": 0.133109,
     "end_time": "2021-04-15T16:42:42.027009",
     "exception": false,
     "start_time": "2021-04-15T16:42:41.893900",
     "status": "completed"
    },
    "tags": []
   },
   "outputs": [
    {
     "data": {
      "text/html": [
       "<div>\n",
       "<style scoped>\n",
       "    .dataframe tbody tr th:only-of-type {\n",
       "        vertical-align: middle;\n",
       "    }\n",
       "\n",
       "    .dataframe tbody tr th {\n",
       "        vertical-align: top;\n",
       "    }\n",
       "\n",
       "    .dataframe thead th {\n",
       "        text-align: right;\n",
       "    }\n",
       "</style>\n",
       "<table border=\"1\" class=\"dataframe\">\n",
       "  <thead>\n",
       "    <tr style=\"text-align: right;\">\n",
       "      <th></th>\n",
       "      <th>id</th>\n",
       "      <th>gender</th>\n",
       "      <th>age</th>\n",
       "      <th>hypertension</th>\n",
       "      <th>heart_disease</th>\n",
       "      <th>ever_married</th>\n",
       "      <th>work_type</th>\n",
       "      <th>Residence_type</th>\n",
       "      <th>avg_glucose_level</th>\n",
       "      <th>bmi</th>\n",
       "      <th>smoking_status</th>\n",
       "      <th>stroke</th>\n",
       "    </tr>\n",
       "  </thead>\n",
       "  <tbody>\n",
       "    <tr>\n",
       "      <th>0</th>\n",
       "      <td>9046</td>\n",
       "      <td>Male</td>\n",
       "      <td>67.0</td>\n",
       "      <td>0</td>\n",
       "      <td>1</td>\n",
       "      <td>Yes</td>\n",
       "      <td>Private</td>\n",
       "      <td>Urban</td>\n",
       "      <td>228.69</td>\n",
       "      <td>36.6</td>\n",
       "      <td>formerly smoked</td>\n",
       "      <td>1</td>\n",
       "    </tr>\n",
       "    <tr>\n",
       "      <th>1</th>\n",
       "      <td>51676</td>\n",
       "      <td>Female</td>\n",
       "      <td>61.0</td>\n",
       "      <td>0</td>\n",
       "      <td>0</td>\n",
       "      <td>Yes</td>\n",
       "      <td>Self-employed</td>\n",
       "      <td>Rural</td>\n",
       "      <td>202.21</td>\n",
       "      <td>NaN</td>\n",
       "      <td>never smoked</td>\n",
       "      <td>1</td>\n",
       "    </tr>\n",
       "    <tr>\n",
       "      <th>2</th>\n",
       "      <td>31112</td>\n",
       "      <td>Male</td>\n",
       "      <td>80.0</td>\n",
       "      <td>0</td>\n",
       "      <td>1</td>\n",
       "      <td>Yes</td>\n",
       "      <td>Private</td>\n",
       "      <td>Rural</td>\n",
       "      <td>105.92</td>\n",
       "      <td>32.5</td>\n",
       "      <td>never smoked</td>\n",
       "      <td>1</td>\n",
       "    </tr>\n",
       "    <tr>\n",
       "      <th>3</th>\n",
       "      <td>60182</td>\n",
       "      <td>Female</td>\n",
       "      <td>49.0</td>\n",
       "      <td>0</td>\n",
       "      <td>0</td>\n",
       "      <td>Yes</td>\n",
       "      <td>Private</td>\n",
       "      <td>Urban</td>\n",
       "      <td>171.23</td>\n",
       "      <td>34.4</td>\n",
       "      <td>smokes</td>\n",
       "      <td>1</td>\n",
       "    </tr>\n",
       "    <tr>\n",
       "      <th>4</th>\n",
       "      <td>1665</td>\n",
       "      <td>Female</td>\n",
       "      <td>79.0</td>\n",
       "      <td>1</td>\n",
       "      <td>0</td>\n",
       "      <td>Yes</td>\n",
       "      <td>Self-employed</td>\n",
       "      <td>Rural</td>\n",
       "      <td>174.12</td>\n",
       "      <td>24.0</td>\n",
       "      <td>never smoked</td>\n",
       "      <td>1</td>\n",
       "    </tr>\n",
       "    <tr>\n",
       "      <th>...</th>\n",
       "      <td>...</td>\n",
       "      <td>...</td>\n",
       "      <td>...</td>\n",
       "      <td>...</td>\n",
       "      <td>...</td>\n",
       "      <td>...</td>\n",
       "      <td>...</td>\n",
       "      <td>...</td>\n",
       "      <td>...</td>\n",
       "      <td>...</td>\n",
       "      <td>...</td>\n",
       "      <td>...</td>\n",
       "    </tr>\n",
       "    <tr>\n",
       "      <th>5105</th>\n",
       "      <td>18234</td>\n",
       "      <td>Female</td>\n",
       "      <td>80.0</td>\n",
       "      <td>1</td>\n",
       "      <td>0</td>\n",
       "      <td>Yes</td>\n",
       "      <td>Private</td>\n",
       "      <td>Urban</td>\n",
       "      <td>83.75</td>\n",
       "      <td>NaN</td>\n",
       "      <td>never smoked</td>\n",
       "      <td>0</td>\n",
       "    </tr>\n",
       "    <tr>\n",
       "      <th>5106</th>\n",
       "      <td>44873</td>\n",
       "      <td>Female</td>\n",
       "      <td>81.0</td>\n",
       "      <td>0</td>\n",
       "      <td>0</td>\n",
       "      <td>Yes</td>\n",
       "      <td>Self-employed</td>\n",
       "      <td>Urban</td>\n",
       "      <td>125.20</td>\n",
       "      <td>40.0</td>\n",
       "      <td>never smoked</td>\n",
       "      <td>0</td>\n",
       "    </tr>\n",
       "    <tr>\n",
       "      <th>5107</th>\n",
       "      <td>19723</td>\n",
       "      <td>Female</td>\n",
       "      <td>35.0</td>\n",
       "      <td>0</td>\n",
       "      <td>0</td>\n",
       "      <td>Yes</td>\n",
       "      <td>Self-employed</td>\n",
       "      <td>Rural</td>\n",
       "      <td>82.99</td>\n",
       "      <td>30.6</td>\n",
       "      <td>never smoked</td>\n",
       "      <td>0</td>\n",
       "    </tr>\n",
       "    <tr>\n",
       "      <th>5108</th>\n",
       "      <td>37544</td>\n",
       "      <td>Male</td>\n",
       "      <td>51.0</td>\n",
       "      <td>0</td>\n",
       "      <td>0</td>\n",
       "      <td>Yes</td>\n",
       "      <td>Private</td>\n",
       "      <td>Rural</td>\n",
       "      <td>166.29</td>\n",
       "      <td>25.6</td>\n",
       "      <td>formerly smoked</td>\n",
       "      <td>0</td>\n",
       "    </tr>\n",
       "    <tr>\n",
       "      <th>5109</th>\n",
       "      <td>44679</td>\n",
       "      <td>Female</td>\n",
       "      <td>44.0</td>\n",
       "      <td>0</td>\n",
       "      <td>0</td>\n",
       "      <td>Yes</td>\n",
       "      <td>Govt_job</td>\n",
       "      <td>Urban</td>\n",
       "      <td>85.28</td>\n",
       "      <td>26.2</td>\n",
       "      <td>Unknown</td>\n",
       "      <td>0</td>\n",
       "    </tr>\n",
       "  </tbody>\n",
       "</table>\n",
       "<p>5110 rows × 12 columns</p>\n",
       "</div>"
      ],
      "text/plain": [
       "         id  gender   age  hypertension  heart_disease ever_married  \\\n",
       "0      9046    Male  67.0             0              1          Yes   \n",
       "1     51676  Female  61.0             0              0          Yes   \n",
       "2     31112    Male  80.0             0              1          Yes   \n",
       "3     60182  Female  49.0             0              0          Yes   \n",
       "4      1665  Female  79.0             1              0          Yes   \n",
       "...     ...     ...   ...           ...            ...          ...   \n",
       "5105  18234  Female  80.0             1              0          Yes   \n",
       "5106  44873  Female  81.0             0              0          Yes   \n",
       "5107  19723  Female  35.0             0              0          Yes   \n",
       "5108  37544    Male  51.0             0              0          Yes   \n",
       "5109  44679  Female  44.0             0              0          Yes   \n",
       "\n",
       "          work_type Residence_type  avg_glucose_level   bmi   smoking_status  \\\n",
       "0           Private          Urban             228.69  36.6  formerly smoked   \n",
       "1     Self-employed          Rural             202.21   NaN     never smoked   \n",
       "2           Private          Rural             105.92  32.5     never smoked   \n",
       "3           Private          Urban             171.23  34.4           smokes   \n",
       "4     Self-employed          Rural             174.12  24.0     never smoked   \n",
       "...             ...            ...                ...   ...              ...   \n",
       "5105        Private          Urban              83.75   NaN     never smoked   \n",
       "5106  Self-employed          Urban             125.20  40.0     never smoked   \n",
       "5107  Self-employed          Rural              82.99  30.6     never smoked   \n",
       "5108        Private          Rural             166.29  25.6  formerly smoked   \n",
       "5109       Govt_job          Urban              85.28  26.2          Unknown   \n",
       "\n",
       "      stroke  \n",
       "0          1  \n",
       "1          1  \n",
       "2          1  \n",
       "3          1  \n",
       "4          1  \n",
       "...      ...  \n",
       "5105       0  \n",
       "5106       0  \n",
       "5107       0  \n",
       "5108       0  \n",
       "5109       0  \n",
       "\n",
       "[5110 rows x 12 columns]"
      ]
     },
     "execution_count": 13,
     "metadata": {},
     "output_type": "execute_result"
    }
   ],
   "source": [
    "df"
   ]
  },
  {
   "cell_type": "markdown",
   "id": "meaningful-portugal",
   "metadata": {
    "papermill": {
     "duration": 0.097068,
     "end_time": "2021-04-15T16:42:42.231498",
     "exception": false,
     "start_time": "2021-04-15T16:42:42.134430",
     "status": "completed"
    },
    "tags": []
   },
   "source": [
    "### Step 2. Feature Engineering"
   ]
  },
  {
   "cell_type": "code",
   "execution_count": 14,
   "id": "boring-tobacco",
   "metadata": {
    "execution": {
     "iopub.execute_input": "2021-04-15T16:42:42.436253Z",
     "iopub.status.busy": "2021-04-15T16:42:42.435351Z",
     "iopub.status.idle": "2021-04-15T16:42:42.439945Z",
     "shell.execute_reply": "2021-04-15T16:42:42.439373Z"
    },
    "papermill": {
     "duration": 0.1117,
     "end_time": "2021-04-15T16:42:42.440169",
     "exception": false,
     "start_time": "2021-04-15T16:42:42.328469",
     "status": "completed"
    },
    "tags": []
   },
   "outputs": [
    {
     "data": {
      "text/plain": [
       "Female    2994\n",
       "Male      2115\n",
       "Other        1\n",
       "Name: gender, dtype: int64"
      ]
     },
     "execution_count": 14,
     "metadata": {},
     "output_type": "execute_result"
    }
   ],
   "source": [
    "df.gender.value_counts()"
   ]
  },
  {
   "cell_type": "code",
   "execution_count": 15,
   "id": "focal-grove",
   "metadata": {
    "execution": {
     "iopub.execute_input": "2021-04-15T16:42:42.656540Z",
     "iopub.status.busy": "2021-04-15T16:42:42.650981Z",
     "iopub.status.idle": "2021-04-15T16:42:42.661943Z",
     "shell.execute_reply": "2021-04-15T16:42:42.661275Z"
    },
    "papermill": {
     "duration": 0.121469,
     "end_time": "2021-04-15T16:42:42.662084",
     "exception": false,
     "start_time": "2021-04-15T16:42:42.540615",
     "status": "completed"
    },
    "tags": []
   },
   "outputs": [
    {
     "data": {
      "text/html": [
       "<div>\n",
       "<style scoped>\n",
       "    .dataframe tbody tr th:only-of-type {\n",
       "        vertical-align: middle;\n",
       "    }\n",
       "\n",
       "    .dataframe tbody tr th {\n",
       "        vertical-align: top;\n",
       "    }\n",
       "\n",
       "    .dataframe thead th {\n",
       "        text-align: right;\n",
       "    }\n",
       "</style>\n",
       "<table border=\"1\" class=\"dataframe\">\n",
       "  <thead>\n",
       "    <tr style=\"text-align: right;\">\n",
       "      <th></th>\n",
       "      <th>id</th>\n",
       "      <th>gender</th>\n",
       "      <th>age</th>\n",
       "      <th>hypertension</th>\n",
       "      <th>heart_disease</th>\n",
       "      <th>ever_married</th>\n",
       "      <th>work_type</th>\n",
       "      <th>Residence_type</th>\n",
       "      <th>avg_glucose_level</th>\n",
       "      <th>bmi</th>\n",
       "      <th>smoking_status</th>\n",
       "      <th>stroke</th>\n",
       "    </tr>\n",
       "  </thead>\n",
       "  <tbody>\n",
       "    <tr>\n",
       "      <th>3116</th>\n",
       "      <td>56156</td>\n",
       "      <td>Other</td>\n",
       "      <td>26.0</td>\n",
       "      <td>0</td>\n",
       "      <td>0</td>\n",
       "      <td>No</td>\n",
       "      <td>Private</td>\n",
       "      <td>Rural</td>\n",
       "      <td>143.33</td>\n",
       "      <td>22.4</td>\n",
       "      <td>formerly smoked</td>\n",
       "      <td>0</td>\n",
       "    </tr>\n",
       "  </tbody>\n",
       "</table>\n",
       "</div>"
      ],
      "text/plain": [
       "         id gender   age  hypertension  heart_disease ever_married work_type  \\\n",
       "3116  56156  Other  26.0             0              0           No   Private   \n",
       "\n",
       "     Residence_type  avg_glucose_level   bmi   smoking_status  stroke  \n",
       "3116          Rural             143.33  22.4  formerly smoked       0  "
      ]
     },
     "execution_count": 15,
     "metadata": {},
     "output_type": "execute_result"
    }
   ],
   "source": [
    "df[df['gender'] == 'Other']"
   ]
  },
  {
   "cell_type": "code",
   "execution_count": 16,
   "id": "elect-strategy",
   "metadata": {
    "execution": {
     "iopub.execute_input": "2021-04-15T16:42:42.862860Z",
     "iopub.status.busy": "2021-04-15T16:42:42.862158Z",
     "iopub.status.idle": "2021-04-15T16:42:42.871661Z",
     "shell.execute_reply": "2021-04-15T16:42:42.870897Z"
    },
    "papermill": {
     "duration": 0.111364,
     "end_time": "2021-04-15T16:42:42.871814",
     "exception": false,
     "start_time": "2021-04-15T16:42:42.760450",
     "status": "completed"
    },
    "tags": []
   },
   "outputs": [
    {
     "data": {
      "text/plain": [
       "Int64Index([3116], dtype='int64')"
      ]
     },
     "execution_count": 16,
     "metadata": {},
     "output_type": "execute_result"
    }
   ],
   "source": [
    "df[df['gender'] == 'Other'].index"
   ]
  },
  {
   "cell_type": "code",
   "execution_count": 17,
   "id": "driven-tender",
   "metadata": {
    "execution": {
     "iopub.execute_input": "2021-04-15T16:42:43.079624Z",
     "iopub.status.busy": "2021-04-15T16:42:43.078846Z",
     "iopub.status.idle": "2021-04-15T16:42:43.082437Z",
     "shell.execute_reply": "2021-04-15T16:42:43.083141Z"
    },
    "papermill": {
     "duration": 0.111782,
     "end_time": "2021-04-15T16:42:43.083390",
     "exception": false,
     "start_time": "2021-04-15T16:42:42.971608",
     "status": "completed"
    },
    "tags": []
   },
   "outputs": [],
   "source": [
    "df.drop(df[df['gender'] == 'Other'].index, inplace=True)"
   ]
  },
  {
   "cell_type": "code",
   "execution_count": 18,
   "id": "weird-headquarters",
   "metadata": {
    "execution": {
     "iopub.execute_input": "2021-04-15T16:42:43.285850Z",
     "iopub.status.busy": "2021-04-15T16:42:43.285129Z",
     "iopub.status.idle": "2021-04-15T16:42:43.313350Z",
     "shell.execute_reply": "2021-04-15T16:42:43.313842Z"
    },
    "papermill": {
     "duration": 0.130134,
     "end_time": "2021-04-15T16:42:43.314031",
     "exception": false,
     "start_time": "2021-04-15T16:42:43.183897",
     "status": "completed"
    },
    "tags": []
   },
   "outputs": [
    {
     "data": {
      "text/html": [
       "<div>\n",
       "<style scoped>\n",
       "    .dataframe tbody tr th:only-of-type {\n",
       "        vertical-align: middle;\n",
       "    }\n",
       "\n",
       "    .dataframe tbody tr th {\n",
       "        vertical-align: top;\n",
       "    }\n",
       "\n",
       "    .dataframe thead th {\n",
       "        text-align: right;\n",
       "    }\n",
       "</style>\n",
       "<table border=\"1\" class=\"dataframe\">\n",
       "  <thead>\n",
       "    <tr style=\"text-align: right;\">\n",
       "      <th></th>\n",
       "      <th>id</th>\n",
       "      <th>gender</th>\n",
       "      <th>age</th>\n",
       "      <th>hypertension</th>\n",
       "      <th>heart_disease</th>\n",
       "      <th>ever_married</th>\n",
       "      <th>work_type</th>\n",
       "      <th>Residence_type</th>\n",
       "      <th>avg_glucose_level</th>\n",
       "      <th>bmi</th>\n",
       "      <th>smoking_status</th>\n",
       "      <th>stroke</th>\n",
       "    </tr>\n",
       "  </thead>\n",
       "  <tbody>\n",
       "    <tr>\n",
       "      <th>0</th>\n",
       "      <td>9046</td>\n",
       "      <td>Male</td>\n",
       "      <td>67.0</td>\n",
       "      <td>0</td>\n",
       "      <td>1</td>\n",
       "      <td>Yes</td>\n",
       "      <td>Private</td>\n",
       "      <td>Urban</td>\n",
       "      <td>228.69</td>\n",
       "      <td>36.6</td>\n",
       "      <td>formerly smoked</td>\n",
       "      <td>1</td>\n",
       "    </tr>\n",
       "    <tr>\n",
       "      <th>1</th>\n",
       "      <td>51676</td>\n",
       "      <td>Female</td>\n",
       "      <td>61.0</td>\n",
       "      <td>0</td>\n",
       "      <td>0</td>\n",
       "      <td>Yes</td>\n",
       "      <td>Self-employed</td>\n",
       "      <td>Rural</td>\n",
       "      <td>202.21</td>\n",
       "      <td>NaN</td>\n",
       "      <td>never smoked</td>\n",
       "      <td>1</td>\n",
       "    </tr>\n",
       "    <tr>\n",
       "      <th>2</th>\n",
       "      <td>31112</td>\n",
       "      <td>Male</td>\n",
       "      <td>80.0</td>\n",
       "      <td>0</td>\n",
       "      <td>1</td>\n",
       "      <td>Yes</td>\n",
       "      <td>Private</td>\n",
       "      <td>Rural</td>\n",
       "      <td>105.92</td>\n",
       "      <td>32.5</td>\n",
       "      <td>never smoked</td>\n",
       "      <td>1</td>\n",
       "    </tr>\n",
       "    <tr>\n",
       "      <th>3</th>\n",
       "      <td>60182</td>\n",
       "      <td>Female</td>\n",
       "      <td>49.0</td>\n",
       "      <td>0</td>\n",
       "      <td>0</td>\n",
       "      <td>Yes</td>\n",
       "      <td>Private</td>\n",
       "      <td>Urban</td>\n",
       "      <td>171.23</td>\n",
       "      <td>34.4</td>\n",
       "      <td>smokes</td>\n",
       "      <td>1</td>\n",
       "    </tr>\n",
       "    <tr>\n",
       "      <th>4</th>\n",
       "      <td>1665</td>\n",
       "      <td>Female</td>\n",
       "      <td>79.0</td>\n",
       "      <td>1</td>\n",
       "      <td>0</td>\n",
       "      <td>Yes</td>\n",
       "      <td>Self-employed</td>\n",
       "      <td>Rural</td>\n",
       "      <td>174.12</td>\n",
       "      <td>24.0</td>\n",
       "      <td>never smoked</td>\n",
       "      <td>1</td>\n",
       "    </tr>\n",
       "    <tr>\n",
       "      <th>...</th>\n",
       "      <td>...</td>\n",
       "      <td>...</td>\n",
       "      <td>...</td>\n",
       "      <td>...</td>\n",
       "      <td>...</td>\n",
       "      <td>...</td>\n",
       "      <td>...</td>\n",
       "      <td>...</td>\n",
       "      <td>...</td>\n",
       "      <td>...</td>\n",
       "      <td>...</td>\n",
       "      <td>...</td>\n",
       "    </tr>\n",
       "    <tr>\n",
       "      <th>5105</th>\n",
       "      <td>18234</td>\n",
       "      <td>Female</td>\n",
       "      <td>80.0</td>\n",
       "      <td>1</td>\n",
       "      <td>0</td>\n",
       "      <td>Yes</td>\n",
       "      <td>Private</td>\n",
       "      <td>Urban</td>\n",
       "      <td>83.75</td>\n",
       "      <td>NaN</td>\n",
       "      <td>never smoked</td>\n",
       "      <td>0</td>\n",
       "    </tr>\n",
       "    <tr>\n",
       "      <th>5106</th>\n",
       "      <td>44873</td>\n",
       "      <td>Female</td>\n",
       "      <td>81.0</td>\n",
       "      <td>0</td>\n",
       "      <td>0</td>\n",
       "      <td>Yes</td>\n",
       "      <td>Self-employed</td>\n",
       "      <td>Urban</td>\n",
       "      <td>125.20</td>\n",
       "      <td>40.0</td>\n",
       "      <td>never smoked</td>\n",
       "      <td>0</td>\n",
       "    </tr>\n",
       "    <tr>\n",
       "      <th>5107</th>\n",
       "      <td>19723</td>\n",
       "      <td>Female</td>\n",
       "      <td>35.0</td>\n",
       "      <td>0</td>\n",
       "      <td>0</td>\n",
       "      <td>Yes</td>\n",
       "      <td>Self-employed</td>\n",
       "      <td>Rural</td>\n",
       "      <td>82.99</td>\n",
       "      <td>30.6</td>\n",
       "      <td>never smoked</td>\n",
       "      <td>0</td>\n",
       "    </tr>\n",
       "    <tr>\n",
       "      <th>5108</th>\n",
       "      <td>37544</td>\n",
       "      <td>Male</td>\n",
       "      <td>51.0</td>\n",
       "      <td>0</td>\n",
       "      <td>0</td>\n",
       "      <td>Yes</td>\n",
       "      <td>Private</td>\n",
       "      <td>Rural</td>\n",
       "      <td>166.29</td>\n",
       "      <td>25.6</td>\n",
       "      <td>formerly smoked</td>\n",
       "      <td>0</td>\n",
       "    </tr>\n",
       "    <tr>\n",
       "      <th>5109</th>\n",
       "      <td>44679</td>\n",
       "      <td>Female</td>\n",
       "      <td>44.0</td>\n",
       "      <td>0</td>\n",
       "      <td>0</td>\n",
       "      <td>Yes</td>\n",
       "      <td>Govt_job</td>\n",
       "      <td>Urban</td>\n",
       "      <td>85.28</td>\n",
       "      <td>26.2</td>\n",
       "      <td>Unknown</td>\n",
       "      <td>0</td>\n",
       "    </tr>\n",
       "  </tbody>\n",
       "</table>\n",
       "<p>5109 rows × 12 columns</p>\n",
       "</div>"
      ],
      "text/plain": [
       "         id  gender   age  hypertension  heart_disease ever_married  \\\n",
       "0      9046    Male  67.0             0              1          Yes   \n",
       "1     51676  Female  61.0             0              0          Yes   \n",
       "2     31112    Male  80.0             0              1          Yes   \n",
       "3     60182  Female  49.0             0              0          Yes   \n",
       "4      1665  Female  79.0             1              0          Yes   \n",
       "...     ...     ...   ...           ...            ...          ...   \n",
       "5105  18234  Female  80.0             1              0          Yes   \n",
       "5106  44873  Female  81.0             0              0          Yes   \n",
       "5107  19723  Female  35.0             0              0          Yes   \n",
       "5108  37544    Male  51.0             0              0          Yes   \n",
       "5109  44679  Female  44.0             0              0          Yes   \n",
       "\n",
       "          work_type Residence_type  avg_glucose_level   bmi   smoking_status  \\\n",
       "0           Private          Urban             228.69  36.6  formerly smoked   \n",
       "1     Self-employed          Rural             202.21   NaN     never smoked   \n",
       "2           Private          Rural             105.92  32.5     never smoked   \n",
       "3           Private          Urban             171.23  34.4           smokes   \n",
       "4     Self-employed          Rural             174.12  24.0     never smoked   \n",
       "...             ...            ...                ...   ...              ...   \n",
       "5105        Private          Urban              83.75   NaN     never smoked   \n",
       "5106  Self-employed          Urban             125.20  40.0     never smoked   \n",
       "5107  Self-employed          Rural              82.99  30.6     never smoked   \n",
       "5108        Private          Rural             166.29  25.6  formerly smoked   \n",
       "5109       Govt_job          Urban              85.28  26.2          Unknown   \n",
       "\n",
       "      stroke  \n",
       "0          1  \n",
       "1          1  \n",
       "2          1  \n",
       "3          1  \n",
       "4          1  \n",
       "...      ...  \n",
       "5105       0  \n",
       "5106       0  \n",
       "5107       0  \n",
       "5108       0  \n",
       "5109       0  \n",
       "\n",
       "[5109 rows x 12 columns]"
      ]
     },
     "execution_count": 18,
     "metadata": {},
     "output_type": "execute_result"
    }
   ],
   "source": [
    "df"
   ]
  },
  {
   "cell_type": "markdown",
   "id": "temporal-shame",
   "metadata": {
    "papermill": {
     "duration": 0.099218,
     "end_time": "2021-04-15T16:42:43.512751",
     "exception": false,
     "start_time": "2021-04-15T16:42:43.413533",
     "status": "completed"
    },
    "tags": []
   },
   "source": [
    "### 2-a. Feature Engineering - Binary Features"
   ]
  },
  {
   "cell_type": "markdown",
   "id": "understood-sense",
   "metadata": {
    "papermill": {
     "duration": 0.100216,
     "end_time": "2021-04-15T16:42:43.713180",
     "exception": false,
     "start_time": "2021-04-15T16:42:43.612964",
     "status": "completed"
    },
    "tags": []
   },
   "source": [
    "1. gender : 0 or 1"
   ]
  },
  {
   "cell_type": "code",
   "execution_count": 19,
   "id": "thorough-sample",
   "metadata": {
    "execution": {
     "iopub.execute_input": "2021-04-15T16:42:43.916010Z",
     "iopub.status.busy": "2021-04-15T16:42:43.915188Z",
     "iopub.status.idle": "2021-04-15T16:42:43.924362Z",
     "shell.execute_reply": "2021-04-15T16:42:43.924875Z"
    },
    "papermill": {
     "duration": 0.112384,
     "end_time": "2021-04-15T16:42:43.925077",
     "exception": false,
     "start_time": "2021-04-15T16:42:43.812693",
     "status": "completed"
    },
    "tags": []
   },
   "outputs": [],
   "source": [
    "df['gender'] = df['gender'].apply(lambda x : 0 if x == 'Female' else 1)"
   ]
  },
  {
   "cell_type": "markdown",
   "id": "asian-algeria",
   "metadata": {
    "papermill": {
     "duration": 0.101737,
     "end_time": "2021-04-15T16:42:44.127968",
     "exception": false,
     "start_time": "2021-04-15T16:42:44.026231",
     "status": "completed"
    },
    "tags": []
   },
   "source": [
    "2. ever_married : 0 or 1"
   ]
  },
  {
   "cell_type": "code",
   "execution_count": 20,
   "id": "correct-convention",
   "metadata": {
    "execution": {
     "iopub.execute_input": "2021-04-15T16:42:44.331522Z",
     "iopub.status.busy": "2021-04-15T16:42:44.330819Z",
     "iopub.status.idle": "2021-04-15T16:42:44.340073Z",
     "shell.execute_reply": "2021-04-15T16:42:44.340636Z"
    },
    "papermill": {
     "duration": 0.113337,
     "end_time": "2021-04-15T16:42:44.340810",
     "exception": false,
     "start_time": "2021-04-15T16:42:44.227473",
     "status": "completed"
    },
    "tags": []
   },
   "outputs": [
    {
     "data": {
      "text/plain": [
       "array([1, 0])"
      ]
     },
     "execution_count": 20,
     "metadata": {},
     "output_type": "execute_result"
    }
   ],
   "source": [
    "df['ever_married'].apply(lambda x : 0 if x == 'No' else 1).unique()"
   ]
  },
  {
   "cell_type": "code",
   "execution_count": 21,
   "id": "continuous-issue",
   "metadata": {
    "execution": {
     "iopub.execute_input": "2021-04-15T16:42:44.546589Z",
     "iopub.status.busy": "2021-04-15T16:42:44.545878Z",
     "iopub.status.idle": "2021-04-15T16:42:44.554574Z",
     "shell.execute_reply": "2021-04-15T16:42:44.555089Z"
    },
    "papermill": {
     "duration": 0.11331,
     "end_time": "2021-04-15T16:42:44.555277",
     "exception": false,
     "start_time": "2021-04-15T16:42:44.441967",
     "status": "completed"
    },
    "tags": []
   },
   "outputs": [],
   "source": [
    "df['ever_married'] = df['ever_married'].apply(lambda x : 0 if x == 'No' else 1)"
   ]
  },
  {
   "cell_type": "markdown",
   "id": "instant-counter",
   "metadata": {
    "papermill": {
     "duration": 0.099768,
     "end_time": "2021-04-15T16:42:44.756438",
     "exception": false,
     "start_time": "2021-04-15T16:42:44.656670",
     "status": "completed"
    },
    "tags": []
   },
   "source": [
    "3. Residence_type"
   ]
  },
  {
   "cell_type": "code",
   "execution_count": 22,
   "id": "beneficial-petersburg",
   "metadata": {
    "execution": {
     "iopub.execute_input": "2021-04-15T16:42:44.961514Z",
     "iopub.status.busy": "2021-04-15T16:42:44.960782Z",
     "iopub.status.idle": "2021-04-15T16:42:44.970049Z",
     "shell.execute_reply": "2021-04-15T16:42:44.969367Z"
    },
    "papermill": {
     "duration": 0.11311,
     "end_time": "2021-04-15T16:42:44.970191",
     "exception": false,
     "start_time": "2021-04-15T16:42:44.857081",
     "status": "completed"
    },
    "tags": []
   },
   "outputs": [
    {
     "data": {
      "text/plain": [
       "Urban    2596\n",
       "Rural    2513\n",
       "Name: Residence_type, dtype: int64"
      ]
     },
     "execution_count": 22,
     "metadata": {},
     "output_type": "execute_result"
    }
   ],
   "source": [
    "df['Residence_type'].value_counts()"
   ]
  },
  {
   "cell_type": "code",
   "execution_count": 23,
   "id": "impressive-truck",
   "metadata": {
    "execution": {
     "iopub.execute_input": "2021-04-15T16:42:45.177264Z",
     "iopub.status.busy": "2021-04-15T16:42:45.176567Z",
     "iopub.status.idle": "2021-04-15T16:42:45.185266Z",
     "shell.execute_reply": "2021-04-15T16:42:45.185808Z"
    },
    "papermill": {
     "duration": 0.113162,
     "end_time": "2021-04-15T16:42:45.185998",
     "exception": false,
     "start_time": "2021-04-15T16:42:45.072836",
     "status": "completed"
    },
    "tags": []
   },
   "outputs": [],
   "source": [
    "df['Residence_type'] = df['Residence_type'].apply(lambda x : 0 if x == 'Rural' else 1)"
   ]
  },
  {
   "cell_type": "code",
   "execution_count": 24,
   "id": "growing-breathing",
   "metadata": {
    "execution": {
     "iopub.execute_input": "2021-04-15T16:42:45.391992Z",
     "iopub.status.busy": "2021-04-15T16:42:45.391351Z",
     "iopub.status.idle": "2021-04-15T16:42:45.420965Z",
     "shell.execute_reply": "2021-04-15T16:42:45.420360Z"
    },
    "papermill": {
     "duration": 0.13419,
     "end_time": "2021-04-15T16:42:45.421128",
     "exception": false,
     "start_time": "2021-04-15T16:42:45.286938",
     "status": "completed"
    },
    "tags": []
   },
   "outputs": [
    {
     "data": {
      "text/html": [
       "<div>\n",
       "<style scoped>\n",
       "    .dataframe tbody tr th:only-of-type {\n",
       "        vertical-align: middle;\n",
       "    }\n",
       "\n",
       "    .dataframe tbody tr th {\n",
       "        vertical-align: top;\n",
       "    }\n",
       "\n",
       "    .dataframe thead th {\n",
       "        text-align: right;\n",
       "    }\n",
       "</style>\n",
       "<table border=\"1\" class=\"dataframe\">\n",
       "  <thead>\n",
       "    <tr style=\"text-align: right;\">\n",
       "      <th></th>\n",
       "      <th>id</th>\n",
       "      <th>gender</th>\n",
       "      <th>age</th>\n",
       "      <th>hypertension</th>\n",
       "      <th>heart_disease</th>\n",
       "      <th>ever_married</th>\n",
       "      <th>work_type</th>\n",
       "      <th>Residence_type</th>\n",
       "      <th>avg_glucose_level</th>\n",
       "      <th>bmi</th>\n",
       "      <th>smoking_status</th>\n",
       "      <th>stroke</th>\n",
       "    </tr>\n",
       "  </thead>\n",
       "  <tbody>\n",
       "    <tr>\n",
       "      <th>0</th>\n",
       "      <td>9046</td>\n",
       "      <td>1</td>\n",
       "      <td>67.0</td>\n",
       "      <td>0</td>\n",
       "      <td>1</td>\n",
       "      <td>1</td>\n",
       "      <td>Private</td>\n",
       "      <td>1</td>\n",
       "      <td>228.69</td>\n",
       "      <td>36.6</td>\n",
       "      <td>formerly smoked</td>\n",
       "      <td>1</td>\n",
       "    </tr>\n",
       "    <tr>\n",
       "      <th>1</th>\n",
       "      <td>51676</td>\n",
       "      <td>0</td>\n",
       "      <td>61.0</td>\n",
       "      <td>0</td>\n",
       "      <td>0</td>\n",
       "      <td>1</td>\n",
       "      <td>Self-employed</td>\n",
       "      <td>0</td>\n",
       "      <td>202.21</td>\n",
       "      <td>NaN</td>\n",
       "      <td>never smoked</td>\n",
       "      <td>1</td>\n",
       "    </tr>\n",
       "    <tr>\n",
       "      <th>2</th>\n",
       "      <td>31112</td>\n",
       "      <td>1</td>\n",
       "      <td>80.0</td>\n",
       "      <td>0</td>\n",
       "      <td>1</td>\n",
       "      <td>1</td>\n",
       "      <td>Private</td>\n",
       "      <td>0</td>\n",
       "      <td>105.92</td>\n",
       "      <td>32.5</td>\n",
       "      <td>never smoked</td>\n",
       "      <td>1</td>\n",
       "    </tr>\n",
       "    <tr>\n",
       "      <th>3</th>\n",
       "      <td>60182</td>\n",
       "      <td>0</td>\n",
       "      <td>49.0</td>\n",
       "      <td>0</td>\n",
       "      <td>0</td>\n",
       "      <td>1</td>\n",
       "      <td>Private</td>\n",
       "      <td>1</td>\n",
       "      <td>171.23</td>\n",
       "      <td>34.4</td>\n",
       "      <td>smokes</td>\n",
       "      <td>1</td>\n",
       "    </tr>\n",
       "    <tr>\n",
       "      <th>4</th>\n",
       "      <td>1665</td>\n",
       "      <td>0</td>\n",
       "      <td>79.0</td>\n",
       "      <td>1</td>\n",
       "      <td>0</td>\n",
       "      <td>1</td>\n",
       "      <td>Self-employed</td>\n",
       "      <td>0</td>\n",
       "      <td>174.12</td>\n",
       "      <td>24.0</td>\n",
       "      <td>never smoked</td>\n",
       "      <td>1</td>\n",
       "    </tr>\n",
       "    <tr>\n",
       "      <th>...</th>\n",
       "      <td>...</td>\n",
       "      <td>...</td>\n",
       "      <td>...</td>\n",
       "      <td>...</td>\n",
       "      <td>...</td>\n",
       "      <td>...</td>\n",
       "      <td>...</td>\n",
       "      <td>...</td>\n",
       "      <td>...</td>\n",
       "      <td>...</td>\n",
       "      <td>...</td>\n",
       "      <td>...</td>\n",
       "    </tr>\n",
       "    <tr>\n",
       "      <th>5105</th>\n",
       "      <td>18234</td>\n",
       "      <td>0</td>\n",
       "      <td>80.0</td>\n",
       "      <td>1</td>\n",
       "      <td>0</td>\n",
       "      <td>1</td>\n",
       "      <td>Private</td>\n",
       "      <td>1</td>\n",
       "      <td>83.75</td>\n",
       "      <td>NaN</td>\n",
       "      <td>never smoked</td>\n",
       "      <td>0</td>\n",
       "    </tr>\n",
       "    <tr>\n",
       "      <th>5106</th>\n",
       "      <td>44873</td>\n",
       "      <td>0</td>\n",
       "      <td>81.0</td>\n",
       "      <td>0</td>\n",
       "      <td>0</td>\n",
       "      <td>1</td>\n",
       "      <td>Self-employed</td>\n",
       "      <td>1</td>\n",
       "      <td>125.20</td>\n",
       "      <td>40.0</td>\n",
       "      <td>never smoked</td>\n",
       "      <td>0</td>\n",
       "    </tr>\n",
       "    <tr>\n",
       "      <th>5107</th>\n",
       "      <td>19723</td>\n",
       "      <td>0</td>\n",
       "      <td>35.0</td>\n",
       "      <td>0</td>\n",
       "      <td>0</td>\n",
       "      <td>1</td>\n",
       "      <td>Self-employed</td>\n",
       "      <td>0</td>\n",
       "      <td>82.99</td>\n",
       "      <td>30.6</td>\n",
       "      <td>never smoked</td>\n",
       "      <td>0</td>\n",
       "    </tr>\n",
       "    <tr>\n",
       "      <th>5108</th>\n",
       "      <td>37544</td>\n",
       "      <td>1</td>\n",
       "      <td>51.0</td>\n",
       "      <td>0</td>\n",
       "      <td>0</td>\n",
       "      <td>1</td>\n",
       "      <td>Private</td>\n",
       "      <td>0</td>\n",
       "      <td>166.29</td>\n",
       "      <td>25.6</td>\n",
       "      <td>formerly smoked</td>\n",
       "      <td>0</td>\n",
       "    </tr>\n",
       "    <tr>\n",
       "      <th>5109</th>\n",
       "      <td>44679</td>\n",
       "      <td>0</td>\n",
       "      <td>44.0</td>\n",
       "      <td>0</td>\n",
       "      <td>0</td>\n",
       "      <td>1</td>\n",
       "      <td>Govt_job</td>\n",
       "      <td>1</td>\n",
       "      <td>85.28</td>\n",
       "      <td>26.2</td>\n",
       "      <td>Unknown</td>\n",
       "      <td>0</td>\n",
       "    </tr>\n",
       "  </tbody>\n",
       "</table>\n",
       "<p>5109 rows × 12 columns</p>\n",
       "</div>"
      ],
      "text/plain": [
       "         id  gender   age  hypertension  heart_disease  ever_married  \\\n",
       "0      9046       1  67.0             0              1             1   \n",
       "1     51676       0  61.0             0              0             1   \n",
       "2     31112       1  80.0             0              1             1   \n",
       "3     60182       0  49.0             0              0             1   \n",
       "4      1665       0  79.0             1              0             1   \n",
       "...     ...     ...   ...           ...            ...           ...   \n",
       "5105  18234       0  80.0             1              0             1   \n",
       "5106  44873       0  81.0             0              0             1   \n",
       "5107  19723       0  35.0             0              0             1   \n",
       "5108  37544       1  51.0             0              0             1   \n",
       "5109  44679       0  44.0             0              0             1   \n",
       "\n",
       "          work_type  Residence_type  avg_glucose_level   bmi   smoking_status  \\\n",
       "0           Private               1             228.69  36.6  formerly smoked   \n",
       "1     Self-employed               0             202.21   NaN     never smoked   \n",
       "2           Private               0             105.92  32.5     never smoked   \n",
       "3           Private               1             171.23  34.4           smokes   \n",
       "4     Self-employed               0             174.12  24.0     never smoked   \n",
       "...             ...             ...                ...   ...              ...   \n",
       "5105        Private               1              83.75   NaN     never smoked   \n",
       "5106  Self-employed               1             125.20  40.0     never smoked   \n",
       "5107  Self-employed               0              82.99  30.6     never smoked   \n",
       "5108        Private               0             166.29  25.6  formerly smoked   \n",
       "5109       Govt_job               1              85.28  26.2          Unknown   \n",
       "\n",
       "      stroke  \n",
       "0          1  \n",
       "1          1  \n",
       "2          1  \n",
       "3          1  \n",
       "4          1  \n",
       "...      ...  \n",
       "5105       0  \n",
       "5106       0  \n",
       "5107       0  \n",
       "5108       0  \n",
       "5109       0  \n",
       "\n",
       "[5109 rows x 12 columns]"
      ]
     },
     "execution_count": 24,
     "metadata": {},
     "output_type": "execute_result"
    }
   ],
   "source": [
    "df"
   ]
  },
  {
   "cell_type": "markdown",
   "id": "dense-firmware",
   "metadata": {
    "papermill": {
     "duration": 0.102369,
     "end_time": "2021-04-15T16:42:45.634808",
     "exception": false,
     "start_time": "2021-04-15T16:42:45.532439",
     "status": "completed"
    },
    "tags": []
   },
   "source": [
    "### 2-b. Feature Engineering - Continuous Features"
   ]
  },
  {
   "cell_type": "code",
   "execution_count": 25,
   "id": "atomic-hospital",
   "metadata": {
    "execution": {
     "iopub.execute_input": "2021-04-15T16:42:45.842824Z",
     "iopub.status.busy": "2021-04-15T16:42:45.842077Z",
     "iopub.status.idle": "2021-04-15T16:42:46.872657Z",
     "shell.execute_reply": "2021-04-15T16:42:46.873203Z"
    },
    "papermill": {
     "duration": 1.137724,
     "end_time": "2021-04-15T16:42:46.873408",
     "exception": false,
     "start_time": "2021-04-15T16:42:45.735684",
     "status": "completed"
    },
    "tags": []
   },
   "outputs": [],
   "source": [
    "import matplotlib.pyplot as plt\n",
    "import seaborn as sns\n",
    "%matplotlib inline"
   ]
  },
  {
   "cell_type": "code",
   "execution_count": 26,
   "id": "artificial-hardware",
   "metadata": {
    "execution": {
     "iopub.execute_input": "2021-04-15T16:42:47.083794Z",
     "iopub.status.busy": "2021-04-15T16:42:47.082892Z",
     "iopub.status.idle": "2021-04-15T16:42:47.086667Z",
     "shell.execute_reply": "2021-04-15T16:42:47.085962Z"
    },
    "papermill": {
     "duration": 0.110117,
     "end_time": "2021-04-15T16:42:47.086821",
     "exception": false,
     "start_time": "2021-04-15T16:42:46.976704",
     "status": "completed"
    },
    "tags": []
   },
   "outputs": [],
   "source": [
    "import warnings\n",
    "warnings.filterwarnings(\"ignore\")"
   ]
  },
  {
   "cell_type": "markdown",
   "id": "specified-supervisor",
   "metadata": {
    "papermill": {
     "duration": 0.102247,
     "end_time": "2021-04-15T16:42:47.291923",
     "exception": false,
     "start_time": "2021-04-15T16:42:47.189676",
     "status": "completed"
    },
    "tags": []
   },
   "source": [
    "1. age"
   ]
  },
  {
   "cell_type": "code",
   "execution_count": 27,
   "id": "isolated-binary",
   "metadata": {
    "execution": {
     "iopub.execute_input": "2021-04-15T16:42:47.527478Z",
     "iopub.status.busy": "2021-04-15T16:42:47.526632Z",
     "iopub.status.idle": "2021-04-15T16:42:47.849452Z",
     "shell.execute_reply": "2021-04-15T16:42:47.848857Z"
    },
    "papermill": {
     "duration": 0.455541,
     "end_time": "2021-04-15T16:42:47.849599",
     "exception": false,
     "start_time": "2021-04-15T16:42:47.394058",
     "status": "completed"
    },
    "tags": []
   },
   "outputs": [
    {
     "data": {
      "image/png": "[encoded data removed]",
      "text/plain": [
       "<Figure size 432x288 with 1 Axes>"
      ]
     },
     "metadata": {
      "needs_background": "light"
     },
     "output_type": "display_data"
    }
   ],
   "source": [
    "sns.distplot(df['age']);"
   ]
  },
  {
   "cell_type": "code",
   "execution_count": 28,
   "id": "center-flooring",
   "metadata": {
    "execution": {
     "iopub.execute_input": "2021-04-15T16:42:48.070592Z",
     "iopub.status.busy": "2021-04-15T16:42:48.069654Z",
     "iopub.status.idle": "2021-04-15T16:42:48.073348Z",
     "shell.execute_reply": "2021-04-15T16:42:48.072631Z"
    },
    "papermill": {
     "duration": 0.115338,
     "end_time": "2021-04-15T16:42:48.073505",
     "exception": false,
     "start_time": "2021-04-15T16:42:47.958167",
     "status": "completed"
    },
    "tags": []
   },
   "outputs": [],
   "source": [
    "def age_classifier(age):\n",
    "    if age < 20 :\n",
    "        return 'age_under 19'\n",
    "    elif age < 40 :\n",
    "        return 'age_20 to 39'\n",
    "    elif age < 60:\n",
    "        return 'age_40 to 59'\n",
    "    else:\n",
    "        return 'age_over 60'"
   ]
  },
  {
   "cell_type": "code",
   "execution_count": 29,
   "id": "second-korean",
   "metadata": {
    "execution": {
     "iopub.execute_input": "2021-04-15T16:42:48.295205Z",
     "iopub.status.busy": "2021-04-15T16:42:48.294495Z",
     "iopub.status.idle": "2021-04-15T16:42:48.297413Z",
     "shell.execute_reply": "2021-04-15T16:42:48.297921Z"
    },
    "papermill": {
     "duration": 0.120132,
     "end_time": "2021-04-15T16:42:48.298217",
     "exception": false,
     "start_time": "2021-04-15T16:42:48.178085",
     "status": "completed"
    },
    "tags": []
   },
   "outputs": [
    {
     "data": {
      "text/plain": [
       "0        age_over 60\n",
       "1        age_over 60\n",
       "2        age_over 60\n",
       "3       age_40 to 59\n",
       "4        age_over 60\n",
       "            ...     \n",
       "5105     age_over 60\n",
       "5106     age_over 60\n",
       "5107    age_20 to 39\n",
       "5108    age_40 to 59\n",
       "5109    age_40 to 59\n",
       "Name: age, Length: 5109, dtype: object"
      ]
     },
     "execution_count": 29,
     "metadata": {},
     "output_type": "execute_result"
    }
   ],
   "source": [
    "df['age'].apply(lambda x : age_classifier(x))"
   ]
  },
  {
   "cell_type": "code",
   "execution_count": 30,
   "id": "accomplished-luther",
   "metadata": {
    "execution": {
     "iopub.execute_input": "2021-04-15T16:42:48.510463Z",
     "iopub.status.busy": "2021-04-15T16:42:48.509804Z",
     "iopub.status.idle": "2021-04-15T16:42:48.518152Z",
     "shell.execute_reply": "2021-04-15T16:42:48.518821Z"
    },
    "papermill": {
     "duration": 0.116967,
     "end_time": "2021-04-15T16:42:48.519028",
     "exception": false,
     "start_time": "2021-04-15T16:42:48.402061",
     "status": "completed"
    },
    "tags": []
   },
   "outputs": [],
   "source": [
    "df['age'] = df['age'].apply(lambda x : age_classifier(x))"
   ]
  },
  {
   "cell_type": "code",
   "execution_count": 31,
   "id": "solar-lounge",
   "metadata": {
    "execution": {
     "iopub.execute_input": "2021-04-15T16:42:48.731388Z",
     "iopub.status.busy": "2021-04-15T16:42:48.730730Z",
     "iopub.status.idle": "2021-04-15T16:42:48.736874Z",
     "shell.execute_reply": "2021-04-15T16:42:48.737426Z"
    },
    "papermill": {
     "duration": 0.114539,
     "end_time": "2021-04-15T16:42:48.737612",
     "exception": false,
     "start_time": "2021-04-15T16:42:48.623073",
     "status": "completed"
    },
    "tags": []
   },
   "outputs": [
    {
     "data": {
      "text/plain": [
       "array(['age_over 60', 'age_40 to 59', 'age_20 to 39', 'age_under 19'],\n",
       "      dtype=object)"
      ]
     },
     "execution_count": 31,
     "metadata": {},
     "output_type": "execute_result"
    }
   ],
   "source": [
    "df['age'].unique()"
   ]
  },
  {
   "cell_type": "code",
   "execution_count": 32,
   "id": "enabling-indianapolis",
   "metadata": {
    "execution": {
     "iopub.execute_input": "2021-04-15T16:42:48.956695Z",
     "iopub.status.busy": "2021-04-15T16:42:48.955656Z",
     "iopub.status.idle": "2021-04-15T16:42:48.959574Z",
     "shell.execute_reply": "2021-04-15T16:42:48.960068Z"
    },
    "papermill": {
     "duration": 0.117246,
     "end_time": "2021-04-15T16:42:48.960264",
     "exception": false,
     "start_time": "2021-04-15T16:42:48.843018",
     "status": "completed"
    },
    "tags": []
   },
   "outputs": [
    {
     "data": {
      "text/plain": [
       "age_40 to 59    1564\n",
       "age_over 60     1376\n",
       "age_20 to 39    1203\n",
       "age_under 19     966\n",
       "Name: age, dtype: int64"
      ]
     },
     "execution_count": 32,
     "metadata": {},
     "output_type": "execute_result"
    }
   ],
   "source": [
    "df['age'].value_counts()"
   ]
  },
  {
   "cell_type": "markdown",
   "id": "convertible-display",
   "metadata": {
    "papermill": {
     "duration": 0.104619,
     "end_time": "2021-04-15T16:42:49.171909",
     "exception": false,
     "start_time": "2021-04-15T16:42:49.067290",
     "status": "completed"
    },
    "tags": []
   },
   "source": [
    "2. avg_glucose_level"
   ]
  },
  {
   "cell_type": "code",
   "execution_count": 33,
   "id": "cognitive-discharge",
   "metadata": {
    "execution": {
     "iopub.execute_input": "2021-04-15T16:42:49.386238Z",
     "iopub.status.busy": "2021-04-15T16:42:49.385205Z",
     "iopub.status.idle": "2021-04-15T16:42:49.691467Z",
     "shell.execute_reply": "2021-04-15T16:42:49.690875Z"
    },
    "papermill": {
     "duration": 0.414067,
     "end_time": "2021-04-15T16:42:49.691624",
     "exception": false,
     "start_time": "2021-04-15T16:42:49.277557",
     "status": "completed"
    },
    "tags": []
   },
   "outputs": [
    {
     "data": {
      "image/png": "[encoded data removed]",
      "text/plain": [
       "<Figure size 432x288 with 1 Axes>"
      ]
     },
     "metadata": {
      "needs_background": "light"
     },
     "output_type": "display_data"
    }
   ],
   "source": [
    "sns.distplot(df['avg_glucose_level']);"
   ]
  },
  {
   "cell_type": "code",
   "execution_count": 34,
   "id": "contained-julian",
   "metadata": {
    "execution": {
     "iopub.execute_input": "2021-04-15T16:42:49.913110Z",
     "iopub.status.busy": "2021-04-15T16:42:49.911945Z",
     "iopub.status.idle": "2021-04-15T16:42:49.919662Z",
     "shell.execute_reply": "2021-04-15T16:42:49.920154Z"
    },
    "papermill": {
     "duration": 0.122015,
     "end_time": "2021-04-15T16:42:49.920388",
     "exception": false,
     "start_time": "2021-04-15T16:42:49.798373",
     "status": "completed"
    },
    "tags": []
   },
   "outputs": [
    {
     "data": {
      "text/plain": [
       "count    5109.000000\n",
       "mean      106.140399\n",
       "std        45.285004\n",
       "min        55.120000\n",
       "25%        77.240000\n",
       "50%        91.880000\n",
       "75%       114.090000\n",
       "max       271.740000\n",
       "Name: avg_glucose_level, dtype: float64"
      ]
     },
     "execution_count": 34,
     "metadata": {},
     "output_type": "execute_result"
    }
   ],
   "source": [
    "df['avg_glucose_level'].describe()"
   ]
  },
  {
   "cell_type": "markdown",
   "id": "domestic-halloween",
   "metadata": {
    "papermill": {
     "duration": 0.106317,
     "end_time": "2021-04-15T16:42:50.134507",
     "exception": false,
     "start_time": "2021-04-15T16:42:50.028190",
     "status": "completed"
    },
    "tags": []
   },
   "source": [
    "___\n",
    "let's split by 25%, 50%, 75% line"
   ]
  },
  {
   "cell_type": "code",
   "execution_count": 35,
   "id": "musical-manufacturer",
   "metadata": {
    "execution": {
     "iopub.execute_input": "2021-04-15T16:42:50.354087Z",
     "iopub.status.busy": "2021-04-15T16:42:50.353023Z",
     "iopub.status.idle": "2021-04-15T16:42:50.358129Z",
     "shell.execute_reply": "2021-04-15T16:42:50.358617Z"
    },
    "papermill": {
     "duration": 0.116104,
     "end_time": "2021-04-15T16:42:50.358803",
     "exception": false,
     "start_time": "2021-04-15T16:42:50.242699",
     "status": "completed"
    },
    "tags": []
   },
   "outputs": [],
   "source": [
    "def glucose_level_classifier(level):\n",
    "    if level < 77:\n",
    "        return 'gl_under 25%'\n",
    "    elif level < 91:\n",
    "        return 'gl_26% to 50%'\n",
    "    elif level < 114:\n",
    "        return 'gl_50% to 75%'\n",
    "    else:\n",
    "        return 'gl_over 75%'"
   ]
  },
  {
   "cell_type": "code",
   "execution_count": 36,
   "id": "federal-still",
   "metadata": {
    "execution": {
     "iopub.execute_input": "2021-04-15T16:42:50.599020Z",
     "iopub.status.busy": "2021-04-15T16:42:50.598016Z",
     "iopub.status.idle": "2021-04-15T16:42:50.609294Z",
     "shell.execute_reply": "2021-04-15T16:42:50.609788Z"
    },
    "papermill": {
     "duration": 0.128444,
     "end_time": "2021-04-15T16:42:50.609969",
     "exception": false,
     "start_time": "2021-04-15T16:42:50.481525",
     "status": "completed"
    },
    "tags": []
   },
   "outputs": [
    {
     "data": {
      "text/plain": [
       "0         gl_over 75%\n",
       "1         gl_over 75%\n",
       "2       gl_50% to 75%\n",
       "3         gl_over 75%\n",
       "4         gl_over 75%\n",
       "            ...      \n",
       "5105    gl_26% to 50%\n",
       "5106      gl_over 75%\n",
       "5107    gl_26% to 50%\n",
       "5108      gl_over 75%\n",
       "5109    gl_26% to 50%\n",
       "Name: avg_glucose_level, Length: 5109, dtype: object"
      ]
     },
     "execution_count": 36,
     "metadata": {},
     "output_type": "execute_result"
    }
   ],
   "source": [
    "df['avg_glucose_level'].apply(lambda x : glucose_level_classifier(x))"
   ]
  },
  {
   "cell_type": "code",
   "execution_count": 37,
   "id": "elder-church",
   "metadata": {
    "execution": {
     "iopub.execute_input": "2021-04-15T16:42:50.830240Z",
     "iopub.status.busy": "2021-04-15T16:42:50.829224Z",
     "iopub.status.idle": "2021-04-15T16:42:50.844053Z",
     "shell.execute_reply": "2021-04-15T16:42:50.843438Z"
    },
    "papermill": {
     "duration": 0.125942,
     "end_time": "2021-04-15T16:42:50.844208",
     "exception": false,
     "start_time": "2021-04-15T16:42:50.718266",
     "status": "completed"
    },
    "tags": []
   },
   "outputs": [
    {
     "data": {
      "text/plain": [
       "gl_50% to 75%    1340\n",
       "gl_over 75%      1281\n",
       "gl_under 25%     1260\n",
       "gl_26% to 50%    1228\n",
       "Name: avg_glucose_level, dtype: int64"
      ]
     },
     "execution_count": 37,
     "metadata": {},
     "output_type": "execute_result"
    }
   ],
   "source": [
    "# let's check 'is properly distributed?'\n",
    "df['avg_glucose_level'].apply(lambda x : glucose_level_classifier(x)).value_counts()"
   ]
  },
  {
   "cell_type": "code",
   "execution_count": 38,
   "id": "growing-genome",
   "metadata": {
    "execution": {
     "iopub.execute_input": "2021-04-15T16:42:51.072128Z",
     "iopub.status.busy": "2021-04-15T16:42:51.071413Z",
     "iopub.status.idle": "2021-04-15T16:42:51.073798Z",
     "shell.execute_reply": "2021-04-15T16:42:51.074272Z"
    },
    "papermill": {
     "duration": 0.121038,
     "end_time": "2021-04-15T16:42:51.074486",
     "exception": false,
     "start_time": "2021-04-15T16:42:50.953448",
     "status": "completed"
    },
    "tags": []
   },
   "outputs": [],
   "source": [
    "df['avg_glucose_level'] = df['avg_glucose_level'].apply(lambda x : glucose_level_classifier(x))"
   ]
  },
  {
   "cell_type": "markdown",
   "id": "swiss-italic",
   "metadata": {
    "papermill": {
     "duration": 0.108068,
     "end_time": "2021-04-15T16:42:51.291130",
     "exception": false,
     "start_time": "2021-04-15T16:42:51.183062",
     "status": "completed"
    },
    "tags": []
   },
   "source": [
    "3. bmi"
   ]
  },
  {
   "cell_type": "code",
   "execution_count": 39,
   "id": "knowing-fabric",
   "metadata": {
    "execution": {
     "iopub.execute_input": "2021-04-15T16:42:51.512942Z",
     "iopub.status.busy": "2021-04-15T16:42:51.512209Z",
     "iopub.status.idle": "2021-04-15T16:42:51.523062Z",
     "shell.execute_reply": "2021-04-15T16:42:51.522370Z"
    },
    "papermill": {
     "duration": 0.122471,
     "end_time": "2021-04-15T16:42:51.523221",
     "exception": false,
     "start_time": "2021-04-15T16:42:51.400750",
     "status": "completed"
    },
    "tags": []
   },
   "outputs": [
    {
     "data": {
      "text/plain": [
       "count    4908.00000\n",
       "mean       28.89456\n",
       "std         7.85432\n",
       "min        10.30000\n",
       "25%        23.50000\n",
       "50%        28.10000\n",
       "75%        33.10000\n",
       "max        97.60000\n",
       "Name: bmi, dtype: float64"
      ]
     },
     "execution_count": 39,
     "metadata": {},
     "output_type": "execute_result"
    }
   ],
   "source": [
    "df['bmi'].describe()"
   ]
  },
  {
   "cell_type": "markdown",
   "id": "aggressive-momentum",
   "metadata": {
    "papermill": {
     "duration": 0.108292,
     "end_time": "2021-04-15T16:42:51.739981",
     "exception": false,
     "start_time": "2021-04-15T16:42:51.631689",
     "status": "completed"
    },
    "tags": []
   },
   "source": [
    "---\n",
    "Let's classify 'bmi' the same as 'avg_glucose_level' (distribution %)"
   ]
  },
  {
   "cell_type": "code",
   "execution_count": 40,
   "id": "consecutive-mirror",
   "metadata": {
    "execution": {
     "iopub.execute_input": "2021-04-15T16:42:51.962526Z",
     "iopub.status.busy": "2021-04-15T16:42:51.961835Z",
     "iopub.status.idle": "2021-04-15T16:42:51.964094Z",
     "shell.execute_reply": "2021-04-15T16:42:51.964731Z"
    },
    "papermill": {
     "duration": 0.116681,
     "end_time": "2021-04-15T16:42:51.964913",
     "exception": false,
     "start_time": "2021-04-15T16:42:51.848232",
     "status": "completed"
    },
    "tags": []
   },
   "outputs": [],
   "source": [
    "def bmi_classifier(figure):\n",
    "    if figure < 23:\n",
    "        return 'bmi_under 25%'\n",
    "    elif figure < 28:\n",
    "        return 'bmi_26% to 50%'\n",
    "    elif figure < 33:\n",
    "        return 'bmi_50% to 75%'\n",
    "    else:\n",
    "        return 'bmi_over 75%'"
   ]
  },
  {
   "cell_type": "markdown",
   "id": "experimental-bouquet",
   "metadata": {
    "papermill": {
     "duration": 0.107718,
     "end_time": "2021-04-15T16:42:52.181531",
     "exception": false,
     "start_time": "2021-04-15T16:42:52.073813",
     "status": "completed"
    },
    "tags": []
   },
   "source": [
    "---\n",
    "!! But 'bmi' has 101 null values"
   ]
  },
  {
   "cell_type": "code",
   "execution_count": 41,
   "id": "wound-cleaner",
   "metadata": {
    "execution": {
     "iopub.execute_input": "2021-04-15T16:42:52.401541Z",
     "iopub.status.busy": "2021-04-15T16:42:52.400827Z",
     "iopub.status.idle": "2021-04-15T16:42:52.418842Z",
     "shell.execute_reply": "2021-04-15T16:42:52.419396Z"
    },
    "papermill": {
     "duration": 0.129523,
     "end_time": "2021-04-15T16:42:52.419583",
     "exception": false,
     "start_time": "2021-04-15T16:42:52.290060",
     "status": "completed"
    },
    "tags": []
   },
   "outputs": [
    {
     "name": "stdout",
     "output_type": "stream",
     "text": [
      "<class 'pandas.core.frame.DataFrame'>\n",
      "Int64Index: 5109 entries, 0 to 5109\n",
      "Data columns (total 12 columns):\n",
      " #   Column             Non-Null Count  Dtype  \n",
      "---  ------             --------------  -----  \n",
      " 0   id                 5109 non-null   int64  \n",
      " 1   gender             5109 non-null   int64  \n",
      " 2   age                5109 non-null   object \n",
      " 3   hypertension       5109 non-null   int64  \n",
      " 4   heart_disease      5109 non-null   int64  \n",
      " 5   ever_married       5109 non-null   int64  \n",
      " 6   work_type          5109 non-null   object \n",
      " 7   Residence_type     5109 non-null   int64  \n",
      " 8   avg_glucose_level  5109 non-null   object \n",
      " 9   bmi                4908 non-null   float64\n",
      " 10  smoking_status     5109 non-null   object \n",
      " 11  stroke             5109 non-null   int64  \n",
      "dtypes: float64(1), int64(7), object(4)\n",
      "memory usage: 518.9+ KB\n"
     ]
    }
   ],
   "source": [
    "df.info()"
   ]
  },
  {
   "cell_type": "code",
   "execution_count": 42,
   "id": "headed-devices",
   "metadata": {
    "execution": {
     "iopub.execute_input": "2021-04-15T16:42:52.643852Z",
     "iopub.status.busy": "2021-04-15T16:42:52.643165Z",
     "iopub.status.idle": "2021-04-15T16:42:52.668816Z",
     "shell.execute_reply": "2021-04-15T16:42:52.669330Z"
    },
    "papermill": {
     "duration": 0.140792,
     "end_time": "2021-04-15T16:42:52.669526",
     "exception": false,
     "start_time": "2021-04-15T16:42:52.528734",
     "status": "completed"
    },
    "tags": []
   },
   "outputs": [
    {
     "data": {
      "text/html": [
       "<div>\n",
       "<style scoped>\n",
       "    .dataframe tbody tr th:only-of-type {\n",
       "        vertical-align: middle;\n",
       "    }\n",
       "\n",
       "    .dataframe tbody tr th {\n",
       "        vertical-align: top;\n",
       "    }\n",
       "\n",
       "    .dataframe thead th {\n",
       "        text-align: right;\n",
       "    }\n",
       "</style>\n",
       "<table border=\"1\" class=\"dataframe\">\n",
       "  <thead>\n",
       "    <tr style=\"text-align: right;\">\n",
       "      <th></th>\n",
       "      <th>id</th>\n",
       "      <th>gender</th>\n",
       "      <th>age</th>\n",
       "      <th>hypertension</th>\n",
       "      <th>heart_disease</th>\n",
       "      <th>ever_married</th>\n",
       "      <th>work_type</th>\n",
       "      <th>Residence_type</th>\n",
       "      <th>avg_glucose_level</th>\n",
       "      <th>bmi</th>\n",
       "      <th>smoking_status</th>\n",
       "      <th>stroke</th>\n",
       "    </tr>\n",
       "  </thead>\n",
       "  <tbody>\n",
       "    <tr>\n",
       "      <th>1</th>\n",
       "      <td>51676</td>\n",
       "      <td>0</td>\n",
       "      <td>age_over 60</td>\n",
       "      <td>0</td>\n",
       "      <td>0</td>\n",
       "      <td>1</td>\n",
       "      <td>Self-employed</td>\n",
       "      <td>0</td>\n",
       "      <td>gl_over 75%</td>\n",
       "      <td>NaN</td>\n",
       "      <td>never smoked</td>\n",
       "      <td>1</td>\n",
       "    </tr>\n",
       "    <tr>\n",
       "      <th>8</th>\n",
       "      <td>27419</td>\n",
       "      <td>0</td>\n",
       "      <td>age_40 to 59</td>\n",
       "      <td>0</td>\n",
       "      <td>0</td>\n",
       "      <td>1</td>\n",
       "      <td>Private</td>\n",
       "      <td>0</td>\n",
       "      <td>gl_under 25%</td>\n",
       "      <td>NaN</td>\n",
       "      <td>Unknown</td>\n",
       "      <td>1</td>\n",
       "    </tr>\n",
       "    <tr>\n",
       "      <th>13</th>\n",
       "      <td>8213</td>\n",
       "      <td>1</td>\n",
       "      <td>age_over 60</td>\n",
       "      <td>0</td>\n",
       "      <td>1</td>\n",
       "      <td>1</td>\n",
       "      <td>Private</td>\n",
       "      <td>1</td>\n",
       "      <td>gl_over 75%</td>\n",
       "      <td>NaN</td>\n",
       "      <td>Unknown</td>\n",
       "      <td>1</td>\n",
       "    </tr>\n",
       "    <tr>\n",
       "      <th>19</th>\n",
       "      <td>25226</td>\n",
       "      <td>1</td>\n",
       "      <td>age_40 to 59</td>\n",
       "      <td>0</td>\n",
       "      <td>1</td>\n",
       "      <td>0</td>\n",
       "      <td>Govt_job</td>\n",
       "      <td>1</td>\n",
       "      <td>gl_over 75%</td>\n",
       "      <td>NaN</td>\n",
       "      <td>Unknown</td>\n",
       "      <td>1</td>\n",
       "    </tr>\n",
       "    <tr>\n",
       "      <th>27</th>\n",
       "      <td>61843</td>\n",
       "      <td>1</td>\n",
       "      <td>age_40 to 59</td>\n",
       "      <td>0</td>\n",
       "      <td>0</td>\n",
       "      <td>1</td>\n",
       "      <td>Private</td>\n",
       "      <td>0</td>\n",
       "      <td>gl_over 75%</td>\n",
       "      <td>NaN</td>\n",
       "      <td>Unknown</td>\n",
       "      <td>1</td>\n",
       "    </tr>\n",
       "    <tr>\n",
       "      <th>...</th>\n",
       "      <td>...</td>\n",
       "      <td>...</td>\n",
       "      <td>...</td>\n",
       "      <td>...</td>\n",
       "      <td>...</td>\n",
       "      <td>...</td>\n",
       "      <td>...</td>\n",
       "      <td>...</td>\n",
       "      <td>...</td>\n",
       "      <td>...</td>\n",
       "      <td>...</td>\n",
       "      <td>...</td>\n",
       "    </tr>\n",
       "    <tr>\n",
       "      <th>5039</th>\n",
       "      <td>42007</td>\n",
       "      <td>1</td>\n",
       "      <td>age_40 to 59</td>\n",
       "      <td>0</td>\n",
       "      <td>0</td>\n",
       "      <td>0</td>\n",
       "      <td>Private</td>\n",
       "      <td>0</td>\n",
       "      <td>gl_under 25%</td>\n",
       "      <td>NaN</td>\n",
       "      <td>formerly smoked</td>\n",
       "      <td>0</td>\n",
       "    </tr>\n",
       "    <tr>\n",
       "      <th>5048</th>\n",
       "      <td>28788</td>\n",
       "      <td>1</td>\n",
       "      <td>age_40 to 59</td>\n",
       "      <td>0</td>\n",
       "      <td>0</td>\n",
       "      <td>1</td>\n",
       "      <td>Private</td>\n",
       "      <td>1</td>\n",
       "      <td>gl_over 75%</td>\n",
       "      <td>NaN</td>\n",
       "      <td>smokes</td>\n",
       "      <td>0</td>\n",
       "    </tr>\n",
       "    <tr>\n",
       "      <th>5093</th>\n",
       "      <td>32235</td>\n",
       "      <td>0</td>\n",
       "      <td>age_40 to 59</td>\n",
       "      <td>1</td>\n",
       "      <td>0</td>\n",
       "      <td>1</td>\n",
       "      <td>Govt_job</td>\n",
       "      <td>0</td>\n",
       "      <td>gl_50% to 75%</td>\n",
       "      <td>NaN</td>\n",
       "      <td>smokes</td>\n",
       "      <td>0</td>\n",
       "    </tr>\n",
       "    <tr>\n",
       "      <th>5099</th>\n",
       "      <td>7293</td>\n",
       "      <td>1</td>\n",
       "      <td>age_40 to 59</td>\n",
       "      <td>0</td>\n",
       "      <td>0</td>\n",
       "      <td>1</td>\n",
       "      <td>Private</td>\n",
       "      <td>0</td>\n",
       "      <td>gl_26% to 50%</td>\n",
       "      <td>NaN</td>\n",
       "      <td>smokes</td>\n",
       "      <td>0</td>\n",
       "    </tr>\n",
       "    <tr>\n",
       "      <th>5105</th>\n",
       "      <td>18234</td>\n",
       "      <td>0</td>\n",
       "      <td>age_over 60</td>\n",
       "      <td>1</td>\n",
       "      <td>0</td>\n",
       "      <td>1</td>\n",
       "      <td>Private</td>\n",
       "      <td>1</td>\n",
       "      <td>gl_26% to 50%</td>\n",
       "      <td>NaN</td>\n",
       "      <td>never smoked</td>\n",
       "      <td>0</td>\n",
       "    </tr>\n",
       "  </tbody>\n",
       "</table>\n",
       "<p>201 rows × 12 columns</p>\n",
       "</div>"
      ],
      "text/plain": [
       "         id  gender           age  hypertension  heart_disease  ever_married  \\\n",
       "1     51676       0   age_over 60             0              0             1   \n",
       "8     27419       0  age_40 to 59             0              0             1   \n",
       "13     8213       1   age_over 60             0              1             1   \n",
       "19    25226       1  age_40 to 59             0              1             0   \n",
       "27    61843       1  age_40 to 59             0              0             1   \n",
       "...     ...     ...           ...           ...            ...           ...   \n",
       "5039  42007       1  age_40 to 59             0              0             0   \n",
       "5048  28788       1  age_40 to 59             0              0             1   \n",
       "5093  32235       0  age_40 to 59             1              0             1   \n",
       "5099   7293       1  age_40 to 59             0              0             1   \n",
       "5105  18234       0   age_over 60             1              0             1   \n",
       "\n",
       "          work_type  Residence_type avg_glucose_level  bmi   smoking_status  \\\n",
       "1     Self-employed               0       gl_over 75%  NaN     never smoked   \n",
       "8           Private               0      gl_under 25%  NaN          Unknown   \n",
       "13          Private               1       gl_over 75%  NaN          Unknown   \n",
       "19         Govt_job               1       gl_over 75%  NaN          Unknown   \n",
       "27          Private               0       gl_over 75%  NaN          Unknown   \n",
       "...             ...             ...               ...  ...              ...   \n",
       "5039        Private               0      gl_under 25%  NaN  formerly smoked   \n",
       "5048        Private               1       gl_over 75%  NaN           smokes   \n",
       "5093       Govt_job               0     gl_50% to 75%  NaN           smokes   \n",
       "5099        Private               0     gl_26% to 50%  NaN           smokes   \n",
       "5105        Private               1     gl_26% to 50%  NaN     never smoked   \n",
       "\n",
       "      stroke  \n",
       "1          1  \n",
       "8          1  \n",
       "13         1  \n",
       "19         1  \n",
       "27         1  \n",
       "...      ...  \n",
       "5039       0  \n",
       "5048       0  \n",
       "5093       0  \n",
       "5099       0  \n",
       "5105       0  \n",
       "\n",
       "[201 rows x 12 columns]"
      ]
     },
     "execution_count": 42,
     "metadata": {},
     "output_type": "execute_result"
    }
   ],
   "source": [
    "df[df.bmi.isnull()]"
   ]
  },
  {
   "cell_type": "markdown",
   "id": "complicated-huntington",
   "metadata": {
    "papermill": {
     "duration": 0.110854,
     "end_time": "2021-04-15T16:42:52.890593",
     "exception": false,
     "start_time": "2021-04-15T16:42:52.779739",
     "status": "completed"
    },
    "tags": []
   },
   "source": [
    "We will fill null values with mean of bmi, because 50% line is similar with mean."
   ]
  },
  {
   "cell_type": "code",
   "execution_count": 43,
   "id": "human-plain",
   "metadata": {
    "execution": {
     "iopub.execute_input": "2021-04-15T16:42:53.142564Z",
     "iopub.status.busy": "2021-04-15T16:42:53.141819Z",
     "iopub.status.idle": "2021-04-15T16:42:53.408289Z",
     "shell.execute_reply": "2021-04-15T16:42:53.408847Z"
    },
    "papermill": {
     "duration": 0.408339,
     "end_time": "2021-04-15T16:42:53.409043",
     "exception": false,
     "start_time": "2021-04-15T16:42:53.000704",
     "status": "completed"
    },
    "tags": []
   },
   "outputs": [
    {
     "data": {
      "image/png": "[encoded data removed]",
      "text/plain": [
       "<Figure size 432x288 with 1 Axes>"
      ]
     },
     "metadata": {
      "needs_background": "light"
     },
     "output_type": "display_data"
    }
   ],
   "source": [
    "sns.distplot(df['bmi']);"
   ]
  },
  {
   "cell_type": "code",
   "execution_count": 44,
   "id": "saving-prospect",
   "metadata": {
    "execution": {
     "iopub.execute_input": "2021-04-15T16:42:53.636359Z",
     "iopub.status.busy": "2021-04-15T16:42:53.635655Z",
     "iopub.status.idle": "2021-04-15T16:42:53.639788Z",
     "shell.execute_reply": "2021-04-15T16:42:53.640295Z"
    },
    "papermill": {
     "duration": 0.119803,
     "end_time": "2021-04-15T16:42:53.640535",
     "exception": false,
     "start_time": "2021-04-15T16:42:53.520732",
     "status": "completed"
    },
    "tags": []
   },
   "outputs": [],
   "source": [
    "df['bmi'].fillna(28, inplace=True)"
   ]
  },
  {
   "cell_type": "code",
   "execution_count": 45,
   "id": "frank-marine",
   "metadata": {
    "execution": {
     "iopub.execute_input": "2021-04-15T16:42:53.872258Z",
     "iopub.status.busy": "2021-04-15T16:42:53.871604Z",
     "iopub.status.idle": "2021-04-15T16:42:53.875762Z",
     "shell.execute_reply": "2021-04-15T16:42:53.875106Z"
    },
    "papermill": {
     "duration": 0.122561,
     "end_time": "2021-04-15T16:42:53.875907",
     "exception": false,
     "start_time": "2021-04-15T16:42:53.753346",
     "status": "completed"
    },
    "tags": []
   },
   "outputs": [
    {
     "data": {
      "text/plain": [
       "0"
      ]
     },
     "execution_count": 45,
     "metadata": {},
     "output_type": "execute_result"
    }
   ],
   "source": [
    "df.bmi.isnull().sum()"
   ]
  },
  {
   "cell_type": "markdown",
   "id": "transsexual-language",
   "metadata": {
    "papermill": {
     "duration": 0.112663,
     "end_time": "2021-04-15T16:42:54.100351",
     "exception": false,
     "start_time": "2021-04-15T16:42:53.987688",
     "status": "completed"
    },
    "tags": []
   },
   "source": [
    "Filled well"
   ]
  },
  {
   "cell_type": "code",
   "execution_count": 46,
   "id": "convenient-marina",
   "metadata": {
    "execution": {
     "iopub.execute_input": "2021-04-15T16:42:54.334797Z",
     "iopub.status.busy": "2021-04-15T16:42:54.334091Z",
     "iopub.status.idle": "2021-04-15T16:42:54.337642Z",
     "shell.execute_reply": "2021-04-15T16:42:54.338283Z"
    },
    "papermill": {
     "duration": 0.126891,
     "end_time": "2021-04-15T16:42:54.338476",
     "exception": false,
     "start_time": "2021-04-15T16:42:54.211585",
     "status": "completed"
    },
    "tags": []
   },
   "outputs": [
    {
     "data": {
      "text/plain": [
       "bmi_50% to 75%    1434\n",
       "bmi_26% to 50%    1348\n",
       "bmi_over 75%      1250\n",
       "bmi_under 25%     1077\n",
       "Name: bmi, dtype: int64"
      ]
     },
     "execution_count": 46,
     "metadata": {},
     "output_type": "execute_result"
    }
   ],
   "source": [
    "df['bmi'].apply(lambda x : bmi_classifier(x)).value_counts()"
   ]
  },
  {
   "cell_type": "code",
   "execution_count": 47,
   "id": "rational-challenge",
   "metadata": {
    "execution": {
     "iopub.execute_input": "2021-04-15T16:42:54.564909Z",
     "iopub.status.busy": "2021-04-15T16:42:54.564232Z",
     "iopub.status.idle": "2021-04-15T16:42:54.572429Z",
     "shell.execute_reply": "2021-04-15T16:42:54.572989Z"
    },
    "papermill": {
     "duration": 0.123286,
     "end_time": "2021-04-15T16:42:54.573173",
     "exception": false,
     "start_time": "2021-04-15T16:42:54.449887",
     "status": "completed"
    },
    "tags": []
   },
   "outputs": [],
   "source": [
    "df['bmi'] = df['bmi'].apply(lambda x : bmi_classifier(x))"
   ]
  },
  {
   "cell_type": "code",
   "execution_count": 48,
   "id": "spread-orleans",
   "metadata": {
    "execution": {
     "iopub.execute_input": "2021-04-15T16:42:54.802887Z",
     "iopub.status.busy": "2021-04-15T16:42:54.801815Z",
     "iopub.status.idle": "2021-04-15T16:42:54.826764Z",
     "shell.execute_reply": "2021-04-15T16:42:54.826088Z"
    },
    "papermill": {
     "duration": 0.139762,
     "end_time": "2021-04-15T16:42:54.826902",
     "exception": false,
     "start_time": "2021-04-15T16:42:54.687140",
     "status": "completed"
    },
    "tags": []
   },
   "outputs": [
    {
     "data": {
      "text/html": [
       "<div>\n",
       "<style scoped>\n",
       "    .dataframe tbody tr th:only-of-type {\n",
       "        vertical-align: middle;\n",
       "    }\n",
       "\n",
       "    .dataframe tbody tr th {\n",
       "        vertical-align: top;\n",
       "    }\n",
       "\n",
       "    .dataframe thead th {\n",
       "        text-align: right;\n",
       "    }\n",
       "</style>\n",
       "<table border=\"1\" class=\"dataframe\">\n",
       "  <thead>\n",
       "    <tr style=\"text-align: right;\">\n",
       "      <th></th>\n",
       "      <th>id</th>\n",
       "      <th>gender</th>\n",
       "      <th>age</th>\n",
       "      <th>hypertension</th>\n",
       "      <th>heart_disease</th>\n",
       "      <th>ever_married</th>\n",
       "      <th>work_type</th>\n",
       "      <th>Residence_type</th>\n",
       "      <th>avg_glucose_level</th>\n",
       "      <th>bmi</th>\n",
       "      <th>smoking_status</th>\n",
       "      <th>stroke</th>\n",
       "    </tr>\n",
       "  </thead>\n",
       "  <tbody>\n",
       "    <tr>\n",
       "      <th>0</th>\n",
       "      <td>9046</td>\n",
       "      <td>1</td>\n",
       "      <td>age_over 60</td>\n",
       "      <td>0</td>\n",
       "      <td>1</td>\n",
       "      <td>1</td>\n",
       "      <td>Private</td>\n",
       "      <td>1</td>\n",
       "      <td>gl_over 75%</td>\n",
       "      <td>bmi_over 75%</td>\n",
       "      <td>formerly smoked</td>\n",
       "      <td>1</td>\n",
       "    </tr>\n",
       "    <tr>\n",
       "      <th>1</th>\n",
       "      <td>51676</td>\n",
       "      <td>0</td>\n",
       "      <td>age_over 60</td>\n",
       "      <td>0</td>\n",
       "      <td>0</td>\n",
       "      <td>1</td>\n",
       "      <td>Self-employed</td>\n",
       "      <td>0</td>\n",
       "      <td>gl_over 75%</td>\n",
       "      <td>bmi_50% to 75%</td>\n",
       "      <td>never smoked</td>\n",
       "      <td>1</td>\n",
       "    </tr>\n",
       "    <tr>\n",
       "      <th>2</th>\n",
       "      <td>31112</td>\n",
       "      <td>1</td>\n",
       "      <td>age_over 60</td>\n",
       "      <td>0</td>\n",
       "      <td>1</td>\n",
       "      <td>1</td>\n",
       "      <td>Private</td>\n",
       "      <td>0</td>\n",
       "      <td>gl_50% to 75%</td>\n",
       "      <td>bmi_50% to 75%</td>\n",
       "      <td>never smoked</td>\n",
       "      <td>1</td>\n",
       "    </tr>\n",
       "    <tr>\n",
       "      <th>3</th>\n",
       "      <td>60182</td>\n",
       "      <td>0</td>\n",
       "      <td>age_40 to 59</td>\n",
       "      <td>0</td>\n",
       "      <td>0</td>\n",
       "      <td>1</td>\n",
       "      <td>Private</td>\n",
       "      <td>1</td>\n",
       "      <td>gl_over 75%</td>\n",
       "      <td>bmi_over 75%</td>\n",
       "      <td>smokes</td>\n",
       "      <td>1</td>\n",
       "    </tr>\n",
       "    <tr>\n",
       "      <th>4</th>\n",
       "      <td>1665</td>\n",
       "      <td>0</td>\n",
       "      <td>age_over 60</td>\n",
       "      <td>1</td>\n",
       "      <td>0</td>\n",
       "      <td>1</td>\n",
       "      <td>Self-employed</td>\n",
       "      <td>0</td>\n",
       "      <td>gl_over 75%</td>\n",
       "      <td>bmi_26% to 50%</td>\n",
       "      <td>never smoked</td>\n",
       "      <td>1</td>\n",
       "    </tr>\n",
       "    <tr>\n",
       "      <th>...</th>\n",
       "      <td>...</td>\n",
       "      <td>...</td>\n",
       "      <td>...</td>\n",
       "      <td>...</td>\n",
       "      <td>...</td>\n",
       "      <td>...</td>\n",
       "      <td>...</td>\n",
       "      <td>...</td>\n",
       "      <td>...</td>\n",
       "      <td>...</td>\n",
       "      <td>...</td>\n",
       "      <td>...</td>\n",
       "    </tr>\n",
       "    <tr>\n",
       "      <th>5105</th>\n",
       "      <td>18234</td>\n",
       "      <td>0</td>\n",
       "      <td>age_over 60</td>\n",
       "      <td>1</td>\n",
       "      <td>0</td>\n",
       "      <td>1</td>\n",
       "      <td>Private</td>\n",
       "      <td>1</td>\n",
       "      <td>gl_26% to 50%</td>\n",
       "      <td>bmi_50% to 75%</td>\n",
       "      <td>never smoked</td>\n",
       "      <td>0</td>\n",
       "    </tr>\n",
       "    <tr>\n",
       "      <th>5106</th>\n",
       "      <td>44873</td>\n",
       "      <td>0</td>\n",
       "      <td>age_over 60</td>\n",
       "      <td>0</td>\n",
       "      <td>0</td>\n",
       "      <td>1</td>\n",
       "      <td>Self-employed</td>\n",
       "      <td>1</td>\n",
       "      <td>gl_over 75%</td>\n",
       "      <td>bmi_over 75%</td>\n",
       "      <td>never smoked</td>\n",
       "      <td>0</td>\n",
       "    </tr>\n",
       "    <tr>\n",
       "      <th>5107</th>\n",
       "      <td>19723</td>\n",
       "      <td>0</td>\n",
       "      <td>age_20 to 39</td>\n",
       "      <td>0</td>\n",
       "      <td>0</td>\n",
       "      <td>1</td>\n",
       "      <td>Self-employed</td>\n",
       "      <td>0</td>\n",
       "      <td>gl_26% to 50%</td>\n",
       "      <td>bmi_50% to 75%</td>\n",
       "      <td>never smoked</td>\n",
       "      <td>0</td>\n",
       "    </tr>\n",
       "    <tr>\n",
       "      <th>5108</th>\n",
       "      <td>37544</td>\n",
       "      <td>1</td>\n",
       "      <td>age_40 to 59</td>\n",
       "      <td>0</td>\n",
       "      <td>0</td>\n",
       "      <td>1</td>\n",
       "      <td>Private</td>\n",
       "      <td>0</td>\n",
       "      <td>gl_over 75%</td>\n",
       "      <td>bmi_26% to 50%</td>\n",
       "      <td>formerly smoked</td>\n",
       "      <td>0</td>\n",
       "    </tr>\n",
       "    <tr>\n",
       "      <th>5109</th>\n",
       "      <td>44679</td>\n",
       "      <td>0</td>\n",
       "      <td>age_40 to 59</td>\n",
       "      <td>0</td>\n",
       "      <td>0</td>\n",
       "      <td>1</td>\n",
       "      <td>Govt_job</td>\n",
       "      <td>1</td>\n",
       "      <td>gl_26% to 50%</td>\n",
       "      <td>bmi_26% to 50%</td>\n",
       "      <td>Unknown</td>\n",
       "      <td>0</td>\n",
       "    </tr>\n",
       "  </tbody>\n",
       "</table>\n",
       "<p>5109 rows × 12 columns</p>\n",
       "</div>"
      ],
      "text/plain": [
       "         id  gender           age  hypertension  heart_disease  ever_married  \\\n",
       "0      9046       1   age_over 60             0              1             1   \n",
       "1     51676       0   age_over 60             0              0             1   \n",
       "2     31112       1   age_over 60             0              1             1   \n",
       "3     60182       0  age_40 to 59             0              0             1   \n",
       "4      1665       0   age_over 60             1              0             1   \n",
       "...     ...     ...           ...           ...            ...           ...   \n",
       "5105  18234       0   age_over 60             1              0             1   \n",
       "5106  44873       0   age_over 60             0              0             1   \n",
       "5107  19723       0  age_20 to 39             0              0             1   \n",
       "5108  37544       1  age_40 to 59             0              0             1   \n",
       "5109  44679       0  age_40 to 59             0              0             1   \n",
       "\n",
       "          work_type  Residence_type avg_glucose_level             bmi  \\\n",
       "0           Private               1       gl_over 75%    bmi_over 75%   \n",
       "1     Self-employed               0       gl_over 75%  bmi_50% to 75%   \n",
       "2           Private               0     gl_50% to 75%  bmi_50% to 75%   \n",
       "3           Private               1       gl_over 75%    bmi_over 75%   \n",
       "4     Self-employed               0       gl_over 75%  bmi_26% to 50%   \n",
       "...             ...             ...               ...             ...   \n",
       "5105        Private               1     gl_26% to 50%  bmi_50% to 75%   \n",
       "5106  Self-employed               1       gl_over 75%    bmi_over 75%   \n",
       "5107  Self-employed               0     gl_26% to 50%  bmi_50% to 75%   \n",
       "5108        Private               0       gl_over 75%  bmi_26% to 50%   \n",
       "5109       Govt_job               1     gl_26% to 50%  bmi_26% to 50%   \n",
       "\n",
       "       smoking_status  stroke  \n",
       "0     formerly smoked       1  \n",
       "1        never smoked       1  \n",
       "2        never smoked       1  \n",
       "3              smokes       1  \n",
       "4        never smoked       1  \n",
       "...               ...     ...  \n",
       "5105     never smoked       0  \n",
       "5106     never smoked       0  \n",
       "5107     never smoked       0  \n",
       "5108  formerly smoked       0  \n",
       "5109          Unknown       0  \n",
       "\n",
       "[5109 rows x 12 columns]"
      ]
     },
     "execution_count": 48,
     "metadata": {},
     "output_type": "execute_result"
    }
   ],
   "source": [
    "df"
   ]
  },
  {
   "cell_type": "markdown",
   "id": "strong-challenge",
   "metadata": {
    "papermill": {
     "duration": 0.112133,
     "end_time": "2021-04-15T16:42:55.051189",
     "exception": false,
     "start_time": "2021-04-15T16:42:54.939056",
     "status": "completed"
    },
    "tags": []
   },
   "source": [
    "### 2-c. Feature Engineering - Categorical Features"
   ]
  },
  {
   "cell_type": "markdown",
   "id": "bright-influence",
   "metadata": {
    "papermill": {
     "duration": 0.114235,
     "end_time": "2021-04-15T16:42:55.277645",
     "exception": false,
     "start_time": "2021-04-15T16:42:55.163410",
     "status": "completed"
    },
    "tags": []
   },
   "source": [
    "In This part, We try One-Hot Encoding to All Categorical Features including we tranformed before(age, avg_glucose_level, bmi)"
   ]
  },
  {
   "cell_type": "code",
   "execution_count": 49,
   "id": "published-large",
   "metadata": {
    "execution": {
     "iopub.execute_input": "2021-04-15T16:42:55.521287Z",
     "iopub.status.busy": "2021-04-15T16:42:55.512952Z",
     "iopub.status.idle": "2021-04-15T16:42:55.526429Z",
     "shell.execute_reply": "2021-04-15T16:42:55.525852Z"
    },
    "papermill": {
     "duration": 0.13524,
     "end_time": "2021-04-15T16:42:55.526591",
     "exception": false,
     "start_time": "2021-04-15T16:42:55.391351",
     "status": "completed"
    },
    "tags": []
   },
   "outputs": [
    {
     "name": "stdout",
     "output_type": "stream",
     "text": [
      "<class 'pandas.core.frame.DataFrame'>\n",
      "Int64Index: 5109 entries, 0 to 5109\n",
      "Data columns (total 12 columns):\n",
      " #   Column             Non-Null Count  Dtype \n",
      "---  ------             --------------  ----- \n",
      " 0   id                 5109 non-null   int64 \n",
      " 1   gender             5109 non-null   int64 \n",
      " 2   age                5109 non-null   object\n",
      " 3   hypertension       5109 non-null   int64 \n",
      " 4   heart_disease      5109 non-null   int64 \n",
      " 5   ever_married       5109 non-null   int64 \n",
      " 6   work_type          5109 non-null   object\n",
      " 7   Residence_type     5109 non-null   int64 \n",
      " 8   avg_glucose_level  5109 non-null   object\n",
      " 9   bmi                5109 non-null   object\n",
      " 10  smoking_status     5109 non-null   object\n",
      " 11  stroke             5109 non-null   int64 \n",
      "dtypes: int64(7), object(5)\n",
      "memory usage: 518.9+ KB\n"
     ]
    }
   ],
   "source": [
    "df.info()"
   ]
  },
  {
   "cell_type": "code",
   "execution_count": 50,
   "id": "stylish-release",
   "metadata": {
    "execution": {
     "iopub.execute_input": "2021-04-15T16:42:55.757413Z",
     "iopub.status.busy": "2021-04-15T16:42:55.756772Z",
     "iopub.status.idle": "2021-04-15T16:42:55.760262Z",
     "shell.execute_reply": "2021-04-15T16:42:55.760849Z"
    },
    "papermill": {
     "duration": 0.120857,
     "end_time": "2021-04-15T16:42:55.761026",
     "exception": false,
     "start_time": "2021-04-15T16:42:55.640169",
     "status": "completed"
    },
    "tags": []
   },
   "outputs": [],
   "source": [
    "columns = df.columns"
   ]
  },
  {
   "cell_type": "code",
   "execution_count": 51,
   "id": "historical-emission",
   "metadata": {
    "execution": {
     "iopub.execute_input": "2021-04-15T16:42:55.989901Z",
     "iopub.status.busy": "2021-04-15T16:42:55.989196Z",
     "iopub.status.idle": "2021-04-15T16:42:55.996072Z",
     "shell.execute_reply": "2021-04-15T16:42:55.995469Z"
    },
    "papermill": {
     "duration": 0.122342,
     "end_time": "2021-04-15T16:42:55.996218",
     "exception": false,
     "start_time": "2021-04-15T16:42:55.873876",
     "status": "completed"
    },
    "tags": []
   },
   "outputs": [
    {
     "data": {
      "text/plain": [
       "Index(['id', 'gender', 'age', 'hypertension', 'heart_disease', 'ever_married',\n",
       "       'work_type', 'Residence_type', 'avg_glucose_level', 'bmi',\n",
       "       'smoking_status', 'stroke'],\n",
       "      dtype='object')"
      ]
     },
     "execution_count": 51,
     "metadata": {},
     "output_type": "execute_result"
    }
   ],
   "source": [
    "columns"
   ]
  },
  {
   "cell_type": "code",
   "execution_count": 52,
   "id": "proof-score",
   "metadata": {
    "execution": {
     "iopub.execute_input": "2021-04-15T16:42:56.233062Z",
     "iopub.status.busy": "2021-04-15T16:42:56.232391Z",
     "iopub.status.idle": "2021-04-15T16:42:56.235834Z",
     "shell.execute_reply": "2021-04-15T16:42:56.236332Z"
    },
    "papermill": {
     "duration": 0.123644,
     "end_time": "2021-04-15T16:42:56.236505",
     "exception": false,
     "start_time": "2021-04-15T16:42:56.112861",
     "status": "completed"
    },
    "tags": []
   },
   "outputs": [
    {
     "data": {
      "text/plain": [
       "dtype('int64')"
      ]
     },
     "execution_count": 52,
     "metadata": {},
     "output_type": "execute_result"
    }
   ],
   "source": [
    "df[columns[0]].dtype"
   ]
  },
  {
   "cell_type": "code",
   "execution_count": 53,
   "id": "potential-glossary",
   "metadata": {
    "execution": {
     "iopub.execute_input": "2021-04-15T16:42:56.469741Z",
     "iopub.status.busy": "2021-04-15T16:42:56.469002Z",
     "iopub.status.idle": "2021-04-15T16:42:56.473893Z",
     "shell.execute_reply": "2021-04-15T16:42:56.474504Z"
    },
    "papermill": {
     "duration": 0.122895,
     "end_time": "2021-04-15T16:42:56.474687",
     "exception": false,
     "start_time": "2021-04-15T16:42:56.351792",
     "status": "completed"
    },
    "tags": []
   },
   "outputs": [],
   "source": [
    "num_cols = []\n",
    "cat_cols = []\n",
    "for col in columns:\n",
    "    if df[col].dtype == int:\n",
    "        num_cols.append(col)\n",
    "    else:\n",
    "        cat_cols.append(col)"
   ]
  },
  {
   "cell_type": "code",
   "execution_count": 54,
   "id": "accepted-happening",
   "metadata": {
    "execution": {
     "iopub.execute_input": "2021-04-15T16:42:56.706811Z",
     "iopub.status.busy": "2021-04-15T16:42:56.706194Z",
     "iopub.status.idle": "2021-04-15T16:42:56.711608Z",
     "shell.execute_reply": "2021-04-15T16:42:56.712077Z"
    },
    "papermill": {
     "duration": 0.123251,
     "end_time": "2021-04-15T16:42:56.712258",
     "exception": false,
     "start_time": "2021-04-15T16:42:56.589007",
     "status": "completed"
    },
    "tags": []
   },
   "outputs": [
    {
     "name": "stdout",
     "output_type": "stream",
     "text": [
      "numeric columns : ['id', 'gender', 'hypertension', 'heart_disease', 'ever_married', 'Residence_type', 'stroke']\n",
      "categorical columns : ['age', 'work_type', 'avg_glucose_level', 'bmi', 'smoking_status']\n"
     ]
    }
   ],
   "source": [
    "print('numeric columns : {}'.format(num_cols))\n",
    "print('categorical columns : {}'.format(cat_cols))"
   ]
  },
  {
   "cell_type": "markdown",
   "id": "finite-workplace",
   "metadata": {
    "papermill": {
     "duration": 0.115399,
     "end_time": "2021-04-15T16:42:56.942740",
     "exception": false,
     "start_time": "2021-04-15T16:42:56.827341",
     "status": "completed"
    },
    "tags": []
   },
   "source": [
    "1. age"
   ]
  },
  {
   "cell_type": "code",
   "execution_count": 55,
   "id": "happy-strand",
   "metadata": {
    "execution": {
     "iopub.execute_input": "2021-04-15T16:42:57.176047Z",
     "iopub.status.busy": "2021-04-15T16:42:57.175070Z",
     "iopub.status.idle": "2021-04-15T16:42:57.389651Z",
     "shell.execute_reply": "2021-04-15T16:42:57.388932Z"
    },
    "papermill": {
     "duration": 0.33157,
     "end_time": "2021-04-15T16:42:57.389800",
     "exception": false,
     "start_time": "2021-04-15T16:42:57.058230",
     "status": "completed"
    },
    "tags": []
   },
   "outputs": [
    {
     "data": {
      "text/plain": [
       "array([[0, 0, 1, 0],\n",
       "       [0, 0, 1, 0],\n",
       "       [0, 0, 1, 0],\n",
       "       ...,\n",
       "       [1, 0, 0, 0],\n",
       "       [0, 1, 0, 0],\n",
       "       [0, 1, 0, 0]])"
      ]
     },
     "execution_count": 55,
     "metadata": {},
     "output_type": "execute_result"
    }
   ],
   "source": [
    "from sklearn.preprocessing import LabelBinarizer \n",
    "\n",
    "lb = LabelBinarizer()\n",
    "X_encoded = lb.fit_transform(df['age']) \n",
    "X_encoded"
   ]
  },
  {
   "cell_type": "code",
   "execution_count": 56,
   "id": "outside-initial",
   "metadata": {
    "execution": {
     "iopub.execute_input": "2021-04-15T16:42:57.647039Z",
     "iopub.status.busy": "2021-04-15T16:42:57.645995Z",
     "iopub.status.idle": "2021-04-15T16:42:57.650031Z",
     "shell.execute_reply": "2021-04-15T16:42:57.650481Z"
    },
    "papermill": {
     "duration": 0.133743,
     "end_time": "2021-04-15T16:42:57.650670",
     "exception": false,
     "start_time": "2021-04-15T16:42:57.516927",
     "status": "completed"
    },
    "tags": []
   },
   "outputs": [
    {
     "data": {
      "text/plain": [
       "0        age_over 60\n",
       "1        age_over 60\n",
       "2        age_over 60\n",
       "3       age_40 to 59\n",
       "4        age_over 60\n",
       "            ...     \n",
       "5105     age_over 60\n",
       "5106     age_over 60\n",
       "5107    age_20 to 39\n",
       "5108    age_40 to 59\n",
       "5109    age_40 to 59\n",
       "Name: age, Length: 5109, dtype: object"
      ]
     },
     "execution_count": 56,
     "metadata": {},
     "output_type": "execute_result"
    }
   ],
   "source": [
    "df['age']"
   ]
  },
  {
   "cell_type": "markdown",
   "id": "integral-elimination",
   "metadata": {
    "papermill": {
     "duration": 0.120504,
     "end_time": "2021-04-15T16:42:57.893188",
     "exception": false,
     "start_time": "2021-04-15T16:42:57.772684",
     "status": "completed"
    },
    "tags": []
   },
   "source": [
    "---\n",
    "- colums : [age_20 to 39 ,age_40 to 59, age_over 60, age_under 19]"
   ]
  },
  {
   "cell_type": "code",
   "execution_count": 57,
   "id": "academic-hometown",
   "metadata": {
    "execution": {
     "iopub.execute_input": "2021-04-15T16:42:58.144058Z",
     "iopub.status.busy": "2021-04-15T16:42:58.143016Z",
     "iopub.status.idle": "2021-04-15T16:42:58.149658Z",
     "shell.execute_reply": "2021-04-15T16:42:58.150108Z"
    },
    "papermill": {
     "duration": 0.134732,
     "end_time": "2021-04-15T16:42:58.150284",
     "exception": false,
     "start_time": "2021-04-15T16:42:58.015552",
     "status": "completed"
    },
    "tags": []
   },
   "outputs": [
    {
     "data": {
      "text/plain": [
       "array(['age_over 60', 'age_40 to 59', 'age_20 to 39', 'age_under 19'],\n",
       "      dtype=object)"
      ]
     },
     "execution_count": 57,
     "metadata": {},
     "output_type": "execute_result"
    }
   ],
   "source": [
    "df['age'].unique()"
   ]
  },
  {
   "cell_type": "code",
   "execution_count": 58,
   "id": "adjustable-margin",
   "metadata": {
    "execution": {
     "iopub.execute_input": "2021-04-15T16:42:58.388590Z",
     "iopub.status.busy": "2021-04-15T16:42:58.387611Z",
     "iopub.status.idle": "2021-04-15T16:42:58.400903Z",
     "shell.execute_reply": "2021-04-15T16:42:58.401461Z"
    },
    "papermill": {
     "duration": 0.135602,
     "end_time": "2021-04-15T16:42:58.401654",
     "exception": false,
     "start_time": "2021-04-15T16:42:58.266052",
     "status": "completed"
    },
    "tags": []
   },
   "outputs": [
    {
     "data": {
      "text/html": [
       "<div>\n",
       "<style scoped>\n",
       "    .dataframe tbody tr th:only-of-type {\n",
       "        vertical-align: middle;\n",
       "    }\n",
       "\n",
       "    .dataframe tbody tr th {\n",
       "        vertical-align: top;\n",
       "    }\n",
       "\n",
       "    .dataframe thead th {\n",
       "        text-align: right;\n",
       "    }\n",
       "</style>\n",
       "<table border=\"1\" class=\"dataframe\">\n",
       "  <thead>\n",
       "    <tr style=\"text-align: right;\">\n",
       "      <th></th>\n",
       "      <th>age_20 to 39</th>\n",
       "      <th>age_40 to 59</th>\n",
       "      <th>age_over 60</th>\n",
       "      <th>age_under 19</th>\n",
       "    </tr>\n",
       "  </thead>\n",
       "  <tbody>\n",
       "    <tr>\n",
       "      <th>0</th>\n",
       "      <td>0</td>\n",
       "      <td>0</td>\n",
       "      <td>1</td>\n",
       "      <td>0</td>\n",
       "    </tr>\n",
       "    <tr>\n",
       "      <th>1</th>\n",
       "      <td>0</td>\n",
       "      <td>0</td>\n",
       "      <td>1</td>\n",
       "      <td>0</td>\n",
       "    </tr>\n",
       "    <tr>\n",
       "      <th>2</th>\n",
       "      <td>0</td>\n",
       "      <td>0</td>\n",
       "      <td>1</td>\n",
       "      <td>0</td>\n",
       "    </tr>\n",
       "    <tr>\n",
       "      <th>3</th>\n",
       "      <td>0</td>\n",
       "      <td>1</td>\n",
       "      <td>0</td>\n",
       "      <td>0</td>\n",
       "    </tr>\n",
       "    <tr>\n",
       "      <th>4</th>\n",
       "      <td>0</td>\n",
       "      <td>0</td>\n",
       "      <td>1</td>\n",
       "      <td>0</td>\n",
       "    </tr>\n",
       "    <tr>\n",
       "      <th>...</th>\n",
       "      <td>...</td>\n",
       "      <td>...</td>\n",
       "      <td>...</td>\n",
       "      <td>...</td>\n",
       "    </tr>\n",
       "    <tr>\n",
       "      <th>5104</th>\n",
       "      <td>0</td>\n",
       "      <td>0</td>\n",
       "      <td>1</td>\n",
       "      <td>0</td>\n",
       "    </tr>\n",
       "    <tr>\n",
       "      <th>5105</th>\n",
       "      <td>0</td>\n",
       "      <td>0</td>\n",
       "      <td>1</td>\n",
       "      <td>0</td>\n",
       "    </tr>\n",
       "    <tr>\n",
       "      <th>5106</th>\n",
       "      <td>1</td>\n",
       "      <td>0</td>\n",
       "      <td>0</td>\n",
       "      <td>0</td>\n",
       "    </tr>\n",
       "    <tr>\n",
       "      <th>5107</th>\n",
       "      <td>0</td>\n",
       "      <td>1</td>\n",
       "      <td>0</td>\n",
       "      <td>0</td>\n",
       "    </tr>\n",
       "    <tr>\n",
       "      <th>5108</th>\n",
       "      <td>0</td>\n",
       "      <td>1</td>\n",
       "      <td>0</td>\n",
       "      <td>0</td>\n",
       "    </tr>\n",
       "  </tbody>\n",
       "</table>\n",
       "<p>5109 rows × 4 columns</p>\n",
       "</div>"
      ],
      "text/plain": [
       "      age_20 to 39  age_40 to 59  age_over 60  age_under 19\n",
       "0                0             0            1             0\n",
       "1                0             0            1             0\n",
       "2                0             0            1             0\n",
       "3                0             1            0             0\n",
       "4                0             0            1             0\n",
       "...            ...           ...          ...           ...\n",
       "5104             0             0            1             0\n",
       "5105             0             0            1             0\n",
       "5106             1             0            0             0\n",
       "5107             0             1            0             0\n",
       "5108             0             1            0             0\n",
       "\n",
       "[5109 rows x 4 columns]"
      ]
     },
     "execution_count": 58,
     "metadata": {},
     "output_type": "execute_result"
    }
   ],
   "source": [
    "pd.DataFrame(X_encoded, columns=['age_20 to 39' ,'age_40 to 59', 'age_over 60', 'age_under 19'])"
   ]
  },
  {
   "cell_type": "code",
   "execution_count": 59,
   "id": "interracial-consolidation",
   "metadata": {
    "execution": {
     "iopub.execute_input": "2021-04-15T16:42:58.651000Z",
     "iopub.status.busy": "2021-04-15T16:42:58.650303Z",
     "iopub.status.idle": "2021-04-15T16:42:58.654618Z",
     "shell.execute_reply": "2021-04-15T16:42:58.655362Z"
    },
    "papermill": {
     "duration": 0.131649,
     "end_time": "2021-04-15T16:42:58.655553",
     "exception": false,
     "start_time": "2021-04-15T16:42:58.523904",
     "status": "completed"
    },
    "tags": []
   },
   "outputs": [],
   "source": [
    "age_df = pd.DataFrame(X_encoded, columns=['age_20 to 39' ,'age_40 to 59', 'age_over 60', 'age_under 19'])"
   ]
  },
  {
   "cell_type": "code",
   "execution_count": 60,
   "id": "limiting-cincinnati",
   "metadata": {
    "execution": {
     "iopub.execute_input": "2021-04-15T16:42:58.912183Z",
     "iopub.status.busy": "2021-04-15T16:42:58.911464Z",
     "iopub.status.idle": "2021-04-15T16:42:58.917864Z",
     "shell.execute_reply": "2021-04-15T16:42:58.917010Z"
    },
    "papermill": {
     "duration": 0.135298,
     "end_time": "2021-04-15T16:42:58.918011",
     "exception": false,
     "start_time": "2021-04-15T16:42:58.782713",
     "status": "completed"
    },
    "tags": []
   },
   "outputs": [
    {
     "data": {
      "text/plain": [
       "['age', 'work_type', 'avg_glucose_level', 'bmi', 'smoking_status']"
      ]
     },
     "execution_count": 60,
     "metadata": {},
     "output_type": "execute_result"
    }
   ],
   "source": [
    "cat_cols"
   ]
  },
  {
   "cell_type": "markdown",
   "id": "corrected-surname",
   "metadata": {
    "papermill": {
     "duration": 0.182065,
     "end_time": "2021-04-15T16:42:59.227737",
     "exception": false,
     "start_time": "2021-04-15T16:42:59.045672",
     "status": "completed"
    },
    "tags": []
   },
   "source": [
    "2. work_type"
   ]
  },
  {
   "cell_type": "code",
   "execution_count": 61,
   "id": "separate-absorption",
   "metadata": {
    "execution": {
     "iopub.execute_input": "2021-04-15T16:42:59.508286Z",
     "iopub.status.busy": "2021-04-15T16:42:59.507613Z",
     "iopub.status.idle": "2021-04-15T16:42:59.511800Z",
     "shell.execute_reply": "2021-04-15T16:42:59.512274Z"
    },
    "papermill": {
     "duration": 0.159103,
     "end_time": "2021-04-15T16:42:59.512490",
     "exception": false,
     "start_time": "2021-04-15T16:42:59.353387",
     "status": "completed"
    },
    "tags": []
   },
   "outputs": [],
   "source": [
    "one_hot_encoded = lb.fit_transform(df['work_type'])"
   ]
  },
  {
   "cell_type": "code",
   "execution_count": 62,
   "id": "fleet-immune",
   "metadata": {
    "execution": {
     "iopub.execute_input": "2021-04-15T16:42:59.768664Z",
     "iopub.status.busy": "2021-04-15T16:42:59.767877Z",
     "iopub.status.idle": "2021-04-15T16:42:59.772580Z",
     "shell.execute_reply": "2021-04-15T16:42:59.772033Z"
    },
    "papermill": {
     "duration": 0.132362,
     "end_time": "2021-04-15T16:42:59.772733",
     "exception": false,
     "start_time": "2021-04-15T16:42:59.640371",
     "status": "completed"
    },
    "tags": []
   },
   "outputs": [
    {
     "data": {
      "text/plain": [
       "array([[1, 0, 0, 0, 0],\n",
       "       [0, 0, 1, 0, 0],\n",
       "       [1, 0, 0, 0, 0],\n",
       "       [1, 0, 0, 0, 0],\n",
       "       [0, 0, 0, 0, 1],\n",
       "       [0, 0, 0, 0, 1],\n",
       "       [1, 0, 0, 0, 0],\n",
       "       [0, 0, 0, 1, 0],\n",
       "       [0, 0, 0, 0, 1],\n",
       "       [0, 0, 1, 0, 0],\n",
       "       [0, 0, 0, 1, 0],\n",
       "       [0, 0, 1, 0, 0],\n",
       "       [0, 0, 1, 0, 0],\n",
       "       [0, 0, 1, 0, 0],\n",
       "       [0, 0, 0, 0, 1],\n",
       "       [0, 0, 1, 0, 0],\n",
       "       [0, 0, 0, 1, 0],\n",
       "       [0, 0, 0, 1, 0],\n",
       "       [0, 0, 1, 0, 0],\n",
       "       [1, 0, 0, 0, 0]])"
      ]
     },
     "execution_count": 62,
     "metadata": {},
     "output_type": "execute_result"
    }
   ],
   "source": [
    "one_hot_encoded[-20:]"
   ]
  },
  {
   "cell_type": "code",
   "execution_count": 63,
   "id": "interpreted-idaho",
   "metadata": {
    "execution": {
     "iopub.execute_input": "2021-04-15T16:43:00.019423Z",
     "iopub.status.busy": "2021-04-15T16:43:00.018474Z",
     "iopub.status.idle": "2021-04-15T16:43:00.022806Z",
     "shell.execute_reply": "2021-04-15T16:43:00.022219Z"
    },
    "papermill": {
     "duration": 0.129744,
     "end_time": "2021-04-15T16:43:00.022967",
     "exception": false,
     "start_time": "2021-04-15T16:42:59.893223",
     "status": "completed"
    },
    "tags": []
   },
   "outputs": [
    {
     "data": {
      "text/plain": [
       "5090         Govt_job\n",
       "5091          Private\n",
       "5092         Govt_job\n",
       "5093         Govt_job\n",
       "5094         children\n",
       "5095         children\n",
       "5096         Govt_job\n",
       "5097    Self-employed\n",
       "5098         children\n",
       "5099          Private\n",
       "5100    Self-employed\n",
       "5101          Private\n",
       "5102          Private\n",
       "5103          Private\n",
       "5104         children\n",
       "5105          Private\n",
       "5106    Self-employed\n",
       "5107    Self-employed\n",
       "5108          Private\n",
       "5109         Govt_job\n",
       "Name: work_type, dtype: object"
      ]
     },
     "execution_count": 63,
     "metadata": {},
     "output_type": "execute_result"
    }
   ],
   "source": [
    "df['work_type'].tail(20)"
   ]
  },
  {
   "cell_type": "code",
   "execution_count": 64,
   "id": "behind-tobago",
   "metadata": {
    "execution": {
     "iopub.execute_input": "2021-04-15T16:43:00.277083Z",
     "iopub.status.busy": "2021-04-15T16:43:00.276270Z",
     "iopub.status.idle": "2021-04-15T16:43:00.280844Z",
     "shell.execute_reply": "2021-04-15T16:43:00.280270Z"
    },
    "papermill": {
     "duration": 0.134289,
     "end_time": "2021-04-15T16:43:00.280999",
     "exception": false,
     "start_time": "2021-04-15T16:43:00.146710",
     "status": "completed"
    },
    "tags": []
   },
   "outputs": [
    {
     "data": {
      "text/plain": [
       "array(['Private', 'Self-employed', 'Govt_job', 'children', 'Never_worked'],\n",
       "      dtype=object)"
      ]
     },
     "execution_count": 64,
     "metadata": {},
     "output_type": "execute_result"
    }
   ],
   "source": [
    "df['work_type'].unique()"
   ]
  },
  {
   "cell_type": "markdown",
   "id": "controlled-brazilian",
   "metadata": {
    "papermill": {
     "duration": 0.123933,
     "end_time": "2021-04-15T16:43:00.524580",
     "exception": false,
     "start_time": "2021-04-15T16:43:00.400647",
     "status": "completed"
    },
    "tags": []
   },
   "source": [
    "---\n",
    "mapping\n",
    "- colums : ['Govt_job','Never_worked', 'Private', 'Self-employed', 'Children']"
   ]
  },
  {
   "cell_type": "code",
   "execution_count": 65,
   "id": "mexican-newman",
   "metadata": {
    "execution": {
     "iopub.execute_input": "2021-04-15T16:43:00.787576Z",
     "iopub.status.busy": "2021-04-15T16:43:00.786549Z",
     "iopub.status.idle": "2021-04-15T16:43:00.791467Z",
     "shell.execute_reply": "2021-04-15T16:43:00.790805Z"
    },
    "papermill": {
     "duration": 0.145513,
     "end_time": "2021-04-15T16:43:00.791634",
     "exception": false,
     "start_time": "2021-04-15T16:43:00.646121",
     "status": "completed"
    },
    "tags": []
   },
   "outputs": [
    {
     "data": {
      "text/html": [
       "<div>\n",
       "<style scoped>\n",
       "    .dataframe tbody tr th:only-of-type {\n",
       "        vertical-align: middle;\n",
       "    }\n",
       "\n",
       "    .dataframe tbody tr th {\n",
       "        vertical-align: top;\n",
       "    }\n",
       "\n",
       "    .dataframe thead th {\n",
       "        text-align: right;\n",
       "    }\n",
       "</style>\n",
       "<table border=\"1\" class=\"dataframe\">\n",
       "  <thead>\n",
       "    <tr style=\"text-align: right;\">\n",
       "      <th></th>\n",
       "      <th>Govt_job</th>\n",
       "      <th>Never_worked</th>\n",
       "      <th>Private</th>\n",
       "      <th>Self-employed</th>\n",
       "      <th>Children</th>\n",
       "    </tr>\n",
       "  </thead>\n",
       "  <tbody>\n",
       "    <tr>\n",
       "      <th>0</th>\n",
       "      <td>0</td>\n",
       "      <td>0</td>\n",
       "      <td>1</td>\n",
       "      <td>0</td>\n",
       "      <td>0</td>\n",
       "    </tr>\n",
       "    <tr>\n",
       "      <th>1</th>\n",
       "      <td>0</td>\n",
       "      <td>0</td>\n",
       "      <td>0</td>\n",
       "      <td>1</td>\n",
       "      <td>0</td>\n",
       "    </tr>\n",
       "    <tr>\n",
       "      <th>2</th>\n",
       "      <td>0</td>\n",
       "      <td>0</td>\n",
       "      <td>1</td>\n",
       "      <td>0</td>\n",
       "      <td>0</td>\n",
       "    </tr>\n",
       "    <tr>\n",
       "      <th>3</th>\n",
       "      <td>0</td>\n",
       "      <td>0</td>\n",
       "      <td>1</td>\n",
       "      <td>0</td>\n",
       "      <td>0</td>\n",
       "    </tr>\n",
       "    <tr>\n",
       "      <th>4</th>\n",
       "      <td>0</td>\n",
       "      <td>0</td>\n",
       "      <td>0</td>\n",
       "      <td>1</td>\n",
       "      <td>0</td>\n",
       "    </tr>\n",
       "    <tr>\n",
       "      <th>...</th>\n",
       "      <td>...</td>\n",
       "      <td>...</td>\n",
       "      <td>...</td>\n",
       "      <td>...</td>\n",
       "      <td>...</td>\n",
       "    </tr>\n",
       "    <tr>\n",
       "      <th>5104</th>\n",
       "      <td>0</td>\n",
       "      <td>0</td>\n",
       "      <td>1</td>\n",
       "      <td>0</td>\n",
       "      <td>0</td>\n",
       "    </tr>\n",
       "    <tr>\n",
       "      <th>5105</th>\n",
       "      <td>0</td>\n",
       "      <td>0</td>\n",
       "      <td>0</td>\n",
       "      <td>1</td>\n",
       "      <td>0</td>\n",
       "    </tr>\n",
       "    <tr>\n",
       "      <th>5106</th>\n",
       "      <td>0</td>\n",
       "      <td>0</td>\n",
       "      <td>0</td>\n",
       "      <td>1</td>\n",
       "      <td>0</td>\n",
       "    </tr>\n",
       "    <tr>\n",
       "      <th>5107</th>\n",
       "      <td>0</td>\n",
       "      <td>0</td>\n",
       "      <td>1</td>\n",
       "      <td>0</td>\n",
       "      <td>0</td>\n",
       "    </tr>\n",
       "    <tr>\n",
       "      <th>5108</th>\n",
       "      <td>1</td>\n",
       "      <td>0</td>\n",
       "      <td>0</td>\n",
       "      <td>0</td>\n",
       "      <td>0</td>\n",
       "    </tr>\n",
       "  </tbody>\n",
       "</table>\n",
       "<p>5109 rows × 5 columns</p>\n",
       "</div>"
      ],
      "text/plain": [
       "      Govt_job  Never_worked  Private  Self-employed  Children\n",
       "0            0             0        1              0         0\n",
       "1            0             0        0              1         0\n",
       "2            0             0        1              0         0\n",
       "3            0             0        1              0         0\n",
       "4            0             0        0              1         0\n",
       "...        ...           ...      ...            ...       ...\n",
       "5104         0             0        1              0         0\n",
       "5105         0             0        0              1         0\n",
       "5106         0             0        0              1         0\n",
       "5107         0             0        1              0         0\n",
       "5108         1             0        0              0         0\n",
       "\n",
       "[5109 rows x 5 columns]"
      ]
     },
     "execution_count": 65,
     "metadata": {},
     "output_type": "execute_result"
    }
   ],
   "source": [
    "pd.DataFrame(one_hot_encoded, columns=['Govt_job','Never_worked', 'Private', 'Self-employed', 'Children'])"
   ]
  },
  {
   "cell_type": "code",
   "execution_count": 66,
   "id": "through-bundle",
   "metadata": {
    "execution": {
     "iopub.execute_input": "2021-04-15T16:43:01.040040Z",
     "iopub.status.busy": "2021-04-15T16:43:01.039091Z",
     "iopub.status.idle": "2021-04-15T16:43:01.042999Z",
     "shell.execute_reply": "2021-04-15T16:43:01.042353Z"
    },
    "papermill": {
     "duration": 0.13037,
     "end_time": "2021-04-15T16:43:01.043155",
     "exception": false,
     "start_time": "2021-04-15T16:43:00.912785",
     "status": "completed"
    },
    "tags": []
   },
   "outputs": [],
   "source": [
    "work_type_df = pd.DataFrame(one_hot_encoded, columns=['Govt_job','Never_worked', 'Private', 'Self-employed', 'Children'])"
   ]
  },
  {
   "cell_type": "markdown",
   "id": "handled-ireland",
   "metadata": {
    "papermill": {
     "duration": 0.12442,
     "end_time": "2021-04-15T16:43:01.293056",
     "exception": false,
     "start_time": "2021-04-15T16:43:01.168636",
     "status": "completed"
    },
    "tags": []
   },
   "source": [
    "3. avg_glucose_level "
   ]
  },
  {
   "cell_type": "code",
   "execution_count": 67,
   "id": "stopped-labor",
   "metadata": {
    "execution": {
     "iopub.execute_input": "2021-04-15T16:43:01.576694Z",
     "iopub.status.busy": "2021-04-15T16:43:01.575735Z",
     "iopub.status.idle": "2021-04-15T16:43:01.580285Z",
     "shell.execute_reply": "2021-04-15T16:43:01.580823Z"
    },
    "papermill": {
     "duration": 0.161973,
     "end_time": "2021-04-15T16:43:01.581014",
     "exception": false,
     "start_time": "2021-04-15T16:43:01.419041",
     "status": "completed"
    },
    "tags": []
   },
   "outputs": [
    {
     "data": {
      "text/plain": [
       "0         gl_over 75%\n",
       "1         gl_over 75%\n",
       "2       gl_50% to 75%\n",
       "3         gl_over 75%\n",
       "4         gl_over 75%\n",
       "            ...      \n",
       "5105    gl_26% to 50%\n",
       "5106      gl_over 75%\n",
       "5107    gl_26% to 50%\n",
       "5108      gl_over 75%\n",
       "5109    gl_26% to 50%\n",
       "Name: avg_glucose_level, Length: 5109, dtype: object"
      ]
     },
     "execution_count": 67,
     "metadata": {},
     "output_type": "execute_result"
    }
   ],
   "source": [
    "df['avg_glucose_level']"
   ]
  },
  {
   "cell_type": "code",
   "execution_count": 68,
   "id": "communist-chest",
   "metadata": {
    "execution": {
     "iopub.execute_input": "2021-04-15T16:43:01.866050Z",
     "iopub.status.busy": "2021-04-15T16:43:01.865226Z",
     "iopub.status.idle": "2021-04-15T16:43:01.869355Z",
     "shell.execute_reply": "2021-04-15T16:43:01.868764Z"
    },
    "papermill": {
     "duration": 0.162282,
     "end_time": "2021-04-15T16:43:01.869523",
     "exception": false,
     "start_time": "2021-04-15T16:43:01.707241",
     "status": "completed"
    },
    "tags": []
   },
   "outputs": [],
   "source": [
    "one_hot_encoded = lb.fit_transform(df['avg_glucose_level'])"
   ]
  },
  {
   "cell_type": "code",
   "execution_count": 69,
   "id": "close-capability",
   "metadata": {
    "execution": {
     "iopub.execute_input": "2021-04-15T16:43:02.128104Z",
     "iopub.status.busy": "2021-04-15T16:43:02.127045Z",
     "iopub.status.idle": "2021-04-15T16:43:02.131750Z",
     "shell.execute_reply": "2021-04-15T16:43:02.130979Z"
    },
    "papermill": {
     "duration": 0.137067,
     "end_time": "2021-04-15T16:43:02.131905",
     "exception": false,
     "start_time": "2021-04-15T16:43:01.994838",
     "status": "completed"
    },
    "tags": []
   },
   "outputs": [
    {
     "data": {
      "text/plain": [
       "array([[0, 0, 1, 0],\n",
       "       [0, 0, 1, 0],\n",
       "       [0, 1, 0, 0],\n",
       "       ...,\n",
       "       [1, 0, 0, 0],\n",
       "       [0, 0, 1, 0],\n",
       "       [1, 0, 0, 0]])"
      ]
     },
     "execution_count": 69,
     "metadata": {},
     "output_type": "execute_result"
    }
   ],
   "source": [
    "one_hot_encoded"
   ]
  },
  {
   "cell_type": "code",
   "execution_count": 70,
   "id": "early-steel",
   "metadata": {
    "execution": {
     "iopub.execute_input": "2021-04-15T16:43:02.386097Z",
     "iopub.status.busy": "2021-04-15T16:43:02.385469Z",
     "iopub.status.idle": "2021-04-15T16:43:02.392430Z",
     "shell.execute_reply": "2021-04-15T16:43:02.391801Z"
    },
    "papermill": {
     "duration": 0.135141,
     "end_time": "2021-04-15T16:43:02.392638",
     "exception": false,
     "start_time": "2021-04-15T16:43:02.257497",
     "status": "completed"
    },
    "tags": []
   },
   "outputs": [
    {
     "data": {
      "text/plain": [
       "array(['gl_over 75%', 'gl_50% to 75%', 'gl_under 25%', 'gl_26% to 50%'],\n",
       "      dtype=object)"
      ]
     },
     "execution_count": 70,
     "metadata": {},
     "output_type": "execute_result"
    }
   ],
   "source": [
    "df['avg_glucose_level'].unique()"
   ]
  },
  {
   "cell_type": "markdown",
   "id": "amber-article",
   "metadata": {
    "papermill": {
     "duration": 0.127667,
     "end_time": "2021-04-15T16:43:02.647137",
     "exception": false,
     "start_time": "2021-04-15T16:43:02.519470",
     "status": "completed"
    },
    "tags": []
   },
   "source": [
    "mapping\n",
    "- columns : ['gl_26% to 50%', 'gl_50% to 75%', 'gl_over 75%', 'gl_under 25%']"
   ]
  },
  {
   "cell_type": "code",
   "execution_count": 71,
   "id": "southeast-myanmar",
   "metadata": {
    "execution": {
     "iopub.execute_input": "2021-04-15T16:43:02.919631Z",
     "iopub.status.busy": "2021-04-15T16:43:02.918769Z",
     "iopub.status.idle": "2021-04-15T16:43:02.923568Z",
     "shell.execute_reply": "2021-04-15T16:43:02.924061Z"
    },
    "papermill": {
     "duration": 0.147486,
     "end_time": "2021-04-15T16:43:02.924232",
     "exception": false,
     "start_time": "2021-04-15T16:43:02.776746",
     "status": "completed"
    },
    "tags": []
   },
   "outputs": [
    {
     "data": {
      "text/html": [
       "<div>\n",
       "<style scoped>\n",
       "    .dataframe tbody tr th:only-of-type {\n",
       "        vertical-align: middle;\n",
       "    }\n",
       "\n",
       "    .dataframe tbody tr th {\n",
       "        vertical-align: top;\n",
       "    }\n",
       "\n",
       "    .dataframe thead th {\n",
       "        text-align: right;\n",
       "    }\n",
       "</style>\n",
       "<table border=\"1\" class=\"dataframe\">\n",
       "  <thead>\n",
       "    <tr style=\"text-align: right;\">\n",
       "      <th></th>\n",
       "      <th>gl_26% to 50%</th>\n",
       "      <th>gl_50% to 75%</th>\n",
       "      <th>gl_over 75%</th>\n",
       "      <th>gl_under 25%</th>\n",
       "    </tr>\n",
       "  </thead>\n",
       "  <tbody>\n",
       "    <tr>\n",
       "      <th>0</th>\n",
       "      <td>0</td>\n",
       "      <td>0</td>\n",
       "      <td>1</td>\n",
       "      <td>0</td>\n",
       "    </tr>\n",
       "    <tr>\n",
       "      <th>1</th>\n",
       "      <td>0</td>\n",
       "      <td>0</td>\n",
       "      <td>1</td>\n",
       "      <td>0</td>\n",
       "    </tr>\n",
       "    <tr>\n",
       "      <th>2</th>\n",
       "      <td>0</td>\n",
       "      <td>1</td>\n",
       "      <td>0</td>\n",
       "      <td>0</td>\n",
       "    </tr>\n",
       "    <tr>\n",
       "      <th>3</th>\n",
       "      <td>0</td>\n",
       "      <td>0</td>\n",
       "      <td>1</td>\n",
       "      <td>0</td>\n",
       "    </tr>\n",
       "    <tr>\n",
       "      <th>4</th>\n",
       "      <td>0</td>\n",
       "      <td>0</td>\n",
       "      <td>1</td>\n",
       "      <td>0</td>\n",
       "    </tr>\n",
       "    <tr>\n",
       "      <th>...</th>\n",
       "      <td>...</td>\n",
       "      <td>...</td>\n",
       "      <td>...</td>\n",
       "      <td>...</td>\n",
       "    </tr>\n",
       "    <tr>\n",
       "      <th>5104</th>\n",
       "      <td>1</td>\n",
       "      <td>0</td>\n",
       "      <td>0</td>\n",
       "      <td>0</td>\n",
       "    </tr>\n",
       "    <tr>\n",
       "      <th>5105</th>\n",
       "      <td>0</td>\n",
       "      <td>0</td>\n",
       "      <td>1</td>\n",
       "      <td>0</td>\n",
       "    </tr>\n",
       "    <tr>\n",
       "      <th>5106</th>\n",
       "      <td>1</td>\n",
       "      <td>0</td>\n",
       "      <td>0</td>\n",
       "      <td>0</td>\n",
       "    </tr>\n",
       "    <tr>\n",
       "      <th>5107</th>\n",
       "      <td>0</td>\n",
       "      <td>0</td>\n",
       "      <td>1</td>\n",
       "      <td>0</td>\n",
       "    </tr>\n",
       "    <tr>\n",
       "      <th>5108</th>\n",
       "      <td>1</td>\n",
       "      <td>0</td>\n",
       "      <td>0</td>\n",
       "      <td>0</td>\n",
       "    </tr>\n",
       "  </tbody>\n",
       "</table>\n",
       "<p>5109 rows × 4 columns</p>\n",
       "</div>"
      ],
      "text/plain": [
       "      gl_26% to 50%  gl_50% to 75%  gl_over 75%  gl_under 25%\n",
       "0                 0              0            1             0\n",
       "1                 0              0            1             0\n",
       "2                 0              1            0             0\n",
       "3                 0              0            1             0\n",
       "4                 0              0            1             0\n",
       "...             ...            ...          ...           ...\n",
       "5104              1              0            0             0\n",
       "5105              0              0            1             0\n",
       "5106              1              0            0             0\n",
       "5107              0              0            1             0\n",
       "5108              1              0            0             0\n",
       "\n",
       "[5109 rows x 4 columns]"
      ]
     },
     "execution_count": 71,
     "metadata": {},
     "output_type": "execute_result"
    }
   ],
   "source": [
    "pd.DataFrame(one_hot_encoded, columns=['gl_26% to 50%', 'gl_50% to 75%', 'gl_over 75%', 'gl_under 25%'])"
   ]
  },
  {
   "cell_type": "code",
   "execution_count": 72,
   "id": "chubby-spectrum",
   "metadata": {
    "execution": {
     "iopub.execute_input": "2021-04-15T16:43:03.188557Z",
     "iopub.status.busy": "2021-04-15T16:43:03.187818Z",
     "iopub.status.idle": "2021-04-15T16:43:03.190687Z",
     "shell.execute_reply": "2021-04-15T16:43:03.191356Z"
    },
    "papermill": {
     "duration": 0.139327,
     "end_time": "2021-04-15T16:43:03.191550",
     "exception": false,
     "start_time": "2021-04-15T16:43:03.052223",
     "status": "completed"
    },
    "tags": []
   },
   "outputs": [],
   "source": [
    "agl_df = pd.DataFrame(one_hot_encoded, columns=['gl_26% to 50%', 'gl_50% to 75%', 'gl_over 75%', 'gl_under 25%'])"
   ]
  },
  {
   "cell_type": "markdown",
   "id": "collective-mumbai",
   "metadata": {
    "papermill": {
     "duration": 0.131276,
     "end_time": "2021-04-15T16:43:03.454155",
     "exception": false,
     "start_time": "2021-04-15T16:43:03.322879",
     "status": "completed"
    },
    "tags": []
   },
   "source": [
    "4. bmi"
   ]
  },
  {
   "cell_type": "code",
   "execution_count": 73,
   "id": "continent-louisville",
   "metadata": {
    "execution": {
     "iopub.execute_input": "2021-04-15T16:43:03.718667Z",
     "iopub.status.busy": "2021-04-15T16:43:03.717959Z",
     "iopub.status.idle": "2021-04-15T16:43:03.725619Z",
     "shell.execute_reply": "2021-04-15T16:43:03.725073Z"
    },
    "papermill": {
     "duration": 0.139755,
     "end_time": "2021-04-15T16:43:03.725784",
     "exception": false,
     "start_time": "2021-04-15T16:43:03.586029",
     "status": "completed"
    },
    "tags": []
   },
   "outputs": [
    {
     "data": {
      "text/plain": [
       "0         bmi_over 75%\n",
       "1       bmi_50% to 75%\n",
       "2       bmi_50% to 75%\n",
       "3         bmi_over 75%\n",
       "4       bmi_26% to 50%\n",
       "             ...      \n",
       "5105    bmi_50% to 75%\n",
       "5106      bmi_over 75%\n",
       "5107    bmi_50% to 75%\n",
       "5108    bmi_26% to 50%\n",
       "5109    bmi_26% to 50%\n",
       "Name: bmi, Length: 5109, dtype: object"
      ]
     },
     "execution_count": 73,
     "metadata": {},
     "output_type": "execute_result"
    }
   ],
   "source": [
    "df['bmi']"
   ]
  },
  {
   "cell_type": "code",
   "execution_count": 74,
   "id": "smoking-tours",
   "metadata": {
    "execution": {
     "iopub.execute_input": "2021-04-15T16:43:04.004769Z",
     "iopub.status.busy": "2021-04-15T16:43:04.003893Z",
     "iopub.status.idle": "2021-04-15T16:43:04.009678Z",
     "shell.execute_reply": "2021-04-15T16:43:04.010225Z"
    },
    "papermill": {
     "duration": 0.158374,
     "end_time": "2021-04-15T16:43:04.010414",
     "exception": false,
     "start_time": "2021-04-15T16:43:03.852040",
     "status": "completed"
    },
    "tags": []
   },
   "outputs": [
    {
     "data": {
      "text/plain": [
       "array([[0, 0, 1, 0],\n",
       "       [0, 1, 0, 0],\n",
       "       [0, 1, 0, 0],\n",
       "       ...,\n",
       "       [0, 1, 0, 0],\n",
       "       [1, 0, 0, 0],\n",
       "       [1, 0, 0, 0]])"
      ]
     },
     "execution_count": 74,
     "metadata": {},
     "output_type": "execute_result"
    }
   ],
   "source": [
    "one_hot_encoded = lb.fit_transform(df['bmi'])\n",
    "one_hot_encoded"
   ]
  },
  {
   "cell_type": "code",
   "execution_count": 75,
   "id": "southeast-surname",
   "metadata": {
    "execution": {
     "iopub.execute_input": "2021-04-15T16:43:04.261557Z",
     "iopub.status.busy": "2021-04-15T16:43:04.260862Z",
     "iopub.status.idle": "2021-04-15T16:43:04.266574Z",
     "shell.execute_reply": "2021-04-15T16:43:04.267093Z"
    },
    "papermill": {
     "duration": 0.132629,
     "end_time": "2021-04-15T16:43:04.267271",
     "exception": false,
     "start_time": "2021-04-15T16:43:04.134642",
     "status": "completed"
    },
    "tags": []
   },
   "outputs": [
    {
     "data": {
      "text/plain": [
       "array(['bmi_over 75%', 'bmi_50% to 75%', 'bmi_26% to 50%',\n",
       "       'bmi_under 25%'], dtype=object)"
      ]
     },
     "execution_count": 75,
     "metadata": {},
     "output_type": "execute_result"
    }
   ],
   "source": [
    "df['bmi'].unique()"
   ]
  },
  {
   "cell_type": "markdown",
   "id": "tough-highlight",
   "metadata": {
    "papermill": {
     "duration": 0.12282,
     "end_time": "2021-04-15T16:43:04.514098",
     "exception": false,
     "start_time": "2021-04-15T16:43:04.391278",
     "status": "completed"
    },
    "tags": []
   },
   "source": [
    "---\n",
    "mapping\n",
    "\n",
    "- columns : ['bmi_26% to 50%', 'bmi_50% to 75%', 'bmi_over 75%', 'bmi_under 25%']"
   ]
  },
  {
   "cell_type": "code",
   "execution_count": 76,
   "id": "subtle-planet",
   "metadata": {
    "execution": {
     "iopub.execute_input": "2021-04-15T16:43:04.766703Z",
     "iopub.status.busy": "2021-04-15T16:43:04.765940Z",
     "iopub.status.idle": "2021-04-15T16:43:04.779390Z",
     "shell.execute_reply": "2021-04-15T16:43:04.778819Z"
    },
    "papermill": {
     "duration": 0.141872,
     "end_time": "2021-04-15T16:43:04.779556",
     "exception": false,
     "start_time": "2021-04-15T16:43:04.637684",
     "status": "completed"
    },
    "tags": []
   },
   "outputs": [
    {
     "data": {
      "text/html": [
       "<div>\n",
       "<style scoped>\n",
       "    .dataframe tbody tr th:only-of-type {\n",
       "        vertical-align: middle;\n",
       "    }\n",
       "\n",
       "    .dataframe tbody tr th {\n",
       "        vertical-align: top;\n",
       "    }\n",
       "\n",
       "    .dataframe thead th {\n",
       "        text-align: right;\n",
       "    }\n",
       "</style>\n",
       "<table border=\"1\" class=\"dataframe\">\n",
       "  <thead>\n",
       "    <tr style=\"text-align: right;\">\n",
       "      <th></th>\n",
       "      <th>bmi_26% to 50%</th>\n",
       "      <th>bmi_50% to 75%</th>\n",
       "      <th>bmi_over 75%</th>\n",
       "      <th>bmi_under 25%</th>\n",
       "    </tr>\n",
       "  </thead>\n",
       "  <tbody>\n",
       "    <tr>\n",
       "      <th>0</th>\n",
       "      <td>0</td>\n",
       "      <td>0</td>\n",
       "      <td>1</td>\n",
       "      <td>0</td>\n",
       "    </tr>\n",
       "    <tr>\n",
       "      <th>1</th>\n",
       "      <td>0</td>\n",
       "      <td>1</td>\n",
       "      <td>0</td>\n",
       "      <td>0</td>\n",
       "    </tr>\n",
       "    <tr>\n",
       "      <th>2</th>\n",
       "      <td>0</td>\n",
       "      <td>1</td>\n",
       "      <td>0</td>\n",
       "      <td>0</td>\n",
       "    </tr>\n",
       "    <tr>\n",
       "      <th>3</th>\n",
       "      <td>0</td>\n",
       "      <td>0</td>\n",
       "      <td>1</td>\n",
       "      <td>0</td>\n",
       "    </tr>\n",
       "    <tr>\n",
       "      <th>4</th>\n",
       "      <td>1</td>\n",
       "      <td>0</td>\n",
       "      <td>0</td>\n",
       "      <td>0</td>\n",
       "    </tr>\n",
       "    <tr>\n",
       "      <th>...</th>\n",
       "      <td>...</td>\n",
       "      <td>...</td>\n",
       "      <td>...</td>\n",
       "      <td>...</td>\n",
       "    </tr>\n",
       "    <tr>\n",
       "      <th>5104</th>\n",
       "      <td>0</td>\n",
       "      <td>1</td>\n",
       "      <td>0</td>\n",
       "      <td>0</td>\n",
       "    </tr>\n",
       "    <tr>\n",
       "      <th>5105</th>\n",
       "      <td>0</td>\n",
       "      <td>0</td>\n",
       "      <td>1</td>\n",
       "      <td>0</td>\n",
       "    </tr>\n",
       "    <tr>\n",
       "      <th>5106</th>\n",
       "      <td>0</td>\n",
       "      <td>1</td>\n",
       "      <td>0</td>\n",
       "      <td>0</td>\n",
       "    </tr>\n",
       "    <tr>\n",
       "      <th>5107</th>\n",
       "      <td>1</td>\n",
       "      <td>0</td>\n",
       "      <td>0</td>\n",
       "      <td>0</td>\n",
       "    </tr>\n",
       "    <tr>\n",
       "      <th>5108</th>\n",
       "      <td>1</td>\n",
       "      <td>0</td>\n",
       "      <td>0</td>\n",
       "      <td>0</td>\n",
       "    </tr>\n",
       "  </tbody>\n",
       "</table>\n",
       "<p>5109 rows × 4 columns</p>\n",
       "</div>"
      ],
      "text/plain": [
       "      bmi_26% to 50%  bmi_50% to 75%  bmi_over 75%  bmi_under 25%\n",
       "0                  0               0             1              0\n",
       "1                  0               1             0              0\n",
       "2                  0               1             0              0\n",
       "3                  0               0             1              0\n",
       "4                  1               0             0              0\n",
       "...              ...             ...           ...            ...\n",
       "5104               0               1             0              0\n",
       "5105               0               0             1              0\n",
       "5106               0               1             0              0\n",
       "5107               1               0             0              0\n",
       "5108               1               0             0              0\n",
       "\n",
       "[5109 rows x 4 columns]"
      ]
     },
     "execution_count": 76,
     "metadata": {},
     "output_type": "execute_result"
    }
   ],
   "source": [
    "pd.DataFrame(one_hot_encoded, columns=['bmi_26% to 50%', 'bmi_50% to 75%', 'bmi_over 75%', 'bmi_under 25%'])"
   ]
  },
  {
   "cell_type": "code",
   "execution_count": 77,
   "id": "arctic-northwest",
   "metadata": {
    "execution": {
     "iopub.execute_input": "2021-04-15T16:43:05.035360Z",
     "iopub.status.busy": "2021-04-15T16:43:05.034663Z",
     "iopub.status.idle": "2021-04-15T16:43:05.037667Z",
     "shell.execute_reply": "2021-04-15T16:43:05.037121Z"
    },
    "papermill": {
     "duration": 0.133226,
     "end_time": "2021-04-15T16:43:05.037818",
     "exception": false,
     "start_time": "2021-04-15T16:43:04.904592",
     "status": "completed"
    },
    "tags": []
   },
   "outputs": [],
   "source": [
    "bmi_df = pd.DataFrame(one_hot_encoded, columns=['bmi_26% to 50%', 'bmi_50% to 75%', 'bmi_over 75%', 'bmi_under 25%'])"
   ]
  },
  {
   "cell_type": "code",
   "execution_count": 78,
   "id": "traditional-paste",
   "metadata": {
    "execution": {
     "iopub.execute_input": "2021-04-15T16:43:05.295594Z",
     "iopub.status.busy": "2021-04-15T16:43:05.294938Z",
     "iopub.status.idle": "2021-04-15T16:43:05.297904Z",
     "shell.execute_reply": "2021-04-15T16:43:05.298494Z"
    },
    "papermill": {
     "duration": 0.134935,
     "end_time": "2021-04-15T16:43:05.298672",
     "exception": false,
     "start_time": "2021-04-15T16:43:05.163737",
     "status": "completed"
    },
    "tags": []
   },
   "outputs": [
    {
     "data": {
      "text/plain": [
       "0       formerly smoked\n",
       "1          never smoked\n",
       "2          never smoked\n",
       "3                smokes\n",
       "4          never smoked\n",
       "             ...       \n",
       "5105       never smoked\n",
       "5106       never smoked\n",
       "5107       never smoked\n",
       "5108    formerly smoked\n",
       "5109            Unknown\n",
       "Name: smoking_status, Length: 5109, dtype: object"
      ]
     },
     "execution_count": 78,
     "metadata": {},
     "output_type": "execute_result"
    }
   ],
   "source": [
    "df['smoking_status']"
   ]
  },
  {
   "cell_type": "code",
   "execution_count": 79,
   "id": "focal-devices",
   "metadata": {
    "execution": {
     "iopub.execute_input": "2021-04-15T16:43:05.553863Z",
     "iopub.status.busy": "2021-04-15T16:43:05.553124Z",
     "iopub.status.idle": "2021-04-15T16:43:05.559181Z",
     "shell.execute_reply": "2021-04-15T16:43:05.559881Z"
    },
    "papermill": {
     "duration": 0.136022,
     "end_time": "2021-04-15T16:43:05.560076",
     "exception": false,
     "start_time": "2021-04-15T16:43:05.424054",
     "status": "completed"
    },
    "tags": []
   },
   "outputs": [
    {
     "data": {
      "text/plain": [
       "array(['formerly smoked', 'never smoked', 'smokes', 'Unknown'],\n",
       "      dtype=object)"
      ]
     },
     "execution_count": 79,
     "metadata": {},
     "output_type": "execute_result"
    }
   ],
   "source": [
    "df['smoking_status'].unique()"
   ]
  },
  {
   "cell_type": "code",
   "execution_count": 80,
   "id": "together-checklist",
   "metadata": {
    "execution": {
     "iopub.execute_input": "2021-04-15T16:43:05.817220Z",
     "iopub.status.busy": "2021-04-15T16:43:05.816519Z",
     "iopub.status.idle": "2021-04-15T16:43:05.845394Z",
     "shell.execute_reply": "2021-04-15T16:43:05.845945Z"
    },
    "papermill": {
     "duration": 0.159126,
     "end_time": "2021-04-15T16:43:05.846127",
     "exception": false,
     "start_time": "2021-04-15T16:43:05.687001",
     "status": "completed"
    },
    "tags": []
   },
   "outputs": [
    {
     "data": {
      "text/plain": [
       "array([[0, 1, 0, 0],\n",
       "       [0, 0, 1, 0],\n",
       "       [0, 0, 1, 0],\n",
       "       ...,\n",
       "       [0, 0, 1, 0],\n",
       "       [0, 1, 0, 0],\n",
       "       [1, 0, 0, 0]])"
      ]
     },
     "execution_count": 80,
     "metadata": {},
     "output_type": "execute_result"
    }
   ],
   "source": [
    "lb.fit_transform(df['smoking_status'])"
   ]
  },
  {
   "cell_type": "code",
   "execution_count": 81,
   "id": "unable-legislation",
   "metadata": {
    "execution": {
     "iopub.execute_input": "2021-04-15T16:43:06.126929Z",
     "iopub.status.busy": "2021-04-15T16:43:06.126236Z",
     "iopub.status.idle": "2021-04-15T16:43:06.129227Z",
     "shell.execute_reply": "2021-04-15T16:43:06.129697Z"
    },
    "papermill": {
     "duration": 0.158169,
     "end_time": "2021-04-15T16:43:06.129970",
     "exception": false,
     "start_time": "2021-04-15T16:43:05.971801",
     "status": "completed"
    },
    "tags": []
   },
   "outputs": [],
   "source": [
    "one_hot_encoded = lb.fit_transform(df['smoking_status'])"
   ]
  },
  {
   "cell_type": "markdown",
   "id": "dirty-mixer",
   "metadata": {
    "papermill": {
     "duration": 0.126033,
     "end_time": "2021-04-15T16:43:06.381664",
     "exception": false,
     "start_time": "2021-04-15T16:43:06.255631",
     "status": "completed"
    },
    "tags": []
   },
   "source": [
    "mapping\n",
    "- columns : ['Unknown','formerly smoked','never smoked','smokes']"
   ]
  },
  {
   "cell_type": "code",
   "execution_count": 82,
   "id": "raised-aircraft",
   "metadata": {
    "execution": {
     "iopub.execute_input": "2021-04-15T16:43:06.637035Z",
     "iopub.status.busy": "2021-04-15T16:43:06.636375Z",
     "iopub.status.idle": "2021-04-15T16:43:06.649771Z",
     "shell.execute_reply": "2021-04-15T16:43:06.649185Z"
    },
    "papermill": {
     "duration": 0.142547,
     "end_time": "2021-04-15T16:43:06.649908",
     "exception": false,
     "start_time": "2021-04-15T16:43:06.507361",
     "status": "completed"
    },
    "tags": []
   },
   "outputs": [
    {
     "data": {
      "text/html": [
       "<div>\n",
       "<style scoped>\n",
       "    .dataframe tbody tr th:only-of-type {\n",
       "        vertical-align: middle;\n",
       "    }\n",
       "\n",
       "    .dataframe tbody tr th {\n",
       "        vertical-align: top;\n",
       "    }\n",
       "\n",
       "    .dataframe thead th {\n",
       "        text-align: right;\n",
       "    }\n",
       "</style>\n",
       "<table border=\"1\" class=\"dataframe\">\n",
       "  <thead>\n",
       "    <tr style=\"text-align: right;\">\n",
       "      <th></th>\n",
       "      <th>Unknown</th>\n",
       "      <th>formerly smoked</th>\n",
       "      <th>never smoked</th>\n",
       "      <th>smokes</th>\n",
       "    </tr>\n",
       "  </thead>\n",
       "  <tbody>\n",
       "    <tr>\n",
       "      <th>0</th>\n",
       "      <td>0</td>\n",
       "      <td>1</td>\n",
       "      <td>0</td>\n",
       "      <td>0</td>\n",
       "    </tr>\n",
       "    <tr>\n",
       "      <th>1</th>\n",
       "      <td>0</td>\n",
       "      <td>0</td>\n",
       "      <td>1</td>\n",
       "      <td>0</td>\n",
       "    </tr>\n",
       "    <tr>\n",
       "      <th>2</th>\n",
       "      <td>0</td>\n",
       "      <td>0</td>\n",
       "      <td>1</td>\n",
       "      <td>0</td>\n",
       "    </tr>\n",
       "    <tr>\n",
       "      <th>3</th>\n",
       "      <td>0</td>\n",
       "      <td>0</td>\n",
       "      <td>0</td>\n",
       "      <td>1</td>\n",
       "    </tr>\n",
       "    <tr>\n",
       "      <th>4</th>\n",
       "      <td>0</td>\n",
       "      <td>0</td>\n",
       "      <td>1</td>\n",
       "      <td>0</td>\n",
       "    </tr>\n",
       "    <tr>\n",
       "      <th>...</th>\n",
       "      <td>...</td>\n",
       "      <td>...</td>\n",
       "      <td>...</td>\n",
       "      <td>...</td>\n",
       "    </tr>\n",
       "    <tr>\n",
       "      <th>5104</th>\n",
       "      <td>0</td>\n",
       "      <td>0</td>\n",
       "      <td>1</td>\n",
       "      <td>0</td>\n",
       "    </tr>\n",
       "    <tr>\n",
       "      <th>5105</th>\n",
       "      <td>0</td>\n",
       "      <td>0</td>\n",
       "      <td>1</td>\n",
       "      <td>0</td>\n",
       "    </tr>\n",
       "    <tr>\n",
       "      <th>5106</th>\n",
       "      <td>0</td>\n",
       "      <td>0</td>\n",
       "      <td>1</td>\n",
       "      <td>0</td>\n",
       "    </tr>\n",
       "    <tr>\n",
       "      <th>5107</th>\n",
       "      <td>0</td>\n",
       "      <td>1</td>\n",
       "      <td>0</td>\n",
       "      <td>0</td>\n",
       "    </tr>\n",
       "    <tr>\n",
       "      <th>5108</th>\n",
       "      <td>1</td>\n",
       "      <td>0</td>\n",
       "      <td>0</td>\n",
       "      <td>0</td>\n",
       "    </tr>\n",
       "  </tbody>\n",
       "</table>\n",
       "<p>5109 rows × 4 columns</p>\n",
       "</div>"
      ],
      "text/plain": [
       "      Unknown  formerly smoked  never smoked  smokes\n",
       "0           0                1             0       0\n",
       "1           0                0             1       0\n",
       "2           0                0             1       0\n",
       "3           0                0             0       1\n",
       "4           0                0             1       0\n",
       "...       ...              ...           ...     ...\n",
       "5104        0                0             1       0\n",
       "5105        0                0             1       0\n",
       "5106        0                0             1       0\n",
       "5107        0                1             0       0\n",
       "5108        1                0             0       0\n",
       "\n",
       "[5109 rows x 4 columns]"
      ]
     },
     "execution_count": 82,
     "metadata": {},
     "output_type": "execute_result"
    }
   ],
   "source": [
    "pd.DataFrame(one_hot_encoded, columns=['Unknown','formerly smoked','never smoked','smokes'])"
   ]
  },
  {
   "cell_type": "code",
   "execution_count": 83,
   "id": "instrumental-robinson",
   "metadata": {
    "execution": {
     "iopub.execute_input": "2021-04-15T16:43:06.911649Z",
     "iopub.status.busy": "2021-04-15T16:43:06.910887Z",
     "iopub.status.idle": "2021-04-15T16:43:06.914082Z",
     "shell.execute_reply": "2021-04-15T16:43:06.913598Z"
    },
    "papermill": {
     "duration": 0.136682,
     "end_time": "2021-04-15T16:43:06.914234",
     "exception": false,
     "start_time": "2021-04-15T16:43:06.777552",
     "status": "completed"
    },
    "tags": []
   },
   "outputs": [],
   "source": [
    "smoked_df = pd.DataFrame(one_hot_encoded, columns=['Unknown','formerly smoked','never smoked','smokes'])"
   ]
  },
  {
   "cell_type": "code",
   "execution_count": 84,
   "id": "former-creature",
   "metadata": {
    "execution": {
     "iopub.execute_input": "2021-04-15T16:43:07.174308Z",
     "iopub.status.busy": "2021-04-15T16:43:07.173653Z",
     "iopub.status.idle": "2021-04-15T16:43:07.177377Z",
     "shell.execute_reply": "2021-04-15T16:43:07.176832Z"
    },
    "papermill": {
     "duration": 0.135702,
     "end_time": "2021-04-15T16:43:07.177534",
     "exception": false,
     "start_time": "2021-04-15T16:43:07.041832",
     "status": "completed"
    },
    "tags": []
   },
   "outputs": [],
   "source": [
    "cat_cols.append('age')"
   ]
  },
  {
   "cell_type": "code",
   "execution_count": 85,
   "id": "searching-works",
   "metadata": {
    "execution": {
     "iopub.execute_input": "2021-04-15T16:43:07.441273Z",
     "iopub.status.busy": "2021-04-15T16:43:07.440588Z",
     "iopub.status.idle": "2021-04-15T16:43:07.443588Z",
     "shell.execute_reply": "2021-04-15T16:43:07.444086Z"
    },
    "papermill": {
     "duration": 0.14045,
     "end_time": "2021-04-15T16:43:07.444256",
     "exception": false,
     "start_time": "2021-04-15T16:43:07.303806",
     "status": "completed"
    },
    "tags": []
   },
   "outputs": [
    {
     "data": {
      "text/plain": [
       "['age', 'work_type', 'avg_glucose_level', 'bmi', 'smoking_status', 'age']"
      ]
     },
     "execution_count": 85,
     "metadata": {},
     "output_type": "execute_result"
    }
   ],
   "source": [
    "cat_cols"
   ]
  },
  {
   "cell_type": "markdown",
   "id": "sapphire-asian",
   "metadata": {
    "papermill": {
     "duration": 0.126871,
     "end_time": "2021-04-15T16:43:07.699696",
     "exception": false,
     "start_time": "2021-04-15T16:43:07.572825",
     "status": "completed"
    },
    "tags": []
   },
   "source": [
    "finally! merge!"
   ]
  },
  {
   "cell_type": "code",
   "execution_count": 86,
   "id": "wireless-chick",
   "metadata": {
    "execution": {
     "iopub.execute_input": "2021-04-15T16:43:07.959996Z",
     "iopub.status.busy": "2021-04-15T16:43:07.959357Z",
     "iopub.status.idle": "2021-04-15T16:43:07.983056Z",
     "shell.execute_reply": "2021-04-15T16:43:07.983589Z"
    },
    "papermill": {
     "duration": 0.154906,
     "end_time": "2021-04-15T16:43:07.983776",
     "exception": false,
     "start_time": "2021-04-15T16:43:07.828870",
     "status": "completed"
    },
    "tags": []
   },
   "outputs": [
    {
     "data": {
      "text/html": [
       "<div>\n",
       "<style scoped>\n",
       "    .dataframe tbody tr th:only-of-type {\n",
       "        vertical-align: middle;\n",
       "    }\n",
       "\n",
       "    .dataframe tbody tr th {\n",
       "        vertical-align: top;\n",
       "    }\n",
       "\n",
       "    .dataframe thead th {\n",
       "        text-align: right;\n",
       "    }\n",
       "</style>\n",
       "<table border=\"1\" class=\"dataframe\">\n",
       "  <thead>\n",
       "    <tr style=\"text-align: right;\">\n",
       "      <th></th>\n",
       "      <th>id</th>\n",
       "      <th>gender</th>\n",
       "      <th>age</th>\n",
       "      <th>hypertension</th>\n",
       "      <th>heart_disease</th>\n",
       "      <th>ever_married</th>\n",
       "      <th>work_type</th>\n",
       "      <th>Residence_type</th>\n",
       "      <th>avg_glucose_level</th>\n",
       "      <th>bmi</th>\n",
       "      <th>smoking_status</th>\n",
       "      <th>stroke</th>\n",
       "    </tr>\n",
       "  </thead>\n",
       "  <tbody>\n",
       "    <tr>\n",
       "      <th>0</th>\n",
       "      <td>9046</td>\n",
       "      <td>1</td>\n",
       "      <td>age_over 60</td>\n",
       "      <td>0</td>\n",
       "      <td>1</td>\n",
       "      <td>1</td>\n",
       "      <td>Private</td>\n",
       "      <td>1</td>\n",
       "      <td>gl_over 75%</td>\n",
       "      <td>bmi_over 75%</td>\n",
       "      <td>formerly smoked</td>\n",
       "      <td>1</td>\n",
       "    </tr>\n",
       "    <tr>\n",
       "      <th>1</th>\n",
       "      <td>51676</td>\n",
       "      <td>0</td>\n",
       "      <td>age_over 60</td>\n",
       "      <td>0</td>\n",
       "      <td>0</td>\n",
       "      <td>1</td>\n",
       "      <td>Self-employed</td>\n",
       "      <td>0</td>\n",
       "      <td>gl_over 75%</td>\n",
       "      <td>bmi_50% to 75%</td>\n",
       "      <td>never smoked</td>\n",
       "      <td>1</td>\n",
       "    </tr>\n",
       "    <tr>\n",
       "      <th>2</th>\n",
       "      <td>31112</td>\n",
       "      <td>1</td>\n",
       "      <td>age_over 60</td>\n",
       "      <td>0</td>\n",
       "      <td>1</td>\n",
       "      <td>1</td>\n",
       "      <td>Private</td>\n",
       "      <td>0</td>\n",
       "      <td>gl_50% to 75%</td>\n",
       "      <td>bmi_50% to 75%</td>\n",
       "      <td>never smoked</td>\n",
       "      <td>1</td>\n",
       "    </tr>\n",
       "    <tr>\n",
       "      <th>3</th>\n",
       "      <td>60182</td>\n",
       "      <td>0</td>\n",
       "      <td>age_40 to 59</td>\n",
       "      <td>0</td>\n",
       "      <td>0</td>\n",
       "      <td>1</td>\n",
       "      <td>Private</td>\n",
       "      <td>1</td>\n",
       "      <td>gl_over 75%</td>\n",
       "      <td>bmi_over 75%</td>\n",
       "      <td>smokes</td>\n",
       "      <td>1</td>\n",
       "    </tr>\n",
       "    <tr>\n",
       "      <th>4</th>\n",
       "      <td>1665</td>\n",
       "      <td>0</td>\n",
       "      <td>age_over 60</td>\n",
       "      <td>1</td>\n",
       "      <td>0</td>\n",
       "      <td>1</td>\n",
       "      <td>Self-employed</td>\n",
       "      <td>0</td>\n",
       "      <td>gl_over 75%</td>\n",
       "      <td>bmi_26% to 50%</td>\n",
       "      <td>never smoked</td>\n",
       "      <td>1</td>\n",
       "    </tr>\n",
       "    <tr>\n",
       "      <th>...</th>\n",
       "      <td>...</td>\n",
       "      <td>...</td>\n",
       "      <td>...</td>\n",
       "      <td>...</td>\n",
       "      <td>...</td>\n",
       "      <td>...</td>\n",
       "      <td>...</td>\n",
       "      <td>...</td>\n",
       "      <td>...</td>\n",
       "      <td>...</td>\n",
       "      <td>...</td>\n",
       "      <td>...</td>\n",
       "    </tr>\n",
       "    <tr>\n",
       "      <th>5105</th>\n",
       "      <td>18234</td>\n",
       "      <td>0</td>\n",
       "      <td>age_over 60</td>\n",
       "      <td>1</td>\n",
       "      <td>0</td>\n",
       "      <td>1</td>\n",
       "      <td>Private</td>\n",
       "      <td>1</td>\n",
       "      <td>gl_26% to 50%</td>\n",
       "      <td>bmi_50% to 75%</td>\n",
       "      <td>never smoked</td>\n",
       "      <td>0</td>\n",
       "    </tr>\n",
       "    <tr>\n",
       "      <th>5106</th>\n",
       "      <td>44873</td>\n",
       "      <td>0</td>\n",
       "      <td>age_over 60</td>\n",
       "      <td>0</td>\n",
       "      <td>0</td>\n",
       "      <td>1</td>\n",
       "      <td>Self-employed</td>\n",
       "      <td>1</td>\n",
       "      <td>gl_over 75%</td>\n",
       "      <td>bmi_over 75%</td>\n",
       "      <td>never smoked</td>\n",
       "      <td>0</td>\n",
       "    </tr>\n",
       "    <tr>\n",
       "      <th>5107</th>\n",
       "      <td>19723</td>\n",
       "      <td>0</td>\n",
       "      <td>age_20 to 39</td>\n",
       "      <td>0</td>\n",
       "      <td>0</td>\n",
       "      <td>1</td>\n",
       "      <td>Self-employed</td>\n",
       "      <td>0</td>\n",
       "      <td>gl_26% to 50%</td>\n",
       "      <td>bmi_50% to 75%</td>\n",
       "      <td>never smoked</td>\n",
       "      <td>0</td>\n",
       "    </tr>\n",
       "    <tr>\n",
       "      <th>5108</th>\n",
       "      <td>37544</td>\n",
       "      <td>1</td>\n",
       "      <td>age_40 to 59</td>\n",
       "      <td>0</td>\n",
       "      <td>0</td>\n",
       "      <td>1</td>\n",
       "      <td>Private</td>\n",
       "      <td>0</td>\n",
       "      <td>gl_over 75%</td>\n",
       "      <td>bmi_26% to 50%</td>\n",
       "      <td>formerly smoked</td>\n",
       "      <td>0</td>\n",
       "    </tr>\n",
       "    <tr>\n",
       "      <th>5109</th>\n",
       "      <td>44679</td>\n",
       "      <td>0</td>\n",
       "      <td>age_40 to 59</td>\n",
       "      <td>0</td>\n",
       "      <td>0</td>\n",
       "      <td>1</td>\n",
       "      <td>Govt_job</td>\n",
       "      <td>1</td>\n",
       "      <td>gl_26% to 50%</td>\n",
       "      <td>bmi_26% to 50%</td>\n",
       "      <td>Unknown</td>\n",
       "      <td>0</td>\n",
       "    </tr>\n",
       "  </tbody>\n",
       "</table>\n",
       "<p>5109 rows × 12 columns</p>\n",
       "</div>"
      ],
      "text/plain": [
       "         id  gender           age  hypertension  heart_disease  ever_married  \\\n",
       "0      9046       1   age_over 60             0              1             1   \n",
       "1     51676       0   age_over 60             0              0             1   \n",
       "2     31112       1   age_over 60             0              1             1   \n",
       "3     60182       0  age_40 to 59             0              0             1   \n",
       "4      1665       0   age_over 60             1              0             1   \n",
       "...     ...     ...           ...           ...            ...           ...   \n",
       "5105  18234       0   age_over 60             1              0             1   \n",
       "5106  44873       0   age_over 60             0              0             1   \n",
       "5107  19723       0  age_20 to 39             0              0             1   \n",
       "5108  37544       1  age_40 to 59             0              0             1   \n",
       "5109  44679       0  age_40 to 59             0              0             1   \n",
       "\n",
       "          work_type  Residence_type avg_glucose_level             bmi  \\\n",
       "0           Private               1       gl_over 75%    bmi_over 75%   \n",
       "1     Self-employed               0       gl_over 75%  bmi_50% to 75%   \n",
       "2           Private               0     gl_50% to 75%  bmi_50% to 75%   \n",
       "3           Private               1       gl_over 75%    bmi_over 75%   \n",
       "4     Self-employed               0       gl_over 75%  bmi_26% to 50%   \n",
       "...             ...             ...               ...             ...   \n",
       "5105        Private               1     gl_26% to 50%  bmi_50% to 75%   \n",
       "5106  Self-employed               1       gl_over 75%    bmi_over 75%   \n",
       "5107  Self-employed               0     gl_26% to 50%  bmi_50% to 75%   \n",
       "5108        Private               0       gl_over 75%  bmi_26% to 50%   \n",
       "5109       Govt_job               1     gl_26% to 50%  bmi_26% to 50%   \n",
       "\n",
       "       smoking_status  stroke  \n",
       "0     formerly smoked       1  \n",
       "1        never smoked       1  \n",
       "2        never smoked       1  \n",
       "3              smokes       1  \n",
       "4        never smoked       1  \n",
       "...               ...     ...  \n",
       "5105     never smoked       0  \n",
       "5106     never smoked       0  \n",
       "5107     never smoked       0  \n",
       "5108  formerly smoked       0  \n",
       "5109          Unknown       0  \n",
       "\n",
       "[5109 rows x 12 columns]"
      ]
     },
     "execution_count": 86,
     "metadata": {},
     "output_type": "execute_result"
    }
   ],
   "source": [
    "df"
   ]
  },
  {
   "cell_type": "code",
   "execution_count": 87,
   "id": "funny-watershed",
   "metadata": {
    "execution": {
     "iopub.execute_input": "2021-04-15T16:43:08.248485Z",
     "iopub.status.busy": "2021-04-15T16:43:08.247807Z",
     "iopub.status.idle": "2021-04-15T16:43:08.264994Z",
     "shell.execute_reply": "2021-04-15T16:43:08.264192Z"
    },
    "papermill": {
     "duration": 0.151496,
     "end_time": "2021-04-15T16:43:08.265148",
     "exception": false,
     "start_time": "2021-04-15T16:43:08.113652",
     "status": "completed"
    },
    "tags": []
   },
   "outputs": [
    {
     "data": {
      "text/html": [
       "<div>\n",
       "<style scoped>\n",
       "    .dataframe tbody tr th:only-of-type {\n",
       "        vertical-align: middle;\n",
       "    }\n",
       "\n",
       "    .dataframe tbody tr th {\n",
       "        vertical-align: top;\n",
       "    }\n",
       "\n",
       "    .dataframe thead th {\n",
       "        text-align: right;\n",
       "    }\n",
       "</style>\n",
       "<table border=\"1\" class=\"dataframe\">\n",
       "  <thead>\n",
       "    <tr style=\"text-align: right;\">\n",
       "      <th></th>\n",
       "      <th>id</th>\n",
       "      <th>gender</th>\n",
       "      <th>hypertension</th>\n",
       "      <th>heart_disease</th>\n",
       "      <th>ever_married</th>\n",
       "      <th>Residence_type</th>\n",
       "      <th>stroke</th>\n",
       "    </tr>\n",
       "  </thead>\n",
       "  <tbody>\n",
       "    <tr>\n",
       "      <th>0</th>\n",
       "      <td>9046</td>\n",
       "      <td>1</td>\n",
       "      <td>0</td>\n",
       "      <td>1</td>\n",
       "      <td>1</td>\n",
       "      <td>1</td>\n",
       "      <td>1</td>\n",
       "    </tr>\n",
       "    <tr>\n",
       "      <th>1</th>\n",
       "      <td>51676</td>\n",
       "      <td>0</td>\n",
       "      <td>0</td>\n",
       "      <td>0</td>\n",
       "      <td>1</td>\n",
       "      <td>0</td>\n",
       "      <td>1</td>\n",
       "    </tr>\n",
       "    <tr>\n",
       "      <th>2</th>\n",
       "      <td>31112</td>\n",
       "      <td>1</td>\n",
       "      <td>0</td>\n",
       "      <td>1</td>\n",
       "      <td>1</td>\n",
       "      <td>0</td>\n",
       "      <td>1</td>\n",
       "    </tr>\n",
       "    <tr>\n",
       "      <th>3</th>\n",
       "      <td>60182</td>\n",
       "      <td>0</td>\n",
       "      <td>0</td>\n",
       "      <td>0</td>\n",
       "      <td>1</td>\n",
       "      <td>1</td>\n",
       "      <td>1</td>\n",
       "    </tr>\n",
       "    <tr>\n",
       "      <th>4</th>\n",
       "      <td>1665</td>\n",
       "      <td>0</td>\n",
       "      <td>1</td>\n",
       "      <td>0</td>\n",
       "      <td>1</td>\n",
       "      <td>0</td>\n",
       "      <td>1</td>\n",
       "    </tr>\n",
       "    <tr>\n",
       "      <th>...</th>\n",
       "      <td>...</td>\n",
       "      <td>...</td>\n",
       "      <td>...</td>\n",
       "      <td>...</td>\n",
       "      <td>...</td>\n",
       "      <td>...</td>\n",
       "      <td>...</td>\n",
       "    </tr>\n",
       "    <tr>\n",
       "      <th>5105</th>\n",
       "      <td>18234</td>\n",
       "      <td>0</td>\n",
       "      <td>1</td>\n",
       "      <td>0</td>\n",
       "      <td>1</td>\n",
       "      <td>1</td>\n",
       "      <td>0</td>\n",
       "    </tr>\n",
       "    <tr>\n",
       "      <th>5106</th>\n",
       "      <td>44873</td>\n",
       "      <td>0</td>\n",
       "      <td>0</td>\n",
       "      <td>0</td>\n",
       "      <td>1</td>\n",
       "      <td>1</td>\n",
       "      <td>0</td>\n",
       "    </tr>\n",
       "    <tr>\n",
       "      <th>5107</th>\n",
       "      <td>19723</td>\n",
       "      <td>0</td>\n",
       "      <td>0</td>\n",
       "      <td>0</td>\n",
       "      <td>1</td>\n",
       "      <td>0</td>\n",
       "      <td>0</td>\n",
       "    </tr>\n",
       "    <tr>\n",
       "      <th>5108</th>\n",
       "      <td>37544</td>\n",
       "      <td>1</td>\n",
       "      <td>0</td>\n",
       "      <td>0</td>\n",
       "      <td>1</td>\n",
       "      <td>0</td>\n",
       "      <td>0</td>\n",
       "    </tr>\n",
       "    <tr>\n",
       "      <th>5109</th>\n",
       "      <td>44679</td>\n",
       "      <td>0</td>\n",
       "      <td>0</td>\n",
       "      <td>0</td>\n",
       "      <td>1</td>\n",
       "      <td>1</td>\n",
       "      <td>0</td>\n",
       "    </tr>\n",
       "  </tbody>\n",
       "</table>\n",
       "<p>5109 rows × 7 columns</p>\n",
       "</div>"
      ],
      "text/plain": [
       "         id  gender  hypertension  heart_disease  ever_married  \\\n",
       "0      9046       1             0              1             1   \n",
       "1     51676       0             0              0             1   \n",
       "2     31112       1             0              1             1   \n",
       "3     60182       0             0              0             1   \n",
       "4      1665       0             1              0             1   \n",
       "...     ...     ...           ...            ...           ...   \n",
       "5105  18234       0             1              0             1   \n",
       "5106  44873       0             0              0             1   \n",
       "5107  19723       0             0              0             1   \n",
       "5108  37544       1             0              0             1   \n",
       "5109  44679       0             0              0             1   \n",
       "\n",
       "      Residence_type  stroke  \n",
       "0                  1       1  \n",
       "1                  0       1  \n",
       "2                  0       1  \n",
       "3                  1       1  \n",
       "4                  0       1  \n",
       "...              ...     ...  \n",
       "5105               1       0  \n",
       "5106               1       0  \n",
       "5107               0       0  \n",
       "5108               0       0  \n",
       "5109               1       0  \n",
       "\n",
       "[5109 rows x 7 columns]"
      ]
     },
     "execution_count": 87,
     "metadata": {},
     "output_type": "execute_result"
    }
   ],
   "source": [
    "df.drop(cat_cols,axis=1,inplace=True)\n",
    "df"
   ]
  },
  {
   "cell_type": "code",
   "execution_count": 88,
   "id": "champion-complement",
   "metadata": {
    "execution": {
     "iopub.execute_input": "2021-04-15T16:43:08.530011Z",
     "iopub.status.busy": "2021-04-15T16:43:08.529352Z",
     "iopub.status.idle": "2021-04-15T16:43:08.532438Z",
     "shell.execute_reply": "2021-04-15T16:43:08.531797Z"
    },
    "papermill": {
     "duration": 0.137896,
     "end_time": "2021-04-15T16:43:08.532597",
     "exception": false,
     "start_time": "2021-04-15T16:43:08.394701",
     "status": "completed"
    },
    "tags": []
   },
   "outputs": [],
   "source": [
    "# delete meaningless column (for machie learning)\n",
    "df.drop('id', axis=1, inplace=True)"
   ]
  },
  {
   "cell_type": "code",
   "execution_count": 89,
   "id": "every-harmony",
   "metadata": {
    "execution": {
     "iopub.execute_input": "2021-04-15T16:43:08.795541Z",
     "iopub.status.busy": "2021-04-15T16:43:08.794878Z",
     "iopub.status.idle": "2021-04-15T16:43:08.808916Z",
     "shell.execute_reply": "2021-04-15T16:43:08.808415Z"
    },
    "papermill": {
     "duration": 0.145295,
     "end_time": "2021-04-15T16:43:08.809054",
     "exception": false,
     "start_time": "2021-04-15T16:43:08.663759",
     "status": "completed"
    },
    "tags": []
   },
   "outputs": [
    {
     "data": {
      "text/html": [
       "<div>\n",
       "<style scoped>\n",
       "    .dataframe tbody tr th:only-of-type {\n",
       "        vertical-align: middle;\n",
       "    }\n",
       "\n",
       "    .dataframe tbody tr th {\n",
       "        vertical-align: top;\n",
       "    }\n",
       "\n",
       "    .dataframe thead th {\n",
       "        text-align: right;\n",
       "    }\n",
       "</style>\n",
       "<table border=\"1\" class=\"dataframe\">\n",
       "  <thead>\n",
       "    <tr style=\"text-align: right;\">\n",
       "      <th></th>\n",
       "      <th>gender</th>\n",
       "      <th>hypertension</th>\n",
       "      <th>heart_disease</th>\n",
       "      <th>ever_married</th>\n",
       "      <th>Residence_type</th>\n",
       "      <th>stroke</th>\n",
       "    </tr>\n",
       "  </thead>\n",
       "  <tbody>\n",
       "    <tr>\n",
       "      <th>0</th>\n",
       "      <td>1</td>\n",
       "      <td>0</td>\n",
       "      <td>1</td>\n",
       "      <td>1</td>\n",
       "      <td>1</td>\n",
       "      <td>1</td>\n",
       "    </tr>\n",
       "    <tr>\n",
       "      <th>1</th>\n",
       "      <td>0</td>\n",
       "      <td>0</td>\n",
       "      <td>0</td>\n",
       "      <td>1</td>\n",
       "      <td>0</td>\n",
       "      <td>1</td>\n",
       "    </tr>\n",
       "    <tr>\n",
       "      <th>2</th>\n",
       "      <td>1</td>\n",
       "      <td>0</td>\n",
       "      <td>1</td>\n",
       "      <td>1</td>\n",
       "      <td>0</td>\n",
       "      <td>1</td>\n",
       "    </tr>\n",
       "    <tr>\n",
       "      <th>3</th>\n",
       "      <td>0</td>\n",
       "      <td>0</td>\n",
       "      <td>0</td>\n",
       "      <td>1</td>\n",
       "      <td>1</td>\n",
       "      <td>1</td>\n",
       "    </tr>\n",
       "    <tr>\n",
       "      <th>4</th>\n",
       "      <td>0</td>\n",
       "      <td>1</td>\n",
       "      <td>0</td>\n",
       "      <td>1</td>\n",
       "      <td>0</td>\n",
       "      <td>1</td>\n",
       "    </tr>\n",
       "    <tr>\n",
       "      <th>...</th>\n",
       "      <td>...</td>\n",
       "      <td>...</td>\n",
       "      <td>...</td>\n",
       "      <td>...</td>\n",
       "      <td>...</td>\n",
       "      <td>...</td>\n",
       "    </tr>\n",
       "    <tr>\n",
       "      <th>5105</th>\n",
       "      <td>0</td>\n",
       "      <td>1</td>\n",
       "      <td>0</td>\n",
       "      <td>1</td>\n",
       "      <td>1</td>\n",
       "      <td>0</td>\n",
       "    </tr>\n",
       "    <tr>\n",
       "      <th>5106</th>\n",
       "      <td>0</td>\n",
       "      <td>0</td>\n",
       "      <td>0</td>\n",
       "      <td>1</td>\n",
       "      <td>1</td>\n",
       "      <td>0</td>\n",
       "    </tr>\n",
       "    <tr>\n",
       "      <th>5107</th>\n",
       "      <td>0</td>\n",
       "      <td>0</td>\n",
       "      <td>0</td>\n",
       "      <td>1</td>\n",
       "      <td>0</td>\n",
       "      <td>0</td>\n",
       "    </tr>\n",
       "    <tr>\n",
       "      <th>5108</th>\n",
       "      <td>1</td>\n",
       "      <td>0</td>\n",
       "      <td>0</td>\n",
       "      <td>1</td>\n",
       "      <td>0</td>\n",
       "      <td>0</td>\n",
       "    </tr>\n",
       "    <tr>\n",
       "      <th>5109</th>\n",
       "      <td>0</td>\n",
       "      <td>0</td>\n",
       "      <td>0</td>\n",
       "      <td>1</td>\n",
       "      <td>1</td>\n",
       "      <td>0</td>\n",
       "    </tr>\n",
       "  </tbody>\n",
       "</table>\n",
       "<p>5109 rows × 6 columns</p>\n",
       "</div>"
      ],
      "text/plain": [
       "      gender  hypertension  heart_disease  ever_married  Residence_type  \\\n",
       "0          1             0              1             1               1   \n",
       "1          0             0              0             1               0   \n",
       "2          1             0              1             1               0   \n",
       "3          0             0              0             1               1   \n",
       "4          0             1              0             1               0   \n",
       "...      ...           ...            ...           ...             ...   \n",
       "5105       0             1              0             1               1   \n",
       "5106       0             0              0             1               1   \n",
       "5107       0             0              0             1               0   \n",
       "5108       1             0              0             1               0   \n",
       "5109       0             0              0             1               1   \n",
       "\n",
       "      stroke  \n",
       "0          1  \n",
       "1          1  \n",
       "2          1  \n",
       "3          1  \n",
       "4          1  \n",
       "...      ...  \n",
       "5105       0  \n",
       "5106       0  \n",
       "5107       0  \n",
       "5108       0  \n",
       "5109       0  \n",
       "\n",
       "[5109 rows x 6 columns]"
      ]
     },
     "execution_count": 89,
     "metadata": {},
     "output_type": "execute_result"
    }
   ],
   "source": [
    "df"
   ]
  },
  {
   "cell_type": "code",
   "execution_count": 90,
   "id": "nearby-modeling",
   "metadata": {
    "execution": {
     "iopub.execute_input": "2021-04-15T16:43:09.075504Z",
     "iopub.status.busy": "2021-04-15T16:43:09.074665Z",
     "iopub.status.idle": "2021-04-15T16:43:09.079182Z",
     "shell.execute_reply": "2021-04-15T16:43:09.078678Z"
    },
    "papermill": {
     "duration": 0.141246,
     "end_time": "2021-04-15T16:43:09.079343",
     "exception": false,
     "start_time": "2021-04-15T16:43:08.938097",
     "status": "completed"
    },
    "tags": []
   },
   "outputs": [
    {
     "data": {
      "text/plain": [
       "['age', 'work_type', 'avg_glucose_level', 'bmi', 'smoking_status', 'age']"
      ]
     },
     "execution_count": 90,
     "metadata": {},
     "output_type": "execute_result"
    }
   ],
   "source": [
    "cat_cols"
   ]
  },
  {
   "cell_type": "code",
   "execution_count": 91,
   "id": "turned-trunk",
   "metadata": {
    "execution": {
     "iopub.execute_input": "2021-04-15T16:43:09.342979Z",
     "iopub.status.busy": "2021-04-15T16:43:09.342383Z",
     "iopub.status.idle": "2021-04-15T16:43:09.357400Z",
     "shell.execute_reply": "2021-04-15T16:43:09.356857Z"
    },
    "papermill": {
     "duration": 0.14823,
     "end_time": "2021-04-15T16:43:09.357565",
     "exception": false,
     "start_time": "2021-04-15T16:43:09.209335",
     "status": "completed"
    },
    "tags": []
   },
   "outputs": [
    {
     "data": {
      "text/html": [
       "<div>\n",
       "<style scoped>\n",
       "    .dataframe tbody tr th:only-of-type {\n",
       "        vertical-align: middle;\n",
       "    }\n",
       "\n",
       "    .dataframe tbody tr th {\n",
       "        vertical-align: top;\n",
       "    }\n",
       "\n",
       "    .dataframe thead th {\n",
       "        text-align: right;\n",
       "    }\n",
       "</style>\n",
       "<table border=\"1\" class=\"dataframe\">\n",
       "  <thead>\n",
       "    <tr style=\"text-align: right;\">\n",
       "      <th></th>\n",
       "      <th>gender</th>\n",
       "      <th>hypertension</th>\n",
       "      <th>heart_disease</th>\n",
       "      <th>ever_married</th>\n",
       "      <th>Residence_type</th>\n",
       "      <th>stroke</th>\n",
       "    </tr>\n",
       "  </thead>\n",
       "  <tbody>\n",
       "    <tr>\n",
       "      <th>0</th>\n",
       "      <td>1</td>\n",
       "      <td>0</td>\n",
       "      <td>1</td>\n",
       "      <td>1</td>\n",
       "      <td>1</td>\n",
       "      <td>1</td>\n",
       "    </tr>\n",
       "    <tr>\n",
       "      <th>1</th>\n",
       "      <td>0</td>\n",
       "      <td>0</td>\n",
       "      <td>0</td>\n",
       "      <td>1</td>\n",
       "      <td>0</td>\n",
       "      <td>1</td>\n",
       "    </tr>\n",
       "    <tr>\n",
       "      <th>2</th>\n",
       "      <td>1</td>\n",
       "      <td>0</td>\n",
       "      <td>1</td>\n",
       "      <td>1</td>\n",
       "      <td>0</td>\n",
       "      <td>1</td>\n",
       "    </tr>\n",
       "    <tr>\n",
       "      <th>3</th>\n",
       "      <td>0</td>\n",
       "      <td>0</td>\n",
       "      <td>0</td>\n",
       "      <td>1</td>\n",
       "      <td>1</td>\n",
       "      <td>1</td>\n",
       "    </tr>\n",
       "    <tr>\n",
       "      <th>4</th>\n",
       "      <td>0</td>\n",
       "      <td>1</td>\n",
       "      <td>0</td>\n",
       "      <td>1</td>\n",
       "      <td>0</td>\n",
       "      <td>1</td>\n",
       "    </tr>\n",
       "    <tr>\n",
       "      <th>...</th>\n",
       "      <td>...</td>\n",
       "      <td>...</td>\n",
       "      <td>...</td>\n",
       "      <td>...</td>\n",
       "      <td>...</td>\n",
       "      <td>...</td>\n",
       "    </tr>\n",
       "    <tr>\n",
       "      <th>5104</th>\n",
       "      <td>0</td>\n",
       "      <td>1</td>\n",
       "      <td>0</td>\n",
       "      <td>1</td>\n",
       "      <td>1</td>\n",
       "      <td>0</td>\n",
       "    </tr>\n",
       "    <tr>\n",
       "      <th>5105</th>\n",
       "      <td>0</td>\n",
       "      <td>0</td>\n",
       "      <td>0</td>\n",
       "      <td>1</td>\n",
       "      <td>1</td>\n",
       "      <td>0</td>\n",
       "    </tr>\n",
       "    <tr>\n",
       "      <th>5106</th>\n",
       "      <td>0</td>\n",
       "      <td>0</td>\n",
       "      <td>0</td>\n",
       "      <td>1</td>\n",
       "      <td>0</td>\n",
       "      <td>0</td>\n",
       "    </tr>\n",
       "    <tr>\n",
       "      <th>5107</th>\n",
       "      <td>1</td>\n",
       "      <td>0</td>\n",
       "      <td>0</td>\n",
       "      <td>1</td>\n",
       "      <td>0</td>\n",
       "      <td>0</td>\n",
       "    </tr>\n",
       "    <tr>\n",
       "      <th>5108</th>\n",
       "      <td>0</td>\n",
       "      <td>0</td>\n",
       "      <td>0</td>\n",
       "      <td>1</td>\n",
       "      <td>1</td>\n",
       "      <td>0</td>\n",
       "    </tr>\n",
       "  </tbody>\n",
       "</table>\n",
       "<p>5109 rows × 6 columns</p>\n",
       "</div>"
      ],
      "text/plain": [
       "      gender  hypertension  heart_disease  ever_married  Residence_type  \\\n",
       "0          1             0              1             1               1   \n",
       "1          0             0              0             1               0   \n",
       "2          1             0              1             1               0   \n",
       "3          0             0              0             1               1   \n",
       "4          0             1              0             1               0   \n",
       "...      ...           ...            ...           ...             ...   \n",
       "5104       0             1              0             1               1   \n",
       "5105       0             0              0             1               1   \n",
       "5106       0             0              0             1               0   \n",
       "5107       1             0              0             1               0   \n",
       "5108       0             0              0             1               1   \n",
       "\n",
       "      stroke  \n",
       "0          1  \n",
       "1          1  \n",
       "2          1  \n",
       "3          1  \n",
       "4          1  \n",
       "...      ...  \n",
       "5104       0  \n",
       "5105       0  \n",
       "5106       0  \n",
       "5107       0  \n",
       "5108       0  \n",
       "\n",
       "[5109 rows x 6 columns]"
      ]
     },
     "execution_count": 91,
     "metadata": {},
     "output_type": "execute_result"
    }
   ],
   "source": [
    "df.reset_index().iloc[:,1:]"
   ]
  },
  {
   "cell_type": "code",
   "execution_count": 92,
   "id": "joined-sessions",
   "metadata": {
    "execution": {
     "iopub.execute_input": "2021-04-15T16:43:09.624524Z",
     "iopub.status.busy": "2021-04-15T16:43:09.623806Z",
     "iopub.status.idle": "2021-04-15T16:43:09.628884Z",
     "shell.execute_reply": "2021-04-15T16:43:09.629459Z"
    },
    "papermill": {
     "duration": 0.140082,
     "end_time": "2021-04-15T16:43:09.629656",
     "exception": false,
     "start_time": "2021-04-15T16:43:09.489574",
     "status": "completed"
    },
    "tags": []
   },
   "outputs": [],
   "source": [
    "df = df.reset_index().iloc[:,1:]"
   ]
  },
  {
   "cell_type": "code",
   "execution_count": 93,
   "id": "occupational-exhibition",
   "metadata": {
    "execution": {
     "iopub.execute_input": "2021-04-15T16:43:09.896756Z",
     "iopub.status.busy": "2021-04-15T16:43:09.896063Z",
     "iopub.status.idle": "2021-04-15T16:43:09.909143Z",
     "shell.execute_reply": "2021-04-15T16:43:09.909842Z"
    },
    "papermill": {
     "duration": 0.14864,
     "end_time": "2021-04-15T16:43:09.910022",
     "exception": false,
     "start_time": "2021-04-15T16:43:09.761382",
     "status": "completed"
    },
    "tags": []
   },
   "outputs": [
    {
     "data": {
      "text/html": [
       "<div>\n",
       "<style scoped>\n",
       "    .dataframe tbody tr th:only-of-type {\n",
       "        vertical-align: middle;\n",
       "    }\n",
       "\n",
       "    .dataframe tbody tr th {\n",
       "        vertical-align: top;\n",
       "    }\n",
       "\n",
       "    .dataframe thead th {\n",
       "        text-align: right;\n",
       "    }\n",
       "</style>\n",
       "<table border=\"1\" class=\"dataframe\">\n",
       "  <thead>\n",
       "    <tr style=\"text-align: right;\">\n",
       "      <th></th>\n",
       "      <th>gender</th>\n",
       "      <th>hypertension</th>\n",
       "      <th>heart_disease</th>\n",
       "      <th>ever_married</th>\n",
       "      <th>Residence_type</th>\n",
       "      <th>stroke</th>\n",
       "    </tr>\n",
       "  </thead>\n",
       "  <tbody>\n",
       "    <tr>\n",
       "      <th>0</th>\n",
       "      <td>1</td>\n",
       "      <td>0</td>\n",
       "      <td>1</td>\n",
       "      <td>1</td>\n",
       "      <td>1</td>\n",
       "      <td>1</td>\n",
       "    </tr>\n",
       "    <tr>\n",
       "      <th>1</th>\n",
       "      <td>0</td>\n",
       "      <td>0</td>\n",
       "      <td>0</td>\n",
       "      <td>1</td>\n",
       "      <td>0</td>\n",
       "      <td>1</td>\n",
       "    </tr>\n",
       "    <tr>\n",
       "      <th>2</th>\n",
       "      <td>1</td>\n",
       "      <td>0</td>\n",
       "      <td>1</td>\n",
       "      <td>1</td>\n",
       "      <td>0</td>\n",
       "      <td>1</td>\n",
       "    </tr>\n",
       "    <tr>\n",
       "      <th>3</th>\n",
       "      <td>0</td>\n",
       "      <td>0</td>\n",
       "      <td>0</td>\n",
       "      <td>1</td>\n",
       "      <td>1</td>\n",
       "      <td>1</td>\n",
       "    </tr>\n",
       "    <tr>\n",
       "      <th>4</th>\n",
       "      <td>0</td>\n",
       "      <td>1</td>\n",
       "      <td>0</td>\n",
       "      <td>1</td>\n",
       "      <td>0</td>\n",
       "      <td>1</td>\n",
       "    </tr>\n",
       "    <tr>\n",
       "      <th>...</th>\n",
       "      <td>...</td>\n",
       "      <td>...</td>\n",
       "      <td>...</td>\n",
       "      <td>...</td>\n",
       "      <td>...</td>\n",
       "      <td>...</td>\n",
       "    </tr>\n",
       "    <tr>\n",
       "      <th>5104</th>\n",
       "      <td>0</td>\n",
       "      <td>1</td>\n",
       "      <td>0</td>\n",
       "      <td>1</td>\n",
       "      <td>1</td>\n",
       "      <td>0</td>\n",
       "    </tr>\n",
       "    <tr>\n",
       "      <th>5105</th>\n",
       "      <td>0</td>\n",
       "      <td>0</td>\n",
       "      <td>0</td>\n",
       "      <td>1</td>\n",
       "      <td>1</td>\n",
       "      <td>0</td>\n",
       "    </tr>\n",
       "    <tr>\n",
       "      <th>5106</th>\n",
       "      <td>0</td>\n",
       "      <td>0</td>\n",
       "      <td>0</td>\n",
       "      <td>1</td>\n",
       "      <td>0</td>\n",
       "      <td>0</td>\n",
       "    </tr>\n",
       "    <tr>\n",
       "      <th>5107</th>\n",
       "      <td>1</td>\n",
       "      <td>0</td>\n",
       "      <td>0</td>\n",
       "      <td>1</td>\n",
       "      <td>0</td>\n",
       "      <td>0</td>\n",
       "    </tr>\n",
       "    <tr>\n",
       "      <th>5108</th>\n",
       "      <td>0</td>\n",
       "      <td>0</td>\n",
       "      <td>0</td>\n",
       "      <td>1</td>\n",
       "      <td>1</td>\n",
       "      <td>0</td>\n",
       "    </tr>\n",
       "  </tbody>\n",
       "</table>\n",
       "<p>5109 rows × 6 columns</p>\n",
       "</div>"
      ],
      "text/plain": [
       "      gender  hypertension  heart_disease  ever_married  Residence_type  \\\n",
       "0          1             0              1             1               1   \n",
       "1          0             0              0             1               0   \n",
       "2          1             0              1             1               0   \n",
       "3          0             0              0             1               1   \n",
       "4          0             1              0             1               0   \n",
       "...      ...           ...            ...           ...             ...   \n",
       "5104       0             1              0             1               1   \n",
       "5105       0             0              0             1               1   \n",
       "5106       0             0              0             1               0   \n",
       "5107       1             0              0             1               0   \n",
       "5108       0             0              0             1               1   \n",
       "\n",
       "      stroke  \n",
       "0          1  \n",
       "1          1  \n",
       "2          1  \n",
       "3          1  \n",
       "4          1  \n",
       "...      ...  \n",
       "5104       0  \n",
       "5105       0  \n",
       "5106       0  \n",
       "5107       0  \n",
       "5108       0  \n",
       "\n",
       "[5109 rows x 6 columns]"
      ]
     },
     "execution_count": 93,
     "metadata": {},
     "output_type": "execute_result"
    }
   ],
   "source": [
    "df"
   ]
  },
  {
   "cell_type": "code",
   "execution_count": 94,
   "id": "literary-aside",
   "metadata": {
    "execution": {
     "iopub.execute_input": "2021-04-15T16:43:10.179992Z",
     "iopub.status.busy": "2021-04-15T16:43:10.179365Z",
     "iopub.status.idle": "2021-04-15T16:43:10.208857Z",
     "shell.execute_reply": "2021-04-15T16:43:10.209402Z"
    },
    "papermill": {
     "duration": 0.165458,
     "end_time": "2021-04-15T16:43:10.209586",
     "exception": false,
     "start_time": "2021-04-15T16:43:10.044128",
     "status": "completed"
    },
    "tags": []
   },
   "outputs": [
    {
     "data": {
      "text/html": [
       "<div>\n",
       "<style scoped>\n",
       "    .dataframe tbody tr th:only-of-type {\n",
       "        vertical-align: middle;\n",
       "    }\n",
       "\n",
       "    .dataframe tbody tr th {\n",
       "        vertical-align: top;\n",
       "    }\n",
       "\n",
       "    .dataframe thead th {\n",
       "        text-align: right;\n",
       "    }\n",
       "</style>\n",
       "<table border=\"1\" class=\"dataframe\">\n",
       "  <thead>\n",
       "    <tr style=\"text-align: right;\">\n",
       "      <th></th>\n",
       "      <th>gender</th>\n",
       "      <th>hypertension</th>\n",
       "      <th>heart_disease</th>\n",
       "      <th>ever_married</th>\n",
       "      <th>Residence_type</th>\n",
       "      <th>stroke</th>\n",
       "      <th>age_20 to 39</th>\n",
       "      <th>age_40 to 59</th>\n",
       "      <th>age_over 60</th>\n",
       "      <th>age_under 19</th>\n",
       "      <th>...</th>\n",
       "      <th>Self-employed</th>\n",
       "      <th>Children</th>\n",
       "      <th>bmi_26% to 50%</th>\n",
       "      <th>bmi_50% to 75%</th>\n",
       "      <th>bmi_over 75%</th>\n",
       "      <th>bmi_under 25%</th>\n",
       "      <th>Unknown</th>\n",
       "      <th>formerly smoked</th>\n",
       "      <th>never smoked</th>\n",
       "      <th>smokes</th>\n",
       "    </tr>\n",
       "  </thead>\n",
       "  <tbody>\n",
       "    <tr>\n",
       "      <th>0</th>\n",
       "      <td>1</td>\n",
       "      <td>0</td>\n",
       "      <td>1</td>\n",
       "      <td>1</td>\n",
       "      <td>1</td>\n",
       "      <td>1</td>\n",
       "      <td>0</td>\n",
       "      <td>0</td>\n",
       "      <td>1</td>\n",
       "      <td>0</td>\n",
       "      <td>...</td>\n",
       "      <td>0</td>\n",
       "      <td>0</td>\n",
       "      <td>0</td>\n",
       "      <td>0</td>\n",
       "      <td>1</td>\n",
       "      <td>0</td>\n",
       "      <td>0</td>\n",
       "      <td>1</td>\n",
       "      <td>0</td>\n",
       "      <td>0</td>\n",
       "    </tr>\n",
       "    <tr>\n",
       "      <th>1</th>\n",
       "      <td>0</td>\n",
       "      <td>0</td>\n",
       "      <td>0</td>\n",
       "      <td>1</td>\n",
       "      <td>0</td>\n",
       "      <td>1</td>\n",
       "      <td>0</td>\n",
       "      <td>0</td>\n",
       "      <td>1</td>\n",
       "      <td>0</td>\n",
       "      <td>...</td>\n",
       "      <td>1</td>\n",
       "      <td>0</td>\n",
       "      <td>0</td>\n",
       "      <td>1</td>\n",
       "      <td>0</td>\n",
       "      <td>0</td>\n",
       "      <td>0</td>\n",
       "      <td>0</td>\n",
       "      <td>1</td>\n",
       "      <td>0</td>\n",
       "    </tr>\n",
       "    <tr>\n",
       "      <th>2</th>\n",
       "      <td>1</td>\n",
       "      <td>0</td>\n",
       "      <td>1</td>\n",
       "      <td>1</td>\n",
       "      <td>0</td>\n",
       "      <td>1</td>\n",
       "      <td>0</td>\n",
       "      <td>0</td>\n",
       "      <td>1</td>\n",
       "      <td>0</td>\n",
       "      <td>...</td>\n",
       "      <td>0</td>\n",
       "      <td>0</td>\n",
       "      <td>0</td>\n",
       "      <td>1</td>\n",
       "      <td>0</td>\n",
       "      <td>0</td>\n",
       "      <td>0</td>\n",
       "      <td>0</td>\n",
       "      <td>1</td>\n",
       "      <td>0</td>\n",
       "    </tr>\n",
       "    <tr>\n",
       "      <th>3</th>\n",
       "      <td>0</td>\n",
       "      <td>0</td>\n",
       "      <td>0</td>\n",
       "      <td>1</td>\n",
       "      <td>1</td>\n",
       "      <td>1</td>\n",
       "      <td>0</td>\n",
       "      <td>1</td>\n",
       "      <td>0</td>\n",
       "      <td>0</td>\n",
       "      <td>...</td>\n",
       "      <td>0</td>\n",
       "      <td>0</td>\n",
       "      <td>0</td>\n",
       "      <td>0</td>\n",
       "      <td>1</td>\n",
       "      <td>0</td>\n",
       "      <td>0</td>\n",
       "      <td>0</td>\n",
       "      <td>0</td>\n",
       "      <td>1</td>\n",
       "    </tr>\n",
       "    <tr>\n",
       "      <th>4</th>\n",
       "      <td>0</td>\n",
       "      <td>1</td>\n",
       "      <td>0</td>\n",
       "      <td>1</td>\n",
       "      <td>0</td>\n",
       "      <td>1</td>\n",
       "      <td>0</td>\n",
       "      <td>0</td>\n",
       "      <td>1</td>\n",
       "      <td>0</td>\n",
       "      <td>...</td>\n",
       "      <td>1</td>\n",
       "      <td>0</td>\n",
       "      <td>1</td>\n",
       "      <td>0</td>\n",
       "      <td>0</td>\n",
       "      <td>0</td>\n",
       "      <td>0</td>\n",
       "      <td>0</td>\n",
       "      <td>1</td>\n",
       "      <td>0</td>\n",
       "    </tr>\n",
       "    <tr>\n",
       "      <th>...</th>\n",
       "      <td>...</td>\n",
       "      <td>...</td>\n",
       "      <td>...</td>\n",
       "      <td>...</td>\n",
       "      <td>...</td>\n",
       "      <td>...</td>\n",
       "      <td>...</td>\n",
       "      <td>...</td>\n",
       "      <td>...</td>\n",
       "      <td>...</td>\n",
       "      <td>...</td>\n",
       "      <td>...</td>\n",
       "      <td>...</td>\n",
       "      <td>...</td>\n",
       "      <td>...</td>\n",
       "      <td>...</td>\n",
       "      <td>...</td>\n",
       "      <td>...</td>\n",
       "      <td>...</td>\n",
       "      <td>...</td>\n",
       "      <td>...</td>\n",
       "    </tr>\n",
       "    <tr>\n",
       "      <th>5104</th>\n",
       "      <td>0</td>\n",
       "      <td>1</td>\n",
       "      <td>0</td>\n",
       "      <td>1</td>\n",
       "      <td>1</td>\n",
       "      <td>0</td>\n",
       "      <td>0</td>\n",
       "      <td>0</td>\n",
       "      <td>1</td>\n",
       "      <td>0</td>\n",
       "      <td>...</td>\n",
       "      <td>0</td>\n",
       "      <td>0</td>\n",
       "      <td>0</td>\n",
       "      <td>1</td>\n",
       "      <td>0</td>\n",
       "      <td>0</td>\n",
       "      <td>0</td>\n",
       "      <td>0</td>\n",
       "      <td>1</td>\n",
       "      <td>0</td>\n",
       "    </tr>\n",
       "    <tr>\n",
       "      <th>5105</th>\n",
       "      <td>0</td>\n",
       "      <td>0</td>\n",
       "      <td>0</td>\n",
       "      <td>1</td>\n",
       "      <td>1</td>\n",
       "      <td>0</td>\n",
       "      <td>0</td>\n",
       "      <td>0</td>\n",
       "      <td>1</td>\n",
       "      <td>0</td>\n",
       "      <td>...</td>\n",
       "      <td>1</td>\n",
       "      <td>0</td>\n",
       "      <td>0</td>\n",
       "      <td>0</td>\n",
       "      <td>1</td>\n",
       "      <td>0</td>\n",
       "      <td>0</td>\n",
       "      <td>0</td>\n",
       "      <td>1</td>\n",
       "      <td>0</td>\n",
       "    </tr>\n",
       "    <tr>\n",
       "      <th>5106</th>\n",
       "      <td>0</td>\n",
       "      <td>0</td>\n",
       "      <td>0</td>\n",
       "      <td>1</td>\n",
       "      <td>0</td>\n",
       "      <td>0</td>\n",
       "      <td>1</td>\n",
       "      <td>0</td>\n",
       "      <td>0</td>\n",
       "      <td>0</td>\n",
       "      <td>...</td>\n",
       "      <td>1</td>\n",
       "      <td>0</td>\n",
       "      <td>0</td>\n",
       "      <td>1</td>\n",
       "      <td>0</td>\n",
       "      <td>0</td>\n",
       "      <td>0</td>\n",
       "      <td>0</td>\n",
       "      <td>1</td>\n",
       "      <td>0</td>\n",
       "    </tr>\n",
       "    <tr>\n",
       "      <th>5107</th>\n",
       "      <td>1</td>\n",
       "      <td>0</td>\n",
       "      <td>0</td>\n",
       "      <td>1</td>\n",
       "      <td>0</td>\n",
       "      <td>0</td>\n",
       "      <td>0</td>\n",
       "      <td>1</td>\n",
       "      <td>0</td>\n",
       "      <td>0</td>\n",
       "      <td>...</td>\n",
       "      <td>0</td>\n",
       "      <td>0</td>\n",
       "      <td>1</td>\n",
       "      <td>0</td>\n",
       "      <td>0</td>\n",
       "      <td>0</td>\n",
       "      <td>0</td>\n",
       "      <td>1</td>\n",
       "      <td>0</td>\n",
       "      <td>0</td>\n",
       "    </tr>\n",
       "    <tr>\n",
       "      <th>5108</th>\n",
       "      <td>0</td>\n",
       "      <td>0</td>\n",
       "      <td>0</td>\n",
       "      <td>1</td>\n",
       "      <td>1</td>\n",
       "      <td>0</td>\n",
       "      <td>0</td>\n",
       "      <td>1</td>\n",
       "      <td>0</td>\n",
       "      <td>0</td>\n",
       "      <td>...</td>\n",
       "      <td>0</td>\n",
       "      <td>0</td>\n",
       "      <td>1</td>\n",
       "      <td>0</td>\n",
       "      <td>0</td>\n",
       "      <td>0</td>\n",
       "      <td>1</td>\n",
       "      <td>0</td>\n",
       "      <td>0</td>\n",
       "      <td>0</td>\n",
       "    </tr>\n",
       "  </tbody>\n",
       "</table>\n",
       "<p>5109 rows × 27 columns</p>\n",
       "</div>"
      ],
      "text/plain": [
       "      gender  hypertension  heart_disease  ever_married  Residence_type  \\\n",
       "0          1             0              1             1               1   \n",
       "1          0             0              0             1               0   \n",
       "2          1             0              1             1               0   \n",
       "3          0             0              0             1               1   \n",
       "4          0             1              0             1               0   \n",
       "...      ...           ...            ...           ...             ...   \n",
       "5104       0             1              0             1               1   \n",
       "5105       0             0              0             1               1   \n",
       "5106       0             0              0             1               0   \n",
       "5107       1             0              0             1               0   \n",
       "5108       0             0              0             1               1   \n",
       "\n",
       "      stroke  age_20 to 39  age_40 to 59  age_over 60  age_under 19  ...  \\\n",
       "0          1             0             0            1             0  ...   \n",
       "1          1             0             0            1             0  ...   \n",
       "2          1             0             0            1             0  ...   \n",
       "3          1             0             1            0             0  ...   \n",
       "4          1             0             0            1             0  ...   \n",
       "...      ...           ...           ...          ...           ...  ...   \n",
       "5104       0             0             0            1             0  ...   \n",
       "5105       0             0             0            1             0  ...   \n",
       "5106       0             1             0            0             0  ...   \n",
       "5107       0             0             1            0             0  ...   \n",
       "5108       0             0             1            0             0  ...   \n",
       "\n",
       "      Self-employed  Children  bmi_26% to 50%  bmi_50% to 75%  bmi_over 75%  \\\n",
       "0                 0         0               0               0             1   \n",
       "1                 1         0               0               1             0   \n",
       "2                 0         0               0               1             0   \n",
       "3                 0         0               0               0             1   \n",
       "4                 1         0               1               0             0   \n",
       "...             ...       ...             ...             ...           ...   \n",
       "5104              0         0               0               1             0   \n",
       "5105              1         0               0               0             1   \n",
       "5106              1         0               0               1             0   \n",
       "5107              0         0               1               0             0   \n",
       "5108              0         0               1               0             0   \n",
       "\n",
       "      bmi_under 25%  Unknown  formerly smoked  never smoked  smokes  \n",
       "0                 0        0                1             0       0  \n",
       "1                 0        0                0             1       0  \n",
       "2                 0        0                0             1       0  \n",
       "3                 0        0                0             0       1  \n",
       "4                 0        0                0             1       0  \n",
       "...             ...      ...              ...           ...     ...  \n",
       "5104              0        0                0             1       0  \n",
       "5105              0        0                0             1       0  \n",
       "5106              0        0                0             1       0  \n",
       "5107              0        0                1             0       0  \n",
       "5108              0        1                0             0       0  \n",
       "\n",
       "[5109 rows x 27 columns]"
      ]
     },
     "execution_count": 94,
     "metadata": {},
     "output_type": "execute_result"
    }
   ],
   "source": [
    "pd.concat([df,age_df,agl_df,work_type_df,bmi_df,smoked_df], axis=1)"
   ]
  },
  {
   "cell_type": "code",
   "execution_count": 95,
   "id": "legislative-fellow",
   "metadata": {
    "execution": {
     "iopub.execute_input": "2021-04-15T16:43:10.478864Z",
     "iopub.status.busy": "2021-04-15T16:43:10.478231Z",
     "iopub.status.idle": "2021-04-15T16:43:10.489510Z",
     "shell.execute_reply": "2021-04-15T16:43:10.488891Z"
    },
    "papermill": {
     "duration": 0.147774,
     "end_time": "2021-04-15T16:43:10.489661",
     "exception": false,
     "start_time": "2021-04-15T16:43:10.341887",
     "status": "completed"
    },
    "tags": []
   },
   "outputs": [
    {
     "data": {
      "text/plain": [
       "gender             0\n",
       "hypertension       0\n",
       "heart_disease      0\n",
       "ever_married       0\n",
       "Residence_type     0\n",
       "stroke             0\n",
       "age_20 to 39       0\n",
       "age_40 to 59       0\n",
       "age_over 60        0\n",
       "age_under 19       0\n",
       "gl_26% to 50%      0\n",
       "gl_50% to 75%      0\n",
       "gl_over 75%        0\n",
       "gl_under 25%       0\n",
       "Govt_job           0\n",
       "Never_worked       0\n",
       "Private            0\n",
       "Self-employed      0\n",
       "Children           0\n",
       "bmi_26% to 50%     0\n",
       "bmi_50% to 75%     0\n",
       "bmi_over 75%       0\n",
       "bmi_under 25%      0\n",
       "Unknown            0\n",
       "formerly smoked    0\n",
       "never smoked       0\n",
       "smokes             0\n",
       "dtype: int64"
      ]
     },
     "execution_count": 95,
     "metadata": {},
     "output_type": "execute_result"
    }
   ],
   "source": [
    "pd.concat([df,age_df,agl_df,work_type_df,bmi_df,smoked_df], axis=1).isnull().sum()"
   ]
  },
  {
   "cell_type": "code",
   "execution_count": 96,
   "id": "biological-moderator",
   "metadata": {
    "execution": {
     "iopub.execute_input": "2021-04-15T16:43:10.763859Z",
     "iopub.status.busy": "2021-04-15T16:43:10.763104Z",
     "iopub.status.idle": "2021-04-15T16:43:10.768627Z",
     "shell.execute_reply": "2021-04-15T16:43:10.769170Z"
    },
    "papermill": {
     "duration": 0.143402,
     "end_time": "2021-04-15T16:43:10.769375",
     "exception": false,
     "start_time": "2021-04-15T16:43:10.625973",
     "status": "completed"
    },
    "tags": []
   },
   "outputs": [],
   "source": [
    "final_df = pd.concat([df,age_df,agl_df,work_type_df,bmi_df,smoked_df], axis=1)"
   ]
  },
  {
   "cell_type": "markdown",
   "id": "endangered-recruitment",
   "metadata": {
    "papermill": {
     "duration": 0.133428,
     "end_time": "2021-04-15T16:43:11.038590",
     "exception": false,
     "start_time": "2021-04-15T16:43:10.905162",
     "status": "completed"
    },
    "tags": []
   },
   "source": [
    "### Step 3. Train, Test set split & Upsampling"
   ]
  },
  {
   "cell_type": "code",
   "execution_count": 97,
   "id": "unlikely-hierarchy",
   "metadata": {
    "execution": {
     "iopub.execute_input": "2021-04-15T16:43:11.310680Z",
     "iopub.status.busy": "2021-04-15T16:43:11.309923Z",
     "iopub.status.idle": "2021-04-15T16:43:11.381459Z",
     "shell.execute_reply": "2021-04-15T16:43:11.382127Z"
    },
    "papermill": {
     "duration": 0.208616,
     "end_time": "2021-04-15T16:43:11.382340",
     "exception": false,
     "start_time": "2021-04-15T16:43:11.173724",
     "status": "completed"
    },
    "tags": []
   },
   "outputs": [],
   "source": [
    "from sklearn.model_selection import train_test_split"
   ]
  },
  {
   "cell_type": "code",
   "execution_count": 98,
   "id": "bored-continuity",
   "metadata": {
    "execution": {
     "iopub.execute_input": "2021-04-15T16:43:11.653894Z",
     "iopub.status.busy": "2021-04-15T16:43:11.653261Z",
     "iopub.status.idle": "2021-04-15T16:43:11.660719Z",
     "shell.execute_reply": "2021-04-15T16:43:11.661250Z"
    },
    "papermill": {
     "duration": 0.143583,
     "end_time": "2021-04-15T16:43:11.661442",
     "exception": false,
     "start_time": "2021-04-15T16:43:11.517859",
     "status": "completed"
    },
    "tags": []
   },
   "outputs": [],
   "source": [
    "X = final_df.drop('stroke', axis=1)\n",
    "y = final_df['stroke']"
   ]
  },
  {
   "cell_type": "code",
   "execution_count": 99,
   "id": "corresponding-posting",
   "metadata": {
    "execution": {
     "iopub.execute_input": "2021-04-15T16:43:11.932831Z",
     "iopub.status.busy": "2021-04-15T16:43:11.931802Z",
     "iopub.status.idle": "2021-04-15T16:43:11.937043Z",
     "shell.execute_reply": "2021-04-15T16:43:11.937664Z"
    },
    "papermill": {
     "duration": 0.143317,
     "end_time": "2021-04-15T16:43:11.937837",
     "exception": false,
     "start_time": "2021-04-15T16:43:11.794520",
     "status": "completed"
    },
    "tags": []
   },
   "outputs": [
    {
     "data": {
      "text/plain": [
       "((5109, 26), (5109,))"
      ]
     },
     "execution_count": 99,
     "metadata": {},
     "output_type": "execute_result"
    }
   ],
   "source": [
    "X.shape, y.shape"
   ]
  },
  {
   "cell_type": "code",
   "execution_count": 100,
   "id": "french-monitoring",
   "metadata": {
    "execution": {
     "iopub.execute_input": "2021-04-15T16:43:12.211547Z",
     "iopub.status.busy": "2021-04-15T16:43:12.210756Z",
     "iopub.status.idle": "2021-04-15T16:43:12.218043Z",
     "shell.execute_reply": "2021-04-15T16:43:12.218589Z"
    },
    "papermill": {
     "duration": 0.147088,
     "end_time": "2021-04-15T16:43:12.218769",
     "exception": false,
     "start_time": "2021-04-15T16:43:12.071681",
     "status": "completed"
    },
    "tags": []
   },
   "outputs": [],
   "source": [
    "X_train, X_test, y_train, y_test = train_test_split(X,y,test_size=0.2,random_state=111)"
   ]
  },
  {
   "cell_type": "code",
   "execution_count": 101,
   "id": "qualified-lincoln",
   "metadata": {
    "execution": {
     "iopub.execute_input": "2021-04-15T16:43:12.521501Z",
     "iopub.status.busy": "2021-04-15T16:43:12.520394Z",
     "iopub.status.idle": "2021-04-15T16:43:12.528432Z",
     "shell.execute_reply": "2021-04-15T16:43:12.529255Z"
    },
    "papermill": {
     "duration": 0.175462,
     "end_time": "2021-04-15T16:43:12.529551",
     "exception": false,
     "start_time": "2021-04-15T16:43:12.354089",
     "status": "completed"
    },
    "tags": []
   },
   "outputs": [
    {
     "data": {
      "text/plain": [
       "((4087, 26), (4087,))"
      ]
     },
     "execution_count": 101,
     "metadata": {},
     "output_type": "execute_result"
    }
   ],
   "source": [
    "X_train.shape, y_train.shape"
   ]
  },
  {
   "cell_type": "code",
   "execution_count": 102,
   "id": "purple-induction",
   "metadata": {
    "execution": {
     "iopub.execute_input": "2021-04-15T16:43:12.809895Z",
     "iopub.status.busy": "2021-04-15T16:43:12.808876Z",
     "iopub.status.idle": "2021-04-15T16:43:12.812748Z",
     "shell.execute_reply": "2021-04-15T16:43:12.813289Z"
    },
    "papermill": {
     "duration": 0.144325,
     "end_time": "2021-04-15T16:43:12.813479",
     "exception": false,
     "start_time": "2021-04-15T16:43:12.669154",
     "status": "completed"
    },
    "tags": []
   },
   "outputs": [
    {
     "data": {
      "text/plain": [
       "((1022, 26), (1022,))"
      ]
     },
     "execution_count": 102,
     "metadata": {},
     "output_type": "execute_result"
    }
   ],
   "source": [
    "X_test.shape, y_test.shape"
   ]
  },
  {
   "cell_type": "code",
   "execution_count": 103,
   "id": "cleared-bonus",
   "metadata": {
    "execution": {
     "iopub.execute_input": "2021-04-15T16:43:13.091797Z",
     "iopub.status.busy": "2021-04-15T16:43:13.090830Z",
     "iopub.status.idle": "2021-04-15T16:43:13.097733Z",
     "shell.execute_reply": "2021-04-15T16:43:13.098331Z"
    },
    "papermill": {
     "duration": 0.147585,
     "end_time": "2021-04-15T16:43:13.098502",
     "exception": false,
     "start_time": "2021-04-15T16:43:12.950917",
     "status": "completed"
    },
    "tags": []
   },
   "outputs": [
    {
     "data": {
      "text/plain": [
       "0    3893\n",
       "1     194\n",
       "Name: stroke, dtype: int64"
      ]
     },
     "execution_count": 103,
     "metadata": {},
     "output_type": "execute_result"
    }
   ],
   "source": [
    "y_train.value_counts()"
   ]
  },
  {
   "cell_type": "code",
   "execution_count": 104,
   "id": "amazing-hundred",
   "metadata": {
    "execution": {
     "iopub.execute_input": "2021-04-15T16:43:13.375928Z",
     "iopub.status.busy": "2021-04-15T16:43:13.374956Z",
     "iopub.status.idle": "2021-04-15T16:43:13.381955Z",
     "shell.execute_reply": "2021-04-15T16:43:13.382491Z"
    },
    "papermill": {
     "duration": 0.147836,
     "end_time": "2021-04-15T16:43:13.382694",
     "exception": false,
     "start_time": "2021-04-15T16:43:13.234858",
     "status": "completed"
    },
    "tags": []
   },
   "outputs": [
    {
     "data": {
      "text/plain": [
       "0    967\n",
       "1     55\n",
       "Name: stroke, dtype: int64"
      ]
     },
     "execution_count": 104,
     "metadata": {},
     "output_type": "execute_result"
    }
   ],
   "source": [
    "y_test.value_counts()"
   ]
  },
  {
   "cell_type": "code",
   "execution_count": 105,
   "id": "pacific-diving",
   "metadata": {
    "execution": {
     "iopub.execute_input": "2021-04-15T16:43:13.661619Z",
     "iopub.status.busy": "2021-04-15T16:43:13.660962Z",
     "iopub.status.idle": "2021-04-15T16:43:13.827973Z",
     "shell.execute_reply": "2021-04-15T16:43:13.827291Z"
    },
    "papermill": {
     "duration": 0.307419,
     "end_time": "2021-04-15T16:43:13.828115",
     "exception": false,
     "start_time": "2021-04-15T16:43:13.520696",
     "status": "completed"
    },
    "tags": []
   },
   "outputs": [
    {
     "data": {
      "image/png": "[encoded data removed]",
      "text/plain": [
       "<Figure size 432x288 with 1 Axes>"
      ]
     },
     "metadata": {
      "needs_background": "light"
     },
     "output_type": "display_data"
    }
   ],
   "source": [
    "plt.bar(x = y_train.value_counts().index, height = y_train.value_counts().values);"
   ]
  },
  {
   "cell_type": "markdown",
   "id": "valued-volume",
   "metadata": {
    "papermill": {
     "duration": 0.136397,
     "end_time": "2021-04-15T16:43:14.103944",
     "exception": false,
     "start_time": "2021-04-15T16:43:13.967547",
     "status": "completed"
    },
    "tags": []
   },
   "source": [
    "It's imbalanced data, we have to upsample '1' in **training set-y**"
   ]
  },
  {
   "cell_type": "code",
   "execution_count": 106,
   "id": "billion-bunny",
   "metadata": {
    "execution": {
     "iopub.execute_input": "2021-04-15T16:43:14.385575Z",
     "iopub.status.busy": "2021-04-15T16:43:14.384891Z",
     "iopub.status.idle": "2021-04-15T16:43:14.388124Z",
     "shell.execute_reply": "2021-04-15T16:43:14.387574Z"
    },
    "papermill": {
     "duration": 0.145548,
     "end_time": "2021-04-15T16:43:14.388279",
     "exception": false,
     "start_time": "2021-04-15T16:43:14.242731",
     "status": "completed"
    },
    "tags": []
   },
   "outputs": [],
   "source": [
    "from sklearn.utils import resample"
   ]
  },
  {
   "cell_type": "code",
   "execution_count": 107,
   "id": "headed-mongolia",
   "metadata": {
    "execution": {
     "iopub.execute_input": "2021-04-15T16:43:14.671682Z",
     "iopub.status.busy": "2021-04-15T16:43:14.670990Z",
     "iopub.status.idle": "2021-04-15T16:43:14.675458Z",
     "shell.execute_reply": "2021-04-15T16:43:14.674862Z"
    },
    "papermill": {
     "duration": 0.148556,
     "end_time": "2021-04-15T16:43:14.675618",
     "exception": false,
     "start_time": "2021-04-15T16:43:14.527062",
     "status": "completed"
    },
    "tags": []
   },
   "outputs": [],
   "source": [
    "train_df = pd.concat([X_train,y_train], axis=1)"
   ]
  },
  {
   "cell_type": "code",
   "execution_count": 108,
   "id": "expanded-faith",
   "metadata": {
    "execution": {
     "iopub.execute_input": "2021-04-15T16:43:14.959160Z",
     "iopub.status.busy": "2021-04-15T16:43:14.958386Z",
     "iopub.status.idle": "2021-04-15T16:43:14.982410Z",
     "shell.execute_reply": "2021-04-15T16:43:14.981715Z"
    },
    "papermill": {
     "duration": 0.168353,
     "end_time": "2021-04-15T16:43:14.982571",
     "exception": false,
     "start_time": "2021-04-15T16:43:14.814218",
     "status": "completed"
    },
    "tags": []
   },
   "outputs": [
    {
     "data": {
      "text/html": [
       "<div>\n",
       "<style scoped>\n",
       "    .dataframe tbody tr th:only-of-type {\n",
       "        vertical-align: middle;\n",
       "    }\n",
       "\n",
       "    .dataframe tbody tr th {\n",
       "        vertical-align: top;\n",
       "    }\n",
       "\n",
       "    .dataframe thead th {\n",
       "        text-align: right;\n",
       "    }\n",
       "</style>\n",
       "<table border=\"1\" class=\"dataframe\">\n",
       "  <thead>\n",
       "    <tr style=\"text-align: right;\">\n",
       "      <th></th>\n",
       "      <th>gender</th>\n",
       "      <th>hypertension</th>\n",
       "      <th>heart_disease</th>\n",
       "      <th>ever_married</th>\n",
       "      <th>Residence_type</th>\n",
       "      <th>age_20 to 39</th>\n",
       "      <th>age_40 to 59</th>\n",
       "      <th>age_over 60</th>\n",
       "      <th>age_under 19</th>\n",
       "      <th>gl_26% to 50%</th>\n",
       "      <th>...</th>\n",
       "      <th>Children</th>\n",
       "      <th>bmi_26% to 50%</th>\n",
       "      <th>bmi_50% to 75%</th>\n",
       "      <th>bmi_over 75%</th>\n",
       "      <th>bmi_under 25%</th>\n",
       "      <th>Unknown</th>\n",
       "      <th>formerly smoked</th>\n",
       "      <th>never smoked</th>\n",
       "      <th>smokes</th>\n",
       "      <th>stroke</th>\n",
       "    </tr>\n",
       "  </thead>\n",
       "  <tbody>\n",
       "    <tr>\n",
       "      <th>1977</th>\n",
       "      <td>1</td>\n",
       "      <td>0</td>\n",
       "      <td>0</td>\n",
       "      <td>1</td>\n",
       "      <td>1</td>\n",
       "      <td>1</td>\n",
       "      <td>0</td>\n",
       "      <td>0</td>\n",
       "      <td>0</td>\n",
       "      <td>0</td>\n",
       "      <td>...</td>\n",
       "      <td>0</td>\n",
       "      <td>0</td>\n",
       "      <td>0</td>\n",
       "      <td>0</td>\n",
       "      <td>1</td>\n",
       "      <td>0</td>\n",
       "      <td>0</td>\n",
       "      <td>1</td>\n",
       "      <td>0</td>\n",
       "      <td>0</td>\n",
       "    </tr>\n",
       "    <tr>\n",
       "      <th>3378</th>\n",
       "      <td>0</td>\n",
       "      <td>0</td>\n",
       "      <td>0</td>\n",
       "      <td>1</td>\n",
       "      <td>1</td>\n",
       "      <td>0</td>\n",
       "      <td>1</td>\n",
       "      <td>0</td>\n",
       "      <td>0</td>\n",
       "      <td>0</td>\n",
       "      <td>...</td>\n",
       "      <td>0</td>\n",
       "      <td>1</td>\n",
       "      <td>0</td>\n",
       "      <td>0</td>\n",
       "      <td>0</td>\n",
       "      <td>0</td>\n",
       "      <td>1</td>\n",
       "      <td>0</td>\n",
       "      <td>0</td>\n",
       "      <td>0</td>\n",
       "    </tr>\n",
       "    <tr>\n",
       "      <th>924</th>\n",
       "      <td>0</td>\n",
       "      <td>0</td>\n",
       "      <td>0</td>\n",
       "      <td>1</td>\n",
       "      <td>1</td>\n",
       "      <td>0</td>\n",
       "      <td>0</td>\n",
       "      <td>1</td>\n",
       "      <td>0</td>\n",
       "      <td>1</td>\n",
       "      <td>...</td>\n",
       "      <td>0</td>\n",
       "      <td>1</td>\n",
       "      <td>0</td>\n",
       "      <td>0</td>\n",
       "      <td>0</td>\n",
       "      <td>0</td>\n",
       "      <td>0</td>\n",
       "      <td>1</td>\n",
       "      <td>0</td>\n",
       "      <td>0</td>\n",
       "    </tr>\n",
       "    <tr>\n",
       "      <th>4104</th>\n",
       "      <td>0</td>\n",
       "      <td>0</td>\n",
       "      <td>0</td>\n",
       "      <td>0</td>\n",
       "      <td>1</td>\n",
       "      <td>0</td>\n",
       "      <td>1</td>\n",
       "      <td>0</td>\n",
       "      <td>0</td>\n",
       "      <td>0</td>\n",
       "      <td>...</td>\n",
       "      <td>0</td>\n",
       "      <td>1</td>\n",
       "      <td>0</td>\n",
       "      <td>0</td>\n",
       "      <td>0</td>\n",
       "      <td>0</td>\n",
       "      <td>0</td>\n",
       "      <td>0</td>\n",
       "      <td>1</td>\n",
       "      <td>0</td>\n",
       "    </tr>\n",
       "    <tr>\n",
       "      <th>3878</th>\n",
       "      <td>0</td>\n",
       "      <td>0</td>\n",
       "      <td>0</td>\n",
       "      <td>1</td>\n",
       "      <td>0</td>\n",
       "      <td>1</td>\n",
       "      <td>0</td>\n",
       "      <td>0</td>\n",
       "      <td>0</td>\n",
       "      <td>0</td>\n",
       "      <td>...</td>\n",
       "      <td>0</td>\n",
       "      <td>0</td>\n",
       "      <td>0</td>\n",
       "      <td>1</td>\n",
       "      <td>0</td>\n",
       "      <td>0</td>\n",
       "      <td>0</td>\n",
       "      <td>0</td>\n",
       "      <td>1</td>\n",
       "      <td>0</td>\n",
       "    </tr>\n",
       "    <tr>\n",
       "      <th>...</th>\n",
       "      <td>...</td>\n",
       "      <td>...</td>\n",
       "      <td>...</td>\n",
       "      <td>...</td>\n",
       "      <td>...</td>\n",
       "      <td>...</td>\n",
       "      <td>...</td>\n",
       "      <td>...</td>\n",
       "      <td>...</td>\n",
       "      <td>...</td>\n",
       "      <td>...</td>\n",
       "      <td>...</td>\n",
       "      <td>...</td>\n",
       "      <td>...</td>\n",
       "      <td>...</td>\n",
       "      <td>...</td>\n",
       "      <td>...</td>\n",
       "      <td>...</td>\n",
       "      <td>...</td>\n",
       "      <td>...</td>\n",
       "      <td>...</td>\n",
       "    </tr>\n",
       "    <tr>\n",
       "      <th>681</th>\n",
       "      <td>0</td>\n",
       "      <td>0</td>\n",
       "      <td>0</td>\n",
       "      <td>0</td>\n",
       "      <td>0</td>\n",
       "      <td>0</td>\n",
       "      <td>0</td>\n",
       "      <td>0</td>\n",
       "      <td>1</td>\n",
       "      <td>0</td>\n",
       "      <td>...</td>\n",
       "      <td>0</td>\n",
       "      <td>0</td>\n",
       "      <td>0</td>\n",
       "      <td>0</td>\n",
       "      <td>1</td>\n",
       "      <td>0</td>\n",
       "      <td>0</td>\n",
       "      <td>1</td>\n",
       "      <td>0</td>\n",
       "      <td>0</td>\n",
       "    </tr>\n",
       "    <tr>\n",
       "      <th>4182</th>\n",
       "      <td>0</td>\n",
       "      <td>0</td>\n",
       "      <td>0</td>\n",
       "      <td>1</td>\n",
       "      <td>0</td>\n",
       "      <td>0</td>\n",
       "      <td>0</td>\n",
       "      <td>1</td>\n",
       "      <td>0</td>\n",
       "      <td>0</td>\n",
       "      <td>...</td>\n",
       "      <td>0</td>\n",
       "      <td>1</td>\n",
       "      <td>0</td>\n",
       "      <td>0</td>\n",
       "      <td>0</td>\n",
       "      <td>0</td>\n",
       "      <td>0</td>\n",
       "      <td>1</td>\n",
       "      <td>0</td>\n",
       "      <td>0</td>\n",
       "    </tr>\n",
       "    <tr>\n",
       "      <th>4820</th>\n",
       "      <td>0</td>\n",
       "      <td>0</td>\n",
       "      <td>0</td>\n",
       "      <td>1</td>\n",
       "      <td>0</td>\n",
       "      <td>1</td>\n",
       "      <td>0</td>\n",
       "      <td>0</td>\n",
       "      <td>0</td>\n",
       "      <td>0</td>\n",
       "      <td>...</td>\n",
       "      <td>0</td>\n",
       "      <td>0</td>\n",
       "      <td>1</td>\n",
       "      <td>0</td>\n",
       "      <td>0</td>\n",
       "      <td>0</td>\n",
       "      <td>0</td>\n",
       "      <td>1</td>\n",
       "      <td>0</td>\n",
       "      <td>0</td>\n",
       "    </tr>\n",
       "    <tr>\n",
       "      <th>2004</th>\n",
       "      <td>1</td>\n",
       "      <td>0</td>\n",
       "      <td>0</td>\n",
       "      <td>1</td>\n",
       "      <td>0</td>\n",
       "      <td>0</td>\n",
       "      <td>1</td>\n",
       "      <td>0</td>\n",
       "      <td>0</td>\n",
       "      <td>0</td>\n",
       "      <td>...</td>\n",
       "      <td>0</td>\n",
       "      <td>0</td>\n",
       "      <td>0</td>\n",
       "      <td>1</td>\n",
       "      <td>0</td>\n",
       "      <td>0</td>\n",
       "      <td>0</td>\n",
       "      <td>1</td>\n",
       "      <td>0</td>\n",
       "      <td>0</td>\n",
       "    </tr>\n",
       "    <tr>\n",
       "      <th>3924</th>\n",
       "      <td>0</td>\n",
       "      <td>0</td>\n",
       "      <td>0</td>\n",
       "      <td>1</td>\n",
       "      <td>0</td>\n",
       "      <td>0</td>\n",
       "      <td>0</td>\n",
       "      <td>1</td>\n",
       "      <td>0</td>\n",
       "      <td>0</td>\n",
       "      <td>...</td>\n",
       "      <td>0</td>\n",
       "      <td>0</td>\n",
       "      <td>1</td>\n",
       "      <td>0</td>\n",
       "      <td>0</td>\n",
       "      <td>0</td>\n",
       "      <td>0</td>\n",
       "      <td>0</td>\n",
       "      <td>1</td>\n",
       "      <td>0</td>\n",
       "    </tr>\n",
       "  </tbody>\n",
       "</table>\n",
       "<p>4087 rows × 27 columns</p>\n",
       "</div>"
      ],
      "text/plain": [
       "      gender  hypertension  heart_disease  ever_married  Residence_type  \\\n",
       "1977       1             0              0             1               1   \n",
       "3378       0             0              0             1               1   \n",
       "924        0             0              0             1               1   \n",
       "4104       0             0              0             0               1   \n",
       "3878       0             0              0             1               0   \n",
       "...      ...           ...            ...           ...             ...   \n",
       "681        0             0              0             0               0   \n",
       "4182       0             0              0             1               0   \n",
       "4820       0             0              0             1               0   \n",
       "2004       1             0              0             1               0   \n",
       "3924       0             0              0             1               0   \n",
       "\n",
       "      age_20 to 39  age_40 to 59  age_over 60  age_under 19  gl_26% to 50%  \\\n",
       "1977             1             0            0             0              0   \n",
       "3378             0             1            0             0              0   \n",
       "924              0             0            1             0              1   \n",
       "4104             0             1            0             0              0   \n",
       "3878             1             0            0             0              0   \n",
       "...            ...           ...          ...           ...            ...   \n",
       "681              0             0            0             1              0   \n",
       "4182             0             0            1             0              0   \n",
       "4820             1             0            0             0              0   \n",
       "2004             0             1            0             0              0   \n",
       "3924             0             0            1             0              0   \n",
       "\n",
       "      ...  Children  bmi_26% to 50%  bmi_50% to 75%  bmi_over 75%  \\\n",
       "1977  ...         0               0               0             0   \n",
       "3378  ...         0               1               0             0   \n",
       "924   ...         0               1               0             0   \n",
       "4104  ...         0               1               0             0   \n",
       "3878  ...         0               0               0             1   \n",
       "...   ...       ...             ...             ...           ...   \n",
       "681   ...         0               0               0             0   \n",
       "4182  ...         0               1               0             0   \n",
       "4820  ...         0               0               1             0   \n",
       "2004  ...         0               0               0             1   \n",
       "3924  ...         0               0               1             0   \n",
       "\n",
       "      bmi_under 25%  Unknown  formerly smoked  never smoked  smokes  stroke  \n",
       "1977              1        0                0             1       0       0  \n",
       "3378              0        0                1             0       0       0  \n",
       "924               0        0                0             1       0       0  \n",
       "4104              0        0                0             0       1       0  \n",
       "3878              0        0                0             0       1       0  \n",
       "...             ...      ...              ...           ...     ...     ...  \n",
       "681               1        0                0             1       0       0  \n",
       "4182              0        0                0             1       0       0  \n",
       "4820              0        0                0             1       0       0  \n",
       "2004              0        0                0             1       0       0  \n",
       "3924              0        0                0             0       1       0  \n",
       "\n",
       "[4087 rows x 27 columns]"
      ]
     },
     "execution_count": 108,
     "metadata": {},
     "output_type": "execute_result"
    }
   ],
   "source": [
    "train_df"
   ]
  },
  {
   "cell_type": "code",
   "execution_count": 109,
   "id": "shaped-commonwealth",
   "metadata": {
    "execution": {
     "iopub.execute_input": "2021-04-15T16:43:15.269384Z",
     "iopub.status.busy": "2021-04-15T16:43:15.268683Z",
     "iopub.status.idle": "2021-04-15T16:43:15.274953Z",
     "shell.execute_reply": "2021-04-15T16:43:15.274296Z"
    },
    "papermill": {
     "duration": 0.151775,
     "end_time": "2021-04-15T16:43:15.275178",
     "exception": false,
     "start_time": "2021-04-15T16:43:15.123403",
     "status": "completed"
    },
    "tags": []
   },
   "outputs": [],
   "source": [
    "train_0 = train_df[train_df['stroke']==0]\n",
    "train_1 = train_df[train_df['stroke']==1]\n"
   ]
  },
  {
   "cell_type": "code",
   "execution_count": 110,
   "id": "genetic-leather",
   "metadata": {
    "execution": {
     "iopub.execute_input": "2021-04-15T16:43:15.558779Z",
     "iopub.status.busy": "2021-04-15T16:43:15.557691Z",
     "iopub.status.idle": "2021-04-15T16:43:15.562064Z",
     "shell.execute_reply": "2021-04-15T16:43:15.561584Z"
    },
    "papermill": {
     "duration": 0.147858,
     "end_time": "2021-04-15T16:43:15.562219",
     "exception": false,
     "start_time": "2021-04-15T16:43:15.414361",
     "status": "completed"
    },
    "tags": []
   },
   "outputs": [
    {
     "data": {
      "text/plain": [
       "((3893, 27), (194, 27))"
      ]
     },
     "execution_count": 110,
     "metadata": {},
     "output_type": "execute_result"
    }
   ],
   "source": [
    "train_0.shape, train_1.shape"
   ]
  },
  {
   "cell_type": "code",
   "execution_count": 111,
   "id": "champion-fitting",
   "metadata": {
    "execution": {
     "iopub.execute_input": "2021-04-15T16:43:15.847660Z",
     "iopub.status.busy": "2021-04-15T16:43:15.846725Z",
     "iopub.status.idle": "2021-04-15T16:43:15.852966Z",
     "shell.execute_reply": "2021-04-15T16:43:15.853498Z"
    },
    "papermill": {
     "duration": 0.152214,
     "end_time": "2021-04-15T16:43:15.853688",
     "exception": false,
     "start_time": "2021-04-15T16:43:15.701474",
     "status": "completed"
    },
    "tags": []
   },
   "outputs": [
    {
     "data": {
      "text/plain": [
       "(3893, 27)"
      ]
     },
     "execution_count": 111,
     "metadata": {},
     "output_type": "execute_result"
    }
   ],
   "source": [
    "upsampled_train_1 = resample(train_1,\n",
    "                             replace=True,\n",
    "                             n_samples=3893,\n",
    "                             random_state=123\n",
    "                            )\n",
    "upsampled_train_1.shape"
   ]
  },
  {
   "cell_type": "code",
   "execution_count": 112,
   "id": "hindu-baking",
   "metadata": {
    "execution": {
     "iopub.execute_input": "2021-04-15T16:43:16.138167Z",
     "iopub.status.busy": "2021-04-15T16:43:16.137171Z",
     "iopub.status.idle": "2021-04-15T16:43:16.143537Z",
     "shell.execute_reply": "2021-04-15T16:43:16.144108Z"
    },
    "papermill": {
     "duration": 0.151073,
     "end_time": "2021-04-15T16:43:16.144290",
     "exception": false,
     "start_time": "2021-04-15T16:43:15.993217",
     "status": "completed"
    },
    "tags": []
   },
   "outputs": [],
   "source": [
    "upsampled_train = pd.concat([train_0, upsampled_train_1])"
   ]
  },
  {
   "cell_type": "code",
   "execution_count": 113,
   "id": "cutting-monday",
   "metadata": {
    "execution": {
     "iopub.execute_input": "2021-04-15T16:43:16.428527Z",
     "iopub.status.busy": "2021-04-15T16:43:16.427572Z",
     "iopub.status.idle": "2021-04-15T16:43:16.434844Z",
     "shell.execute_reply": "2021-04-15T16:43:16.435285Z"
    },
    "papermill": {
     "duration": 0.150896,
     "end_time": "2021-04-15T16:43:16.435511",
     "exception": false,
     "start_time": "2021-04-15T16:43:16.284615",
     "status": "completed"
    },
    "tags": []
   },
   "outputs": [
    {
     "data": {
      "text/plain": [
       "0    3893\n",
       "1    3893\n",
       "Name: stroke, dtype: int64"
      ]
     },
     "execution_count": 113,
     "metadata": {},
     "output_type": "execute_result"
    }
   ],
   "source": [
    "upsampled_train['stroke'].value_counts()"
   ]
  },
  {
   "cell_type": "code",
   "execution_count": 114,
   "id": "greater-joshua",
   "metadata": {
    "execution": {
     "iopub.execute_input": "2021-04-15T16:43:16.719411Z",
     "iopub.status.busy": "2021-04-15T16:43:16.718418Z",
     "iopub.status.idle": "2021-04-15T16:43:16.725196Z",
     "shell.execute_reply": "2021-04-15T16:43:16.725719Z"
    },
    "papermill": {
     "duration": 0.150843,
     "end_time": "2021-04-15T16:43:16.725917",
     "exception": false,
     "start_time": "2021-04-15T16:43:16.575074",
     "status": "completed"
    },
    "tags": []
   },
   "outputs": [],
   "source": [
    "X_train = upsampled_train.drop('stroke',axis=1)\n",
    "y_train = upsampled_train['stroke']"
   ]
  },
  {
   "cell_type": "markdown",
   "id": "iraqi-letters",
   "metadata": {
    "papermill": {
     "duration": 0.140143,
     "end_time": "2021-04-15T16:43:17.008915",
     "exception": false,
     "start_time": "2021-04-15T16:43:16.868772",
     "status": "completed"
    },
    "tags": []
   },
   "source": [
    "### Step 4. Modeling & Prediction"
   ]
  },
  {
   "cell_type": "markdown",
   "id": "million-initial",
   "metadata": {
    "papermill": {
     "duration": 0.139464,
     "end_time": "2021-04-15T16:43:17.290438",
     "exception": false,
     "start_time": "2021-04-15T16:43:17.150974",
     "status": "completed"
    },
    "tags": []
   },
   "source": [
    "1. RandomForestClassifier"
   ]
  },
  {
   "cell_type": "code",
   "execution_count": 115,
   "id": "political-dividend",
   "metadata": {
    "execution": {
     "iopub.execute_input": "2021-04-15T16:43:17.578127Z",
     "iopub.status.busy": "2021-04-15T16:43:17.577196Z",
     "iopub.status.idle": "2021-04-15T16:43:17.836210Z",
     "shell.execute_reply": "2021-04-15T16:43:17.835595Z"
    },
    "papermill": {
     "duration": 0.402029,
     "end_time": "2021-04-15T16:43:17.836382",
     "exception": false,
     "start_time": "2021-04-15T16:43:17.434353",
     "status": "completed"
    },
    "tags": []
   },
   "outputs": [],
   "source": [
    "from sklearn.ensemble import RandomForestClassifier"
   ]
  },
  {
   "cell_type": "code",
   "execution_count": 116,
   "id": "continuing-stereo",
   "metadata": {
    "execution": {
     "iopub.execute_input": "2021-04-15T16:43:18.131039Z",
     "iopub.status.busy": "2021-04-15T16:43:18.129932Z",
     "iopub.status.idle": "2021-04-15T16:43:18.800947Z",
     "shell.execute_reply": "2021-04-15T16:43:18.799890Z"
    },
    "papermill": {
     "duration": 0.821867,
     "end_time": "2021-04-15T16:43:18.801211",
     "exception": false,
     "start_time": "2021-04-15T16:43:17.979344",
     "status": "completed"
    },
    "tags": []
   },
   "outputs": [
    {
     "name": "stdout",
     "output_type": "stream",
     "text": [
      "Train Accuracy : 0.97\n",
      "Test Accuracy : 0.90\n"
     ]
    }
   ],
   "source": [
    "rfc = RandomForestClassifier(n_estimators=100)\n",
    "rfc.fit(X_train, y_train)\n",
    "print('Train Accuracy : {:.2f}'.format(rfc.score(X_train, y_train)))\n",
    "print('Test Accuracy : {:.2f}'.format(rfc.score(X_test, y_test)))"
   ]
  },
  {
   "cell_type": "markdown",
   "id": "mighty-fellowship",
   "metadata": {
    "papermill": {
     "duration": 0.14195,
     "end_time": "2021-04-15T16:43:19.087472",
     "exception": false,
     "start_time": "2021-04-15T16:43:18.945522",
     "status": "completed"
    },
    "tags": []
   },
   "source": [
    "2. GradientBoostingClassifier"
   ]
  },
  {
   "cell_type": "code",
   "execution_count": 117,
   "id": "facial-anderson",
   "metadata": {
    "execution": {
     "iopub.execute_input": "2021-04-15T16:43:19.381308Z",
     "iopub.status.busy": "2021-04-15T16:43:19.380652Z",
     "iopub.status.idle": "2021-04-15T16:45:18.396642Z",
     "shell.execute_reply": "2021-04-15T16:45:18.397186Z"
    },
    "papermill": {
     "duration": 119.168731,
     "end_time": "2021-04-15T16:45:18.397402",
     "exception": false,
     "start_time": "2021-04-15T16:43:19.228671",
     "status": "completed"
    },
    "tags": []
   },
   "outputs": [
    {
     "name": "stdout",
     "output_type": "stream",
     "text": [
      "max_depth : 1\n",
      "n_estimators : 50\n",
      "Train Score : 0.7499357821731313\n",
      "Train Score : 0.7426614481409002\n",
      "----------------------------------------------------\n",
      "max_depth : 1\n",
      "n_estimators : 100\n",
      "Train Score : 0.7528898022090933\n",
      "Train Score : 0.7172211350293543\n",
      "----------------------------------------------------\n",
      "max_depth : 1\n",
      "n_estimators : 150\n",
      "Train Score : 0.7549447726688929\n",
      "Train Score : 0.7084148727984344\n",
      "----------------------------------------------------\n",
      "max_depth : 1\n",
      "n_estimators : 200\n",
      "Train Score : 0.7537888517852556\n",
      "Train Score : 0.7074363992172211\n",
      "----------------------------------------------------\n",
      "max_depth : 1\n",
      "n_estimators : 250\n",
      "Train Score : 0.7549447726688929\n",
      "Train Score : 0.7045009784735812\n",
      "----------------------------------------------------\n",
      "max_depth : 1\n",
      "n_estimators : 300\n",
      "Train Score : 0.7566144361674801\n",
      "Train Score : 0.7035225048923679\n",
      "----------------------------------------------------\n",
      "max_depth : 1\n",
      "n_estimators : 350\n",
      "Train Score : 0.7563575648600052\n",
      "Train Score : 0.7025440313111546\n",
      "----------------------------------------------------\n",
      "max_depth : 1\n",
      "n_estimators : 400\n",
      "Train Score : 0.7564860005137426\n",
      "Train Score : 0.7025440313111546\n",
      "----------------------------------------------------\n",
      "max_depth : 2\n",
      "n_estimators : 50\n",
      "Train Score : 0.7634215258155664\n",
      "Train Score : 0.7152641878669276\n",
      "----------------------------------------------------\n",
      "max_depth : 2\n",
      "n_estimators : 100\n",
      "Train Score : 0.7712561006935525\n",
      "Train Score : 0.6966731898238747\n",
      "----------------------------------------------------\n",
      "max_depth : 2\n",
      "n_estimators : 150\n",
      "Train Score : 0.7833290521448755\n",
      "Train Score : 0.6956947162426614\n",
      "----------------------------------------------------\n",
      "max_depth : 2\n",
      "n_estimators : 200\n",
      "Train Score : 0.7862830721808374\n",
      "Train Score : 0.7025440313111546\n",
      "----------------------------------------------------\n",
      "max_depth : 2\n",
      "n_estimators : 250\n",
      "Train Score : 0.7968147957873105\n",
      "Train Score : 0.7025440313111546\n",
      "----------------------------------------------------\n",
      "max_depth : 2\n",
      "n_estimators : 300\n",
      "Train Score : 0.7954020035961983\n",
      "Train Score : 0.7084148727984344\n",
      "----------------------------------------------------\n",
      "max_depth : 2\n",
      "n_estimators : 350\n",
      "Train Score : 0.8006678653994349\n",
      "Train Score : 0.7084148727984344\n",
      "----------------------------------------------------\n",
      "max_depth : 2\n",
      "n_estimators : 400\n",
      "Train Score : 0.8115848959671205\n",
      "Train Score : 0.7093933463796478\n",
      "----------------------------------------------------\n",
      "max_depth : 3\n",
      "n_estimators : 50\n",
      "Train Score : 0.7819162599537631\n",
      "Train Score : 0.7064579256360078\n",
      "----------------------------------------------------\n",
      "max_depth : 3\n",
      "n_estimators : 100\n",
      "Train Score : 0.8158232725404573\n",
      "Train Score : 0.7084148727984344\n",
      "----------------------------------------------------\n",
      "max_depth : 3\n",
      "n_estimators : 150\n",
      "Train Score : 0.8291805805291549\n",
      "Train Score : 0.7201565557729941\n",
      "----------------------------------------------------\n",
      "max_depth : 3\n",
      "n_estimators : 200\n",
      "Train Score : 0.8391985615206782\n",
      "Train Score : 0.7348336594911937\n",
      "----------------------------------------------------\n",
      "max_depth : 3\n",
      "n_estimators : 250\n",
      "Train Score : 0.8493449781659389\n",
      "Train Score : 0.7416829745596869\n",
      "----------------------------------------------------\n",
      "max_depth : 3\n",
      "n_estimators : 300\n",
      "Train Score : 0.851785255586951\n",
      "Train Score : 0.7475538160469667\n",
      "----------------------------------------------------\n",
      "max_depth : 3\n",
      "n_estimators : 350\n",
      "Train Score : 0.8594913948111996\n",
      "Train Score : 0.7534246575342466\n",
      "----------------------------------------------------\n",
      "max_depth : 3\n",
      "n_estimators : 400\n",
      "Train Score : 0.8688671975340354\n",
      "Train Score : 0.7622309197651663\n",
      "----------------------------------------------------\n",
      "max_depth : 4\n",
      "n_estimators : 50\n",
      "Train Score : 0.8217313126123812\n",
      "Train Score : 0.7328767123287672\n",
      "----------------------------------------------------\n",
      "max_depth : 4\n",
      "n_estimators : 100\n",
      "Train Score : 0.8556383251990752\n",
      "Train Score : 0.7553816046966731\n",
      "----------------------------------------------------\n",
      "max_depth : 4\n",
      "n_estimators : 150\n",
      "Train Score : 0.8835088620601079\n",
      "Train Score : 0.7661448140900196\n",
      "----------------------------------------------------\n",
      "max_depth : 4\n",
      "n_estimators : 200\n",
      "Train Score : 0.8937837143591061\n",
      "Train Score : 0.7827788649706457\n",
      "----------------------------------------------------\n",
      "max_depth : 4\n",
      "n_estimators : 250\n",
      "Train Score : 0.9072694580015412\n",
      "Train Score : 0.7945205479452054\n",
      "----------------------------------------------------\n",
      "max_depth : 4\n",
      "n_estimators : 300\n",
      "Train Score : 0.9170305676855895\n",
      "Train Score : 0.7974559686888454\n",
      "----------------------------------------------------\n",
      "max_depth : 4\n",
      "n_estimators : 350\n",
      "Train Score : 0.9235807860262009\n",
      "Train Score : 0.8072407045009785\n",
      "----------------------------------------------------\n",
      "max_depth : 4\n",
      "n_estimators : 400\n",
      "Train Score : 0.9312869252504495\n",
      "Train Score : 0.812133072407045\n",
      "----------------------------------------------------\n",
      "max_depth : 5\n",
      "n_estimators : 50\n",
      "Train Score : 0.8751605445671718\n",
      "Train Score : 0.7720156555772995\n",
      "----------------------------------------------------\n",
      "max_depth : 5\n",
      "n_estimators : 100\n",
      "Train Score : 0.9140765476496275\n",
      "Train Score : 0.8043052837573386\n",
      "----------------------------------------------------\n",
      "max_depth : 5\n",
      "n_estimators : 150\n",
      "Train Score : 0.9287182121756999\n",
      "Train Score : 0.821917808219178\n",
      "----------------------------------------------------\n",
      "max_depth : 5\n",
      "n_estimators : 200\n",
      "Train Score : 0.9407911636270229\n",
      "Train Score : 0.8238747553816047\n",
      "----------------------------------------------------\n",
      "max_depth : 5\n",
      "n_estimators : 250\n",
      "Train Score : 0.9501669663498588\n",
      "Train Score : 0.8424657534246576\n",
      "----------------------------------------------------\n",
      "max_depth : 5\n",
      "n_estimators : 300\n",
      "Train Score : 0.9546622142306704\n",
      "Train Score : 0.8512720156555773\n",
      "----------------------------------------------------\n",
      "max_depth : 5\n",
      "n_estimators : 350\n",
      "Train Score : 0.9609555612638069\n",
      "Train Score : 0.8551859099804305\n",
      "----------------------------------------------------\n",
      "max_depth : 5\n",
      "n_estimators : 400\n",
      "Train Score : 0.9642948882609812\n",
      "Train Score : 0.860078277886497\n",
      "----------------------------------------------------\n",
      "max_depth : 6\n",
      "n_estimators : 50\n",
      "Train Score : 0.9081685075777036\n",
      "Train Score : 0.7974559686888454\n",
      "----------------------------------------------------\n",
      "max_depth : 6\n",
      "n_estimators : 100\n",
      "Train Score : 0.9424608271256101\n",
      "Train Score : 0.837573385518591\n",
      "----------------------------------------------------\n",
      "max_depth : 6\n",
      "n_estimators : 150\n",
      "Train Score : 0.9605702543025944\n",
      "Train Score : 0.8610567514677103\n",
      "----------------------------------------------------\n",
      "max_depth : 6\n",
      "n_estimators : 200\n",
      "Train Score : 0.9678910865656306\n",
      "Train Score : 0.8767123287671232\n",
      "----------------------------------------------------\n",
      "max_depth : 6\n",
      "n_estimators : 250\n",
      "Train Score : 0.9698176213716928\n",
      "Train Score : 0.8806262230919765\n",
      "----------------------------------------------------\n",
      "max_depth : 6\n",
      "n_estimators : 300\n",
      "Train Score : 0.9708451066015926\n",
      "Train Score : 0.8864970645792564\n",
      "----------------------------------------------------\n",
      "max_depth : 6\n",
      "n_estimators : 350\n",
      "Train Score : 0.9722578987927049\n",
      "Train Score : 0.8884540117416829\n",
      "----------------------------------------------------\n",
      "max_depth : 6\n",
      "n_estimators : 400\n",
      "Train Score : 0.9727716414076548\n",
      "Train Score : 0.8913894324853229\n",
      "----------------------------------------------------\n",
      "max_depth : 7\n",
      "n_estimators : 50\n",
      "Train Score : 0.9393783714359106\n",
      "Train Score : 0.8307240704500979\n",
      "----------------------------------------------------\n",
      "max_depth : 7\n",
      "n_estimators : 100\n",
      "Train Score : 0.9654508091446186\n",
      "Train Score : 0.8718199608610567\n",
      "----------------------------------------------------\n",
      "max_depth : 7\n",
      "n_estimators : 150\n",
      "Train Score : 0.9713588492165425\n",
      "Train Score : 0.8825831702544031\n",
      "----------------------------------------------------\n",
      "max_depth : 7\n",
      "n_estimators : 200\n",
      "Train Score : 0.9727716414076548\n",
      "Train Score : 0.8933463796477495\n",
      "----------------------------------------------------\n",
      "max_depth : 7\n",
      "n_estimators : 250\n",
      "Train Score : 0.9735422553300797\n",
      "Train Score : 0.8943248532289628\n",
      "----------------------------------------------------\n",
      "max_depth : 7\n",
      "n_estimators : 300\n",
      "Train Score : 0.9735422553300797\n",
      "Train Score : 0.8923679060665362\n",
      "----------------------------------------------------\n",
      "max_depth : 7\n",
      "n_estimators : 350\n",
      "Train Score : 0.9735422553300797\n",
      "Train Score : 0.8913894324853229\n",
      "----------------------------------------------------\n",
      "max_depth : 7\n",
      "n_estimators : 400\n",
      "Train Score : 0.9735422553300797\n",
      "Train Score : 0.8943248532289628\n",
      "----------------------------------------------------\n"
     ]
    }
   ],
   "source": [
    "best_params = {}\n",
    "score = 0\n",
    "from sklearn.ensemble import GradientBoostingClassifier\n",
    "for i in range(1,8):\n",
    "    for j in [50, 100, 150, 200, 250, 300, 350, 400]:\n",
    "        gbc = GradientBoostingClassifier(max_depth=i,\n",
    "                                         n_estimators=j\n",
    "                                        )\n",
    "        gbc.fit(X_train, y_train)\n",
    "\n",
    "        print('max_depth : {}'.format(i))\n",
    "        print('n_estimators : {}'.format(j))\n",
    "        print('Train Score : {}'.format(gbc.score(X_train,y_train)))\n",
    "        print('Train Score : {}'.format(gbc.score(X_test,y_test)))\n",
    "        print('----------------------------------------------------')\n",
    "        if gbc.score(X_test,y_test) > score:\n",
    "            score = gbc.score(X_test, y_test)\n",
    "            best_params['max_depth'] = i\n",
    "            best_params['n_estimators'] = j"
   ]
  },
  {
   "cell_type": "code",
   "execution_count": 118,
   "id": "fewer-application",
   "metadata": {
    "execution": {
     "iopub.execute_input": "2021-04-15T16:45:18.723092Z",
     "iopub.status.busy": "2021-04-15T16:45:18.722262Z",
     "iopub.status.idle": "2021-04-15T16:45:18.725813Z",
     "shell.execute_reply": "2021-04-15T16:45:18.726387Z"
    },
    "papermill": {
     "duration": 0.167481,
     "end_time": "2021-04-15T16:45:18.726572",
     "exception": false,
     "start_time": "2021-04-15T16:45:18.559091",
     "status": "completed"
    },
    "tags": []
   },
   "outputs": [
    {
     "data": {
      "text/plain": [
       "{'max_depth': 7, 'n_estimators': 250}"
      ]
     },
     "execution_count": 118,
     "metadata": {},
     "output_type": "execute_result"
    }
   ],
   "source": [
    "best_params"
   ]
  },
  {
   "cell_type": "code",
   "execution_count": 119,
   "id": "double-virgin",
   "metadata": {
    "execution": {
     "iopub.execute_input": "2021-04-15T16:45:19.053793Z",
     "iopub.status.busy": "2021-04-15T16:45:19.053036Z",
     "iopub.status.idle": "2021-04-15T16:45:19.060339Z",
     "shell.execute_reply": "2021-04-15T16:45:19.059714Z"
    },
    "papermill": {
     "duration": 0.173224,
     "end_time": "2021-04-15T16:45:19.060516",
     "exception": false,
     "start_time": "2021-04-15T16:45:18.887292",
     "status": "completed"
    },
    "tags": []
   },
   "outputs": [
    {
     "data": {
      "text/plain": [
       "0.8943248532289628"
      ]
     },
     "execution_count": 119,
     "metadata": {},
     "output_type": "execute_result"
    }
   ],
   "source": [
    "score"
   ]
  },
  {
   "cell_type": "code",
   "execution_count": null,
   "id": "elementary-green",
   "metadata": {
    "papermill": {
     "duration": 0.158984,
     "end_time": "2021-04-15T16:45:19.381645",
     "exception": false,
     "start_time": "2021-04-15T16:45:19.222661",
     "status": "completed"
    },
    "tags": []
   },
   "outputs": [],
   "source": []
  }
 ],
 "metadata": {
  "kernelspec": {
   "display_name": "Python 3",
   "language": "python",
   "name": "python3"
  },
  "language_info": {
   "codemirror_mode": {
    "name": "ipython",
    "version": 3
   },
   "file_extension": ".py",
   "mimetype": "text/x-python",
   "name": "python",
   "nbconvert_exporter": "python",
   "pygments_lexer": "ipython3",
   "version": "3.7.9"
  },
  "papermill": {
   "default_parameters": {},
   "duration": 169.778987,
   "end_time": "2021-04-15T16:45:20.252903",
   "environment_variables": {},
   "exception": null,
   "input_path": "__notebook__.ipynb",
   "output_path": "__notebook__.ipynb",
   "parameters": {},
   "start_time": "2021-04-15T16:42:30.473916",
   "version": "2.3.2"
  }
 },
 "nbformat": 4,
 "nbformat_minor": 5
}
